{
 "cells": [
  {
   "cell_type": "markdown",
   "metadata": {},
   "source": [
    "# Discovering Binding Sites on a Viral Genome with SMEAGOL"
   ]
  },
  {
   "cell_type": "markdown",
   "metadata": {},
   "source": [
    "This notebook demonstrates the functions for binding site discovery and enrichment. Here we use the genome of the Lymphocytic choriomeningitis mammarenavirus as an example."
   ]
  },
  {
   "cell_type": "markdown",
   "metadata": {},
   "source": [
    "## Import requirements"
   ]
  },
  {
   "cell_type": "code",
   "execution_count": 1,
   "metadata": {
    "scrolled": false
   },
   "outputs": [
    {
     "name": "stderr",
     "output_type": "stream",
     "text": [
      "Using TensorFlow backend.\n"
     ]
    }
   ],
   "source": [
    "# General imports\n",
    "import os\n",
    "import numpy as np\n",
    "import pandas as pd\n",
    "import time\n",
    "import matplotlib.pyplot as plt\n",
    "import seaborn as sns\n",
    "\n",
    "# Suppress FutureWarnings\n",
    "import warnings\n",
    "warnings.simplefilter(action='ignore', category=FutureWarning)\n",
    "\n",
    "# Find SMEAGOL\n",
    "import sys\n",
    "sys.path.append('../../SMEAGOL')\n",
    "\n",
    "# Custom imports\n",
    "from smeagol.utils import shuffle_records\n",
    "from smeagol.enrich import *\n",
    "from smeagol.visualization import *\n",
    "from smeagol.models import PWMModel \n",
    "from smeagol.encoding import MultiSeqEncoding\n",
    "from smeagol.fastaio import *\n",
    "from smeagol.inference import find_sites_multiseq"
   ]
  },
  {
   "cell_type": "markdown",
   "metadata": {},
   "source": [
    "## Load and explore PWMs filtered from Attract DB"
   ]
  },
  {
   "cell_type": "markdown",
   "metadata": {},
   "source": [
    "Below, we provide the path to the file containing PWMs filtered from Attract DB and RBPDB."
   ]
  },
  {
   "cell_type": "code",
   "execution_count": 2,
   "metadata": {},
   "outputs": [],
   "source": [
    "pwm_file = '../VirusHostInteractionAtlas/DATA/PWMs/attract_rbpdb_filtered_human_pwms.h5'"
   ]
  },
  {
   "cell_type": "markdown",
   "metadata": {},
   "source": [
    "We read PWMs from this file:"
   ]
  },
  {
   "cell_type": "code",
   "execution_count": 3,
   "metadata": {
    "scrolled": false
   },
   "outputs": [
    {
     "name": "stdout",
     "output_type": "stream",
     "text": [
      "CPU times: user 63.2 ms, sys: 28.2 ms, total: 91.4 ms\n",
      "Wall time: 709 ms\n"
     ]
    },
    {
     "data": {
      "text/html": [
       "<div>\n",
       "<style scoped>\n",
       "    .dataframe tbody tr th:only-of-type {\n",
       "        vertical-align: middle;\n",
       "    }\n",
       "\n",
       "    .dataframe tbody tr th {\n",
       "        vertical-align: top;\n",
       "    }\n",
       "\n",
       "    .dataframe thead th {\n",
       "        text-align: right;\n",
       "    }\n",
       "</style>\n",
       "<table border=\"1\" class=\"dataframe\">\n",
       "  <thead>\n",
       "    <tr style=\"text-align: right;\">\n",
       "      <th></th>\n",
       "      <th>Matrix_id</th>\n",
       "      <th>Gene_name</th>\n",
       "      <th>Gene_id</th>\n",
       "      <th>probs</th>\n",
       "      <th>weight</th>\n",
       "    </tr>\n",
       "  </thead>\n",
       "  <tbody>\n",
       "    <tr>\n",
       "      <th>0</th>\n",
       "      <td>s36</td>\n",
       "      <td>HNRNPDL</td>\n",
       "      <td>ENSG00000152795</td>\n",
       "      <td>[[0.844325153374, 0.000766871165644, 0.1541411...</td>\n",
       "      <td>[[1.7558705993328931, -8.3487281542314, -0.697...</td>\n",
       "    </tr>\n",
       "    <tr>\n",
       "      <th>1</th>\n",
       "      <td>M269_0.6</td>\n",
       "      <td>ZFP36</td>\n",
       "      <td>ENSG00000128016</td>\n",
       "      <td>[[0.97, 0.01, 0.01, 0.01], [0.97, 0.01, 0.01, ...</td>\n",
       "      <td>[[1.956056652412403, -4.643856189774724, -4.64...</td>\n",
       "    </tr>\n",
       "    <tr>\n",
       "      <th>2</th>\n",
       "      <td>M157_0.6</td>\n",
       "      <td>CELF5</td>\n",
       "      <td>ENSG00000161082</td>\n",
       "      <td>[[0.0839638134106, 0.0839638134106, 0.08396381...</td>\n",
       "      <td>[[-1.5740884983277694, -1.5740884983277694, -1...</td>\n",
       "    </tr>\n",
       "    <tr>\n",
       "      <th>3</th>\n",
       "      <td>M042_0.6</td>\n",
       "      <td>PABPC4</td>\n",
       "      <td>ENSG00000090621</td>\n",
       "      <td>[[0.778437101049, 0.103079871719, 0.1105254833...</td>\n",
       "      <td>[[1.6386523770814128, -1.278165447983456, -1.1...</td>\n",
       "    </tr>\n",
       "    <tr>\n",
       "      <th>4</th>\n",
       "      <td>M062_0.6</td>\n",
       "      <td>SART3</td>\n",
       "      <td>ENSG00000075856</td>\n",
       "      <td>[[0.757020210373, 0.0809932638995, 0.080993263...</td>\n",
       "      <td>[[1.5984037218569163, -1.6260542637885405, -1....</td>\n",
       "    </tr>\n",
       "  </tbody>\n",
       "</table>\n",
       "</div>"
      ],
      "text/plain": [
       "  Matrix_id Gene_name          Gene_id  \\\n",
       "0       s36   HNRNPDL  ENSG00000152795   \n",
       "1  M269_0.6     ZFP36  ENSG00000128016   \n",
       "2  M157_0.6     CELF5  ENSG00000161082   \n",
       "3  M042_0.6    PABPC4  ENSG00000090621   \n",
       "4  M062_0.6     SART3  ENSG00000075856   \n",
       "\n",
       "                                               probs  \\\n",
       "0  [[0.844325153374, 0.000766871165644, 0.1541411...   \n",
       "1  [[0.97, 0.01, 0.01, 0.01], [0.97, 0.01, 0.01, ...   \n",
       "2  [[0.0839638134106, 0.0839638134106, 0.08396381...   \n",
       "3  [[0.778437101049, 0.103079871719, 0.1105254833...   \n",
       "4  [[0.757020210373, 0.0809932638995, 0.080993263...   \n",
       "\n",
       "                                              weight  \n",
       "0  [[1.7558705993328931, -8.3487281542314, -0.697...  \n",
       "1  [[1.956056652412403, -4.643856189774724, -4.64...  \n",
       "2  [[-1.5740884983277694, -1.5740884983277694, -1...  \n",
       "3  [[1.6386523770814128, -1.278165447983456, -1.1...  \n",
       "4  [[1.5984037218569163, -1.6260542637885405, -1....  "
      ]
     },
     "execution_count": 3,
     "metadata": {},
     "output_type": "execute_result"
    }
   ],
   "source": [
    "%%time\n",
    "pwms = pd.read_hdf(pwm_file, key=\"data\")\n",
    "pwms.head()"
   ]
  },
  {
   "cell_type": "markdown",
   "metadata": {},
   "source": [
    "The `pwms` dataframe contains all the PWMs filtered from Attract and RBPDB. The column `Matrix_id` gives a unique ID for each PWM, and the column `Gene_name` gives the name of the RBP. We can see how many PWMs are in our list:"
   ]
  },
  {
   "cell_type": "code",
   "execution_count": 4,
   "metadata": {},
   "outputs": [
    {
     "data": {
      "text/plain": [
       "233"
      ]
     },
     "execution_count": 4,
     "metadata": {},
     "output_type": "execute_result"
    }
   ],
   "source": [
    "len(pwms)"
   ]
  },
  {
   "cell_type": "markdown",
   "metadata": {},
   "source": [
    "We have multiple PWMs for some RBPs. To see how many distinct RBPs are in the list:"
   ]
  },
  {
   "cell_type": "code",
   "execution_count": 5,
   "metadata": {},
   "outputs": [
    {
     "data": {
      "text/plain": [
       "106"
      ]
     },
     "execution_count": 5,
     "metadata": {},
     "output_type": "execute_result"
    }
   ],
   "source": [
    "len(pd.unique(pwms.Gene_name))"
   ]
  },
  {
   "cell_type": "markdown",
   "metadata": {},
   "source": [
    "We can select a particular PWM using its `Matrix_id`:"
   ]
  },
  {
   "cell_type": "code",
   "execution_count": 6,
   "metadata": {},
   "outputs": [
    {
     "data": {
      "text/html": [
       "<div>\n",
       "<style scoped>\n",
       "    .dataframe tbody tr th:only-of-type {\n",
       "        vertical-align: middle;\n",
       "    }\n",
       "\n",
       "    .dataframe tbody tr th {\n",
       "        vertical-align: top;\n",
       "    }\n",
       "\n",
       "    .dataframe thead th {\n",
       "        text-align: right;\n",
       "    }\n",
       "</style>\n",
       "<table border=\"1\" class=\"dataframe\">\n",
       "  <thead>\n",
       "    <tr style=\"text-align: right;\">\n",
       "      <th></th>\n",
       "      <th>Matrix_id</th>\n",
       "      <th>Gene_name</th>\n",
       "      <th>Gene_id</th>\n",
       "      <th>probs</th>\n",
       "      <th>weight</th>\n",
       "    </tr>\n",
       "  </thead>\n",
       "  <tbody>\n",
       "    <tr>\n",
       "      <th>0</th>\n",
       "      <td>s36</td>\n",
       "      <td>HNRNPDL</td>\n",
       "      <td>ENSG00000152795</td>\n",
       "      <td>[[0.844325153374, 0.000766871165644, 0.1541411...</td>\n",
       "      <td>[[1.7558705993328931, -8.3487281542314, -0.697...</td>\n",
       "    </tr>\n",
       "  </tbody>\n",
       "</table>\n",
       "</div>"
      ],
      "text/plain": [
       "  Matrix_id Gene_name          Gene_id  \\\n",
       "0       s36   HNRNPDL  ENSG00000152795   \n",
       "\n",
       "                                               probs  \\\n",
       "0  [[0.844325153374, 0.000766871165644, 0.1541411...   \n",
       "\n",
       "                                              weight  \n",
       "0  [[1.7558705993328931, -8.3487281542314, -0.697...  "
      ]
     },
     "execution_count": 6,
     "metadata": {},
     "output_type": "execute_result"
    }
   ],
   "source": [
    "pwms[pwms.Matrix_id=='s36']"
   ]
  },
  {
   "cell_type": "markdown",
   "metadata": {},
   "source": [
    "We can also select all PWMs for an RBP:"
   ]
  },
  {
   "cell_type": "code",
   "execution_count": 7,
   "metadata": {
    "scrolled": true
   },
   "outputs": [
    {
     "data": {
      "text/html": [
       "<div>\n",
       "<style scoped>\n",
       "    .dataframe tbody tr th:only-of-type {\n",
       "        vertical-align: middle;\n",
       "    }\n",
       "\n",
       "    .dataframe tbody tr th {\n",
       "        vertical-align: top;\n",
       "    }\n",
       "\n",
       "    .dataframe thead th {\n",
       "        text-align: right;\n",
       "    }\n",
       "</style>\n",
       "<table border=\"1\" class=\"dataframe\">\n",
       "  <thead>\n",
       "    <tr style=\"text-align: right;\">\n",
       "      <th></th>\n",
       "      <th>Matrix_id</th>\n",
       "      <th>Gene_name</th>\n",
       "      <th>Gene_id</th>\n",
       "      <th>probs</th>\n",
       "      <th>weight</th>\n",
       "    </tr>\n",
       "  </thead>\n",
       "  <tbody>\n",
       "    <tr>\n",
       "      <th>0</th>\n",
       "      <td>s36</td>\n",
       "      <td>HNRNPDL</td>\n",
       "      <td>ENSG00000152795</td>\n",
       "      <td>[[0.844325153374, 0.000766871165644, 0.1541411...</td>\n",
       "      <td>[[1.7558705993328931, -8.3487281542314, -0.697...</td>\n",
       "    </tr>\n",
       "    <tr>\n",
       "      <th>89</th>\n",
       "      <td>s44</td>\n",
       "      <td>HNRNPDL</td>\n",
       "      <td>ENSG00000152795</td>\n",
       "      <td>[[0.597222222222, 0.00198412698413, 0.39880952...</td>\n",
       "      <td>[[1.2563397532592488, -6.977279923497724, 0.67...</td>\n",
       "    </tr>\n",
       "    <tr>\n",
       "      <th>158</th>\n",
       "      <td>s35</td>\n",
       "      <td>HNRNPDL</td>\n",
       "      <td>ENSG00000152795</td>\n",
       "      <td>[[0.495098039216, 0.00490196078431, 0.00490196...</td>\n",
       "      <td>[[0.9857861407812133, -5.672425341972592, -5.6...</td>\n",
       "    </tr>\n",
       "    <tr>\n",
       "      <th>179</th>\n",
       "      <td>s43</td>\n",
       "      <td>HNRNPDL</td>\n",
       "      <td>ENSG00000152795</td>\n",
       "      <td>[[0.25, 0.0838870431894, 0.665282392027, 0.000...</td>\n",
       "      <td>[[0.0, -1.57540819400737, 1.412038755649923, -...</td>\n",
       "    </tr>\n",
       "  </tbody>\n",
       "</table>\n",
       "</div>"
      ],
      "text/plain": [
       "    Matrix_id Gene_name          Gene_id  \\\n",
       "0         s36   HNRNPDL  ENSG00000152795   \n",
       "89        s44   HNRNPDL  ENSG00000152795   \n",
       "158       s35   HNRNPDL  ENSG00000152795   \n",
       "179       s43   HNRNPDL  ENSG00000152795   \n",
       "\n",
       "                                                 probs  \\\n",
       "0    [[0.844325153374, 0.000766871165644, 0.1541411...   \n",
       "89   [[0.597222222222, 0.00198412698413, 0.39880952...   \n",
       "158  [[0.495098039216, 0.00490196078431, 0.00490196...   \n",
       "179  [[0.25, 0.0838870431894, 0.665282392027, 0.000...   \n",
       "\n",
       "                                                weight  \n",
       "0    [[1.7558705993328931, -8.3487281542314, -0.697...  \n",
       "89   [[1.2563397532592488, -6.977279923497724, 0.67...  \n",
       "158  [[0.9857861407812133, -5.672425341972592, -5.6...  \n",
       "179  [[0.0, -1.57540819400737, 1.412038755649923, -...  "
      ]
     },
     "execution_count": 7,
     "metadata": {},
     "output_type": "execute_result"
    }
   ],
   "source": [
    "pwms[pwms.Gene_name=='HNRNPDL']"
   ]
  },
  {
   "cell_type": "markdown",
   "metadata": {},
   "source": [
    "We can plot any PWM in `pwms` as follows:"
   ]
  },
  {
   "cell_type": "code",
   "execution_count": 8,
   "metadata": {
    "scrolled": true
   },
   "outputs": [
    {
     "data": {
      "image/png": "[encoded data removed]",
      "text/plain": [
       "<IPython.core.display.Image object>"
      ]
     },
     "execution_count": 8,
     "metadata": {},
     "output_type": "execute_result"
    }
   ],
   "source": [
    "plot_pwm(pwms, Matrix_id='s36')"
   ]
  },
  {
   "cell_type": "markdown",
   "metadata": {},
   "source": [
    "Finally, we encode all these PWMs as a convolutional model. This will allow us to scan genome sequence(s)."
   ]
  },
  {
   "cell_type": "code",
   "execution_count": 9,
   "metadata": {
    "scrolled": true
   },
   "outputs": [],
   "source": [
    "model = PWMModel(pwms)"
   ]
  },
  {
   "cell_type": "markdown",
   "metadata": {},
   "source": [
    "## Load the genome"
   ]
  },
  {
   "cell_type": "markdown",
   "metadata": {},
   "source": [
    "Below we provide the path to the fasta file containing the genome sequence to be analyzed."
   ]
  },
  {
   "cell_type": "code",
   "execution_count": 10,
   "metadata": {},
   "outputs": [],
   "source": [
    "#genome_file = '../VirusHostInteractionAtlas/DATA/Genomes/Genomes/IV/Monopartite/Coronaviridae/GCF_009858895.2/GCF_009858895.2_ASM985889v3_genomic.fna.gz'\n",
    "genome_file = '../VirusHostInteractionAtlas/DATA/Genomes/Genomes/V/Segmented/Orthomyxoviridae/GCF_000820495.2/GCF_000820495.2_ViralMultiSegProj14656_genomic.fna.gz'"
   ]
  },
  {
   "cell_type": "markdown",
   "metadata": {},
   "source": [
    "We need to specify whether this is a `+` or `-` sense viral genome."
   ]
  },
  {
   "cell_type": "code",
   "execution_count": 11,
   "metadata": {},
   "outputs": [],
   "source": [
    "genome_sense = '+'"
   ]
  },
  {
   "cell_type": "markdown",
   "metadata": {},
   "source": [
    "We now read the genome sequence, and store it an object called `genome`:"
   ]
  },
  {
   "cell_type": "code",
   "execution_count": 12,
   "metadata": {
    "scrolled": true
   },
   "outputs": [
    {
     "name": "stdout",
     "output_type": "stream",
     "text": [
      "Read 8 records from ../VirusHostInteractionAtlas/DATA/Genomes/Genomes/V/Segmented/Orthomyxoviridae/GCF_000820495.2/GCF_000820495.2_ViralMultiSegProj14656_genomic.fna.gz\n",
      "CPU times: user 11.4 ms, sys: 6.01 ms, total: 17.4 ms\n",
      "Wall time: 84.6 ms\n"
     ]
    },
    {
     "data": {
      "text/plain": [
       "[SeqRecord(seq=Seq('AGCAGAAGCGGAGCTTTAAGATGAATATAAATCCATATTTTCTTTTCATAGATG...ACT'), id='NC_002204.1', name='NC_002204.1', description='NC_002204.1 Influenza B virus RNA 1, complete sequence', dbxrefs=[]),\n",
       " SeqRecord(seq=Seq('ATGACGTTGGCTAAAATTGAACTACTAAAGCAGCTGTTAAGGGACAATGAAGCC...TAA'), id='NC_002205.1', name='NC_002205.1', description='NC_002205.1 Influenza B virus (B/Lee/1940) segment 2, complete sequence', dbxrefs=[]),\n",
       " SeqRecord(seq=Seq('ATGGATACTTTTATTACAAAGAATTTCCAGACTACAATAATACAAAAGGCCAAA...TTT'), id='NC_002206.1', name='NC_002206.1', description='NC_002206.1 Influenza B virus (B/Lee/1940) segment 3, complete sequence', dbxrefs=[]),\n",
       " SeqRecord(seq=Seq('AGCAGAAGCGTTGCATTTTCTAATATCCACAAAATGAAGGCAATAATTGTACTA...ACT'), id='NC_002207.1', name='NC_002207.1', description='NC_002207.1 Influenza B virus (B/Lee/1940) segment 4, complete sequence', dbxrefs=[]),\n",
       " SeqRecord(seq=Seq('GGCAGAAGCACAGCATTTTCTTGTGAGCTTCGAGCACTAATAAAACTGAAAATC...ACT'), id='NC_002208.1', name='NC_002208.1', description='NC_002208.1 Influenza B virus (B/Lee/1940) segment 5, complete sequence', dbxrefs=[]),\n",
       " SeqRecord(seq=Seq('AGCAGAAGCAGAGCATATTCTTAGAACTGAAGTGAACAGGCCAAAAATGAACAA...ACT'), id='NC_002209.1', name='NC_002209.1', description='NC_002209.1 Influenza B virus (B/Lee/1940) segment 6, complete sequence', dbxrefs=[]),\n",
       " SeqRecord(seq=Seq('AGCAGAAGCACGCACTTTCTTAAAATGTCGCTGTTTGGAGACACAATTGCCTAC...ACT'), id='NC_002210.1', name='NC_002210.1', description='NC_002210.1 Influenza B virus (B/Lee/1940) segment 7, complete sequence', dbxrefs=[]),\n",
       " SeqRecord(seq=Seq('CGCAGAAGCAGAGGATTTATTTAGTCACTGGCAAACGGAAAGATGGCGGACAAC...ACT'), id='NC_002211.1', name='NC_002211.1', description='NC_002211.1 Influenza B virus (B/Lee/1940) segment 8, complete sequence', dbxrefs=[])]"
      ]
     },
     "execution_count": 12,
     "metadata": {},
     "output_type": "execute_result"
    }
   ],
   "source": [
    "%%time\n",
    "genome = read_fasta(genome_file)\n",
    "genome"
   ]
  },
  {
   "cell_type": "code",
   "execution_count": 13,
   "metadata": {},
   "outputs": [
    {
     "data": {
      "text/plain": [
       "14452"
      ]
     },
     "execution_count": 13,
     "metadata": {},
     "output_type": "execute_result"
    }
   ],
   "source": [
    "genome_len = sum([len(x) for x in genome])\n",
    "genome_len"
   ]
  },
  {
   "cell_type": "markdown",
   "metadata": {},
   "source": [
    "## Number of binding sites found at various thresholds"
   ]
  },
  {
   "cell_type": "markdown",
   "metadata": {},
   "source": [
    "We generate a background distribution by shuffling the genome sequence multiple times. We need to specify two parameters:"
   ]
  },
  {
   "cell_type": "code",
   "execution_count": 14,
   "metadata": {},
   "outputs": [],
   "source": [
    "simN=300 # Number of times to shuffle\n",
    "simK=2 # k-mer length to keep fixed"
   ]
  },
  {
   "cell_type": "markdown",
   "metadata": {},
   "source": [
    "We begin by demonstrating how to get the distribution of number of binding sites by score. We begin by selecting a preliminary, low threshold of 0.4. \n",
    "In the process, we can also choose whether to encode and scan the reverse complement sequence. To encode and scan the reverse complement sequence as well as the given sequence, we specify `rcomp=True`."
   ]
  },
  {
   "cell_type": "code",
   "execution_count": 15,
   "metadata": {},
   "outputs": [],
   "source": [
    "rcomp=False"
   ]
  },
  {
   "cell_type": "markdown",
   "metadata": {},
   "source": [
    "We will now scan the real genome and the shuffled genome sequences for binding sites, and count the number of sites based on their score. This can take a long time!"
   ]
  },
  {
   "cell_type": "code",
   "execution_count": 16,
   "metadata": {},
   "outputs": [
    {
     "name": "stdout",
     "output_type": "stream",
     "text": [
      "Shuffled 8 input sequence(s) 300 times while conserving k-mer frequency for k = 2\n",
      "WARNING:tensorflow:From /Users/avantika/Desktop/viruslandscape/vir/lib/python3.7/site-packages/keras/backend/tensorflow_backend.py:422: The name tf.global_variables is deprecated. Please use tf.compat.v1.global_variables instead.\n",
      "\n"
     ]
    }
   ],
   "source": [
    "threshold_binned_results = examine_thresholds(genome, model, simN, simK, rcomp, sense=genome_sense, \n",
    "                                              min_threshold=0.4, verbose=True, combine_seqs=True)"
   ]
  },
  {
   "cell_type": "markdown",
   "metadata": {},
   "source": [
    "We can view the first few shuffled sequences:"
   ]
  },
  {
   "cell_type": "code",
   "execution_count": 17,
   "metadata": {
    "scrolled": true
   },
   "outputs": [
    {
     "data": {
      "text/plain": [
       "[SeqRecord(seq=Seq('AGATCAACTTGCCGTTGGAAAGAATGTGACTGCACAAAGCCCCTCAAAAACAGC...CCT'), id='background_seq_1', name='NC_002204.1', description='<unknown description>', dbxrefs=[]),\n",
       " SeqRecord(seq=Seq('AGAGGCAGATTCTAGATGTAGAATAAGCCACACAAATGGGACAAAAAAATAAAA...CTT'), id='background_seq_2', name='NC_002204.1', description='<unknown description>', dbxrefs=[]),\n",
       " SeqRecord(seq=Seq('AGGCAATACACCATCAAGCGGGTATGAAGCCATAAAGTTTGGCAGGCCACATCA...ACT'), id='background_seq_3', name='NC_002204.1', description='<unknown description>', dbxrefs=[])]"
      ]
     },
     "execution_count": 17,
     "metadata": {},
     "output_type": "execute_result"
    }
   ],
   "source": [
    "threshold_binned_results['shuf_genome'][:3]"
   ]
  },
  {
   "cell_type": "markdown",
   "metadata": {},
   "source": [
    "`real_binned` now contains the number of binding sites found for each PWM, binned by score. We can view the first few entries:"
   ]
  },
  {
   "cell_type": "code",
   "execution_count": 18,
   "metadata": {
    "scrolled": true
   },
   "outputs": [
    {
     "data": {
      "text/html": [
       "<div>\n",
       "<style scoped>\n",
       "    .dataframe tbody tr th:only-of-type {\n",
       "        vertical-align: middle;\n",
       "    }\n",
       "\n",
       "    .dataframe tbody tr th {\n",
       "        vertical-align: top;\n",
       "    }\n",
       "\n",
       "    .dataframe thead th {\n",
       "        text-align: right;\n",
       "    }\n",
       "</style>\n",
       "<table border=\"1\" class=\"dataframe\">\n",
       "  <thead>\n",
       "    <tr style=\"text-align: right;\">\n",
       "      <th></th>\n",
       "      <th>Matrix_id</th>\n",
       "      <th>sense</th>\n",
       "      <th>bin</th>\n",
       "      <th>num</th>\n",
       "    </tr>\n",
       "  </thead>\n",
       "  <tbody>\n",
       "    <tr>\n",
       "      <th>0</th>\n",
       "      <td>1053</td>\n",
       "      <td>+</td>\n",
       "      <td>0.4</td>\n",
       "      <td>20</td>\n",
       "    </tr>\n",
       "    <tr>\n",
       "      <th>1</th>\n",
       "      <td>1053</td>\n",
       "      <td>+</td>\n",
       "      <td>0.5</td>\n",
       "      <td>0</td>\n",
       "    </tr>\n",
       "    <tr>\n",
       "      <th>2</th>\n",
       "      <td>1053</td>\n",
       "      <td>+</td>\n",
       "      <td>0.6</td>\n",
       "      <td>12</td>\n",
       "    </tr>\n",
       "    <tr>\n",
       "      <th>3</th>\n",
       "      <td>1053</td>\n",
       "      <td>+</td>\n",
       "      <td>0.7</td>\n",
       "      <td>29</td>\n",
       "    </tr>\n",
       "    <tr>\n",
       "      <th>4</th>\n",
       "      <td>1053</td>\n",
       "      <td>+</td>\n",
       "      <td>0.8</td>\n",
       "      <td>0</td>\n",
       "    </tr>\n",
       "  </tbody>\n",
       "</table>\n",
       "</div>"
      ],
      "text/plain": [
       "  Matrix_id sense  bin  num\n",
       "0      1053     +  0.4   20\n",
       "1      1053     +  0.5    0\n",
       "2      1053     +  0.6   12\n",
       "3      1053     +  0.7   29\n",
       "4      1053     +  0.8    0"
      ]
     },
     "execution_count": 18,
     "metadata": {},
     "output_type": "execute_result"
    }
   ],
   "source": [
    "threshold_binned_results['real_binned'].head()"
   ]
  },
  {
   "cell_type": "markdown",
   "metadata": {},
   "source": [
    "The `num` column records the number of binding sites per PWM, per bin."
   ]
  },
  {
   "cell_type": "markdown",
   "metadata": {},
   "source": [
    "We plot the distribution of binding sites on the real genome for a given PWM. Here, we are plotting the distribution of binding sites only on the `+` sense strand."
   ]
  },
  {
   "cell_type": "code",
   "execution_count": 19,
   "metadata": {
    "scrolled": false
   },
   "outputs": [
    {
     "data": {
      "image/png": "[encoded data removed]",
      "text/plain": [
       "<Figure size 864x288 with 1 Axes>"
      ]
     },
     "metadata": {
      "needs_background": "light"
     },
     "output_type": "display_data"
    }
   ],
   "source": [
    "plot_binned_count_dist(threshold_binned_results['real_binned'], Matrix_id='s24', sense ='+')"
   ]
  },
  {
   "cell_type": "markdown",
   "metadata": {},
   "source": [
    "`shuf_binned` contains the number of binding sites per bin, in the shuffled genomes."
   ]
  },
  {
   "cell_type": "code",
   "execution_count": 20,
   "metadata": {
    "scrolled": false
   },
   "outputs": [
    {
     "data": {
      "text/html": [
       "<div>\n",
       "<style scoped>\n",
       "    .dataframe tbody tr th:only-of-type {\n",
       "        vertical-align: middle;\n",
       "    }\n",
       "\n",
       "    .dataframe tbody tr th {\n",
       "        vertical-align: top;\n",
       "    }\n",
       "\n",
       "    .dataframe thead th {\n",
       "        text-align: right;\n",
       "    }\n",
       "</style>\n",
       "<table border=\"1\" class=\"dataframe\">\n",
       "  <thead>\n",
       "    <tr style=\"text-align: right;\">\n",
       "      <th></th>\n",
       "      <th>Matrix_id</th>\n",
       "      <th>sense</th>\n",
       "      <th>bin</th>\n",
       "      <th>id</th>\n",
       "      <th>num</th>\n",
       "    </tr>\n",
       "  </thead>\n",
       "  <tbody>\n",
       "    <tr>\n",
       "      <th>0</th>\n",
       "      <td>1053</td>\n",
       "      <td>+</td>\n",
       "      <td>0.4</td>\n",
       "      <td>background_seq_1</td>\n",
       "      <td>23</td>\n",
       "    </tr>\n",
       "    <tr>\n",
       "      <th>1</th>\n",
       "      <td>1053</td>\n",
       "      <td>+</td>\n",
       "      <td>0.4</td>\n",
       "      <td>background_seq_10</td>\n",
       "      <td>25</td>\n",
       "    </tr>\n",
       "    <tr>\n",
       "      <th>2</th>\n",
       "      <td>1053</td>\n",
       "      <td>+</td>\n",
       "      <td>0.4</td>\n",
       "      <td>background_seq_100</td>\n",
       "      <td>27</td>\n",
       "    </tr>\n",
       "    <tr>\n",
       "      <th>3</th>\n",
       "      <td>1053</td>\n",
       "      <td>+</td>\n",
       "      <td>0.4</td>\n",
       "      <td>background_seq_101</td>\n",
       "      <td>25</td>\n",
       "    </tr>\n",
       "    <tr>\n",
       "      <th>4</th>\n",
       "      <td>1053</td>\n",
       "      <td>+</td>\n",
       "      <td>0.4</td>\n",
       "      <td>background_seq_102</td>\n",
       "      <td>25</td>\n",
       "    </tr>\n",
       "  </tbody>\n",
       "</table>\n",
       "</div>"
      ],
      "text/plain": [
       "  Matrix_id sense  bin                  id  num\n",
       "0      1053     +  0.4    background_seq_1   23\n",
       "1      1053     +  0.4   background_seq_10   25\n",
       "2      1053     +  0.4  background_seq_100   27\n",
       "3      1053     +  0.4  background_seq_101   25\n",
       "4      1053     +  0.4  background_seq_102   25"
      ]
     },
     "execution_count": 20,
     "metadata": {},
     "output_type": "execute_result"
    }
   ],
   "source": [
    "threshold_binned_results['shuf_binned'].head()"
   ]
  },
  {
   "cell_type": "markdown",
   "metadata": {},
   "source": [
    "We can now plot the distribution of binding sites per bin for the real and shuffled genome sequences, for any given PWM."
   ]
  },
  {
   "cell_type": "code",
   "execution_count": 21,
   "metadata": {
    "scrolled": true
   },
   "outputs": [
    {
     "data": {
      "image/png": "[encoded data removed]",
      "text/plain": [
       "<Figure size 864x288 with 1 Axes>"
      ]
     },
     "metadata": {
      "needs_background": "light"
     },
     "output_type": "display_data"
    }
   ],
   "source": [
    "plot_binned_count_dist(threshold_binned_results['real_binned'], Matrix_id='s24', sense ='+', \n",
    "                       shuf_preds=threshold_binned_results['shuf_binned'])"
   ]
  },
  {
   "cell_type": "markdown",
   "metadata": {},
   "source": [
    "### Binding site discovery and enrichment for a specified threshold"
   ]
  },
  {
   "cell_type": "markdown",
   "metadata": {},
   "source": [
    "Based on this exploration, we can select a higher threshold to identify binding sites, and test for enrichment using a simple function."
   ]
  },
  {
   "cell_type": "code",
   "execution_count": 22,
   "metadata": {},
   "outputs": [],
   "source": [
    "simN=300\n",
    "simK=2\n",
    "rcomp=True\n",
    "threshold=0.8"
   ]
  },
  {
   "cell_type": "code",
   "execution_count": 23,
   "metadata": {
    "scrolled": false
   },
   "outputs": [
    {
     "name": "stdout",
     "output_type": "stream",
     "text": [
      "Shuffled 8 input sequence(s) 300 times while conserving k-mer frequency for k = 2\n",
      "CPU times: user 35.6 s, sys: 9.64 s, total: 45.2 s\n",
      "Wall time: 38.9 s\n"
     ]
    }
   ],
   "source": [
    "%%time\n",
    "enrichment_result = enrich_in_genome(genome, model, simN=simN, simK=simK, rcomp=rcomp, genome_sense=genome_sense, \n",
    "                                     threshold=threshold, verbose=True, combine_seqs=True, background='binomial')"
   ]
  },
  {
   "cell_type": "code",
   "execution_count": 24,
   "metadata": {
    "scrolled": true
   },
   "outputs": [
    {
     "data": {
      "text/plain": [
       "dict_keys(['enrichment', 'real_sites', 'real_counts', 'shuf_stats', 'shuf_counts', 'shuf_genome'])"
      ]
     },
     "execution_count": 24,
     "metadata": {},
     "output_type": "execute_result"
    }
   ],
   "source": [
    "enrichment_result.keys()"
   ]
  },
  {
   "cell_type": "markdown",
   "metadata": {},
   "source": [
    "We can view the locations of the binding sites:"
   ]
  },
  {
   "cell_type": "code",
   "execution_count": 25,
   "metadata": {
    "scrolled": false
   },
   "outputs": [
    {
     "data": {
      "text/html": [
       "<div>\n",
       "<style scoped>\n",
       "    .dataframe tbody tr th:only-of-type {\n",
       "        vertical-align: middle;\n",
       "    }\n",
       "\n",
       "    .dataframe tbody tr th {\n",
       "        vertical-align: top;\n",
       "    }\n",
       "\n",
       "    .dataframe thead th {\n",
       "        text-align: right;\n",
       "    }\n",
       "</style>\n",
       "<table border=\"1\" class=\"dataframe\">\n",
       "  <thead>\n",
       "    <tr style=\"text-align: right;\">\n",
       "      <th></th>\n",
       "      <th>id</th>\n",
       "      <th>name</th>\n",
       "      <th>sense</th>\n",
       "      <th>start</th>\n",
       "      <th>Matrix_id</th>\n",
       "      <th>width</th>\n",
       "      <th>end</th>\n",
       "      <th>score</th>\n",
       "      <th>max_score</th>\n",
       "      <th>frac_score</th>\n",
       "    </tr>\n",
       "  </thead>\n",
       "  <tbody>\n",
       "    <tr>\n",
       "      <th>0</th>\n",
       "      <td>NC_002204.1</td>\n",
       "      <td>NC_002204.1</td>\n",
       "      <td>+</td>\n",
       "      <td>7</td>\n",
       "      <td>s42</td>\n",
       "      <td>5</td>\n",
       "      <td>12</td>\n",
       "      <td>5.967936</td>\n",
       "      <td>6.744486</td>\n",
       "      <td>0.884862</td>\n",
       "    </tr>\n",
       "    <tr>\n",
       "      <th>1</th>\n",
       "      <td>NC_002204.1</td>\n",
       "      <td>NC_002204.1</td>\n",
       "      <td>+</td>\n",
       "      <td>13</td>\n",
       "      <td>s9</td>\n",
       "      <td>5</td>\n",
       "      <td>18</td>\n",
       "      <td>7.148956</td>\n",
       "      <td>7.148956</td>\n",
       "      <td>1.000000</td>\n",
       "    </tr>\n",
       "    <tr>\n",
       "      <th>2</th>\n",
       "      <td>NC_002204.1</td>\n",
       "      <td>NC_002204.1</td>\n",
       "      <td>+</td>\n",
       "      <td>13</td>\n",
       "      <td>s1</td>\n",
       "      <td>5</td>\n",
       "      <td>18</td>\n",
       "      <td>6.947326</td>\n",
       "      <td>7.529893</td>\n",
       "      <td>0.922633</td>\n",
       "    </tr>\n",
       "    <tr>\n",
       "      <th>3</th>\n",
       "      <td>NC_002204.1</td>\n",
       "      <td>NC_002204.1</td>\n",
       "      <td>+</td>\n",
       "      <td>13</td>\n",
       "      <td>s6</td>\n",
       "      <td>5</td>\n",
       "      <td>18</td>\n",
       "      <td>6.947325</td>\n",
       "      <td>7.529893</td>\n",
       "      <td>0.922633</td>\n",
       "    </tr>\n",
       "    <tr>\n",
       "      <th>4</th>\n",
       "      <td>NC_002204.1</td>\n",
       "      <td>NC_002204.1</td>\n",
       "      <td>+</td>\n",
       "      <td>23</td>\n",
       "      <td>75</td>\n",
       "      <td>6</td>\n",
       "      <td>29</td>\n",
       "      <td>5.997296</td>\n",
       "      <td>5.997296</td>\n",
       "      <td>1.000000</td>\n",
       "    </tr>\n",
       "  </tbody>\n",
       "</table>\n",
       "</div>"
      ],
      "text/plain": [
       "            id         name sense  start Matrix_id  width  end     score  \\\n",
       "0  NC_002204.1  NC_002204.1     +      7       s42      5   12  5.967936   \n",
       "1  NC_002204.1  NC_002204.1     +     13        s9      5   18  7.148956   \n",
       "2  NC_002204.1  NC_002204.1     +     13        s1      5   18  6.947326   \n",
       "3  NC_002204.1  NC_002204.1     +     13        s6      5   18  6.947325   \n",
       "4  NC_002204.1  NC_002204.1     +     23        75      6   29  5.997296   \n",
       "\n",
       "   max_score  frac_score  \n",
       "0   6.744486    0.884862  \n",
       "1   7.148956    1.000000  \n",
       "2   7.529893    0.922633  \n",
       "3   7.529893    0.922633  \n",
       "4   5.997296    1.000000  "
      ]
     },
     "execution_count": 25,
     "metadata": {},
     "output_type": "execute_result"
    }
   ],
   "source": [
    "real_sites = enrichment_result['real_sites']\n",
    "real_sites.head()"
   ]
  },
  {
   "cell_type": "markdown",
   "metadata": {},
   "source": [
    "And the number of binding sites per PWM in the real genome:"
   ]
  },
  {
   "cell_type": "code",
   "execution_count": 26,
   "metadata": {
    "scrolled": true
   },
   "outputs": [
    {
     "data": {
      "text/html": [
       "<div>\n",
       "<style scoped>\n",
       "    .dataframe tbody tr th:only-of-type {\n",
       "        vertical-align: middle;\n",
       "    }\n",
       "\n",
       "    .dataframe tbody tr th {\n",
       "        vertical-align: top;\n",
       "    }\n",
       "\n",
       "    .dataframe thead th {\n",
       "        text-align: right;\n",
       "    }\n",
       "</style>\n",
       "<table border=\"1\" class=\"dataframe\">\n",
       "  <thead>\n",
       "    <tr style=\"text-align: right;\">\n",
       "      <th></th>\n",
       "      <th>Matrix_id</th>\n",
       "      <th>sense</th>\n",
       "      <th>num</th>\n",
       "    </tr>\n",
       "  </thead>\n",
       "  <tbody>\n",
       "    <tr>\n",
       "      <th>0</th>\n",
       "      <td>1053</td>\n",
       "      <td>+</td>\n",
       "      <td>23</td>\n",
       "    </tr>\n",
       "    <tr>\n",
       "      <th>1</th>\n",
       "      <td>1053</td>\n",
       "      <td>-</td>\n",
       "      <td>21</td>\n",
       "    </tr>\n",
       "    <tr>\n",
       "      <th>2</th>\n",
       "      <td>1169</td>\n",
       "      <td>+</td>\n",
       "      <td>253</td>\n",
       "    </tr>\n",
       "    <tr>\n",
       "      <th>3</th>\n",
       "      <td>1169</td>\n",
       "      <td>-</td>\n",
       "      <td>81</td>\n",
       "    </tr>\n",
       "    <tr>\n",
       "      <th>4</th>\n",
       "      <td>1170</td>\n",
       "      <td>+</td>\n",
       "      <td>127</td>\n",
       "    </tr>\n",
       "  </tbody>\n",
       "</table>\n",
       "</div>"
      ],
      "text/plain": [
       "  Matrix_id sense  num\n",
       "0      1053     +   23\n",
       "1      1053     -   21\n",
       "2      1169     +  253\n",
       "3      1169     -   81\n",
       "4      1170     +  127"
      ]
     },
     "execution_count": 26,
     "metadata": {},
     "output_type": "execute_result"
    }
   ],
   "source": [
    "real_counts = enrichment_result['real_counts']\n",
    "real_counts.head()"
   ]
  },
  {
   "cell_type": "markdown",
   "metadata": {},
   "source": [
    "We can plot the distribution of number of binding sites per PWM, per strand:"
   ]
  },
  {
   "cell_type": "code",
   "execution_count": 27,
   "metadata": {
    "scrolled": true
   },
   "outputs": [
    {
     "data": {
      "text/plain": [
       "<AxesSubplot:xlabel='num', ylabel='Count'>"
      ]
     },
     "execution_count": 27,
     "metadata": {},
     "output_type": "execute_result"
    },
    {
     "data": {
      "image/png": "[encoded data removed]",
      "text/plain": [
       "<Figure size 1080x288 with 1 Axes>"
      ]
     },
     "metadata": {
      "needs_background": "light"
     },
     "output_type": "display_data"
    }
   ],
   "source": [
    "plt.figure(figsize=(15, 4))\n",
    "sns.histplot(data=real_counts, x='num', hue='sense', bins='auto')"
   ]
  },
  {
   "cell_type": "markdown",
   "metadata": {},
   "source": [
    "We can see the number of binding sites found on the shuffled genomes:"
   ]
  },
  {
   "cell_type": "code",
   "execution_count": 28,
   "metadata": {
    "scrolled": true
   },
   "outputs": [
    {
     "data": {
      "text/html": [
       "<div>\n",
       "<style scoped>\n",
       "    .dataframe tbody tr th:only-of-type {\n",
       "        vertical-align: middle;\n",
       "    }\n",
       "\n",
       "    .dataframe tbody tr th {\n",
       "        vertical-align: top;\n",
       "    }\n",
       "\n",
       "    .dataframe thead th {\n",
       "        text-align: right;\n",
       "    }\n",
       "</style>\n",
       "<table border=\"1\" class=\"dataframe\">\n",
       "  <thead>\n",
       "    <tr style=\"text-align: right;\">\n",
       "      <th></th>\n",
       "      <th>Matrix_id</th>\n",
       "      <th>sense</th>\n",
       "      <th>id</th>\n",
       "      <th>num</th>\n",
       "    </tr>\n",
       "  </thead>\n",
       "  <tbody>\n",
       "    <tr>\n",
       "      <th>0</th>\n",
       "      <td>1053</td>\n",
       "      <td>+</td>\n",
       "      <td>background_seq_1</td>\n",
       "      <td>16</td>\n",
       "    </tr>\n",
       "    <tr>\n",
       "      <th>1</th>\n",
       "      <td>1053</td>\n",
       "      <td>+</td>\n",
       "      <td>background_seq_10</td>\n",
       "      <td>26</td>\n",
       "    </tr>\n",
       "    <tr>\n",
       "      <th>2</th>\n",
       "      <td>1053</td>\n",
       "      <td>+</td>\n",
       "      <td>background_seq_100</td>\n",
       "      <td>26</td>\n",
       "    </tr>\n",
       "    <tr>\n",
       "      <th>3</th>\n",
       "      <td>1053</td>\n",
       "      <td>+</td>\n",
       "      <td>background_seq_101</td>\n",
       "      <td>24</td>\n",
       "    </tr>\n",
       "    <tr>\n",
       "      <th>4</th>\n",
       "      <td>1053</td>\n",
       "      <td>+</td>\n",
       "      <td>background_seq_102</td>\n",
       "      <td>13</td>\n",
       "    </tr>\n",
       "  </tbody>\n",
       "</table>\n",
       "</div>"
      ],
      "text/plain": [
       "  Matrix_id sense                  id  num\n",
       "0      1053     +    background_seq_1   16\n",
       "1      1053     +   background_seq_10   26\n",
       "2      1053     +  background_seq_100   26\n",
       "3      1053     +  background_seq_101   24\n",
       "4      1053     +  background_seq_102   13"
      ]
     },
     "execution_count": 28,
     "metadata": {},
     "output_type": "execute_result"
    }
   ],
   "source": [
    "shuf_counts = enrichment_result['shuf_counts']\n",
    "shuf_counts.head()"
   ]
  },
  {
   "cell_type": "code",
   "execution_count": 29,
   "metadata": {},
   "outputs": [
    {
     "data": {
      "text/html": [
       "<div>\n",
       "<style scoped>\n",
       "    .dataframe tbody tr th:only-of-type {\n",
       "        vertical-align: middle;\n",
       "    }\n",
       "\n",
       "    .dataframe tbody tr th {\n",
       "        vertical-align: top;\n",
       "    }\n",
       "\n",
       "    .dataframe thead th {\n",
       "        text-align: right;\n",
       "    }\n",
       "</style>\n",
       "<table border=\"1\" class=\"dataframe\">\n",
       "  <thead>\n",
       "    <tr style=\"text-align: right;\">\n",
       "      <th></th>\n",
       "      <th>Matrix_id</th>\n",
       "      <th>sense</th>\n",
       "      <th>len</th>\n",
       "      <th>avg</th>\n",
       "      <th>sd</th>\n",
       "    </tr>\n",
       "  </thead>\n",
       "  <tbody>\n",
       "    <tr>\n",
       "      <th>0</th>\n",
       "      <td>1053</td>\n",
       "      <td>+</td>\n",
       "      <td>300</td>\n",
       "      <td>21.546667</td>\n",
       "      <td>4.579417</td>\n",
       "    </tr>\n",
       "    <tr>\n",
       "      <th>1</th>\n",
       "      <td>1053</td>\n",
       "      <td>-</td>\n",
       "      <td>300</td>\n",
       "      <td>24.220000</td>\n",
       "      <td>4.721501</td>\n",
       "    </tr>\n",
       "    <tr>\n",
       "      <th>2</th>\n",
       "      <td>1169</td>\n",
       "      <td>+</td>\n",
       "      <td>300</td>\n",
       "      <td>231.726667</td>\n",
       "      <td>13.216437</td>\n",
       "    </tr>\n",
       "    <tr>\n",
       "      <th>3</th>\n",
       "      <td>1169</td>\n",
       "      <td>-</td>\n",
       "      <td>300</td>\n",
       "      <td>69.276667</td>\n",
       "      <td>8.120340</td>\n",
       "    </tr>\n",
       "    <tr>\n",
       "      <th>4</th>\n",
       "      <td>1170</td>\n",
       "      <td>+</td>\n",
       "      <td>300</td>\n",
       "      <td>126.756667</td>\n",
       "      <td>7.836805</td>\n",
       "    </tr>\n",
       "  </tbody>\n",
       "</table>\n",
       "</div>"
      ],
      "text/plain": [
       "  Matrix_id sense  len         avg         sd\n",
       "0      1053     +  300   21.546667   4.579417\n",
       "1      1053     -  300   24.220000   4.721501\n",
       "2      1169     +  300  231.726667  13.216437\n",
       "3      1169     -  300   69.276667   8.120340\n",
       "4      1170     +  300  126.756667   7.836805"
      ]
     },
     "execution_count": 29,
     "metadata": {},
     "output_type": "execute_result"
    }
   ],
   "source": [
    "shuf_stats = enrichment_result['shuf_stats']\n",
    "shuf_stats.head()"
   ]
  },
  {
   "cell_type": "markdown",
   "metadata": {},
   "source": [
    "We can examine the enrichment for each PWM."
   ]
  },
  {
   "cell_type": "code",
   "execution_count": 30,
   "metadata": {
    "scrolled": true
   },
   "outputs": [
    {
     "data": {
      "text/html": [
       "<div>\n",
       "<style scoped>\n",
       "    .dataframe tbody tr th:only-of-type {\n",
       "        vertical-align: middle;\n",
       "    }\n",
       "\n",
       "    .dataframe tbody tr th {\n",
       "        vertical-align: top;\n",
       "    }\n",
       "\n",
       "    .dataframe thead th {\n",
       "        text-align: right;\n",
       "    }\n",
       "</style>\n",
       "<table border=\"1\" class=\"dataframe\">\n",
       "  <thead>\n",
       "    <tr style=\"text-align: right;\">\n",
       "      <th></th>\n",
       "      <th>Matrix_id</th>\n",
       "      <th>sense</th>\n",
       "      <th>num</th>\n",
       "      <th>len</th>\n",
       "      <th>avg</th>\n",
       "      <th>sd</th>\n",
       "      <th>p</th>\n",
       "      <th>fdr</th>\n",
       "    </tr>\n",
       "  </thead>\n",
       "  <tbody>\n",
       "    <tr>\n",
       "      <th>0</th>\n",
       "      <td>M042_0.6</td>\n",
       "      <td>+</td>\n",
       "      <td>4</td>\n",
       "      <td>300</td>\n",
       "      <td>26.360000</td>\n",
       "      <td>6.887806</td>\n",
       "      <td>1.506155e-07</td>\n",
       "      <td>0.000030</td>\n",
       "    </tr>\n",
       "    <tr>\n",
       "      <th>1</th>\n",
       "      <td>75</td>\n",
       "      <td>+</td>\n",
       "      <td>451</td>\n",
       "      <td>300</td>\n",
       "      <td>541.633333</td>\n",
       "      <td>32.098702</td>\n",
       "      <td>5.049959e-05</td>\n",
       "      <td>0.005100</td>\n",
       "    </tr>\n",
       "    <tr>\n",
       "      <th>2</th>\n",
       "      <td>s26</td>\n",
       "      <td>+</td>\n",
       "      <td>280</td>\n",
       "      <td>300</td>\n",
       "      <td>220.750000</td>\n",
       "      <td>15.011729</td>\n",
       "      <td>1.084125e-04</td>\n",
       "      <td>0.007300</td>\n",
       "    </tr>\n",
       "    <tr>\n",
       "      <th>3</th>\n",
       "      <td>s12</td>\n",
       "      <td>+</td>\n",
       "      <td>42</td>\n",
       "      <td>300</td>\n",
       "      <td>23.136667</td>\n",
       "      <td>4.779904</td>\n",
       "      <td>3.525793e-04</td>\n",
       "      <td>0.017805</td>\n",
       "    </tr>\n",
       "    <tr>\n",
       "      <th>4</th>\n",
       "      <td>M227_0.6</td>\n",
       "      <td>+</td>\n",
       "      <td>12</td>\n",
       "      <td>300</td>\n",
       "      <td>4.786667</td>\n",
       "      <td>2.253460</td>\n",
       "      <td>3.900234e-03</td>\n",
       "      <td>0.157569</td>\n",
       "    </tr>\n",
       "  </tbody>\n",
       "</table>\n",
       "</div>"
      ],
      "text/plain": [
       "  Matrix_id sense  num  len         avg         sd             p       fdr\n",
       "0  M042_0.6     +    4  300   26.360000   6.887806  1.506155e-07  0.000030\n",
       "1        75     +  451  300  541.633333  32.098702  5.049959e-05  0.005100\n",
       "2       s26     +  280  300  220.750000  15.011729  1.084125e-04  0.007300\n",
       "3       s12     +   42  300   23.136667   4.779904  3.525793e-04  0.017805\n",
       "4  M227_0.6     +   12  300    4.786667   2.253460  3.900234e-03  0.157569"
      ]
     },
     "execution_count": 30,
     "metadata": {},
     "output_type": "execute_result"
    }
   ],
   "source": [
    "enr = enrichment_result['enrichment']\n",
    "enr.head()"
   ]
  },
  {
   "cell_type": "markdown",
   "metadata": {},
   "source": [
    "We can separate out the PWMs that are enriched / depleted on each strand:"
   ]
  },
  {
   "cell_type": "code",
   "execution_count": 31,
   "metadata": {},
   "outputs": [
    {
     "name": "stdout",
     "output_type": "stream",
     "text": [
      "2\n",
      "1\n",
      "2\n",
      "7\n"
     ]
    }
   ],
   "source": [
    "enr_pos = enr[(enr.fdr<0.05) & (enr.num > enr.avg) & (enr.sense=='+')].reset_index(drop=True) # enriched on + strand\n",
    "enr_neg = enr[(enr.fdr<0.05) & (enr.num > enr.avg) & (enr.sense=='-')].reset_index(drop=True) # enriched on - strand\n",
    "dep_pos = enr[(enr.fdr<0.05) & (enr.num < enr.avg) & (enr.sense=='+')].reset_index(drop=True) # depleted on + strand\n",
    "dep_neg = enr[(enr.fdr<0.05) & (enr.num < enr.avg) & (enr.sense=='-')].reset_index(drop=True) # depleted on - strand\n",
    "\n",
    "print(len(enr_pos))\n",
    "print(len(enr_neg))\n",
    "print(len(dep_pos))\n",
    "print(len(dep_neg))"
   ]
  },
  {
   "cell_type": "markdown",
   "metadata": {},
   "source": [
    "We can view the PWMs that are enriched on the `+` strand:"
   ]
  },
  {
   "cell_type": "code",
   "execution_count": 32,
   "metadata": {
    "scrolled": true
   },
   "outputs": [
    {
     "data": {
      "text/html": [
       "<div>\n",
       "<style scoped>\n",
       "    .dataframe tbody tr th:only-of-type {\n",
       "        vertical-align: middle;\n",
       "    }\n",
       "\n",
       "    .dataframe tbody tr th {\n",
       "        vertical-align: top;\n",
       "    }\n",
       "\n",
       "    .dataframe thead th {\n",
       "        text-align: right;\n",
       "    }\n",
       "</style>\n",
       "<table border=\"1\" class=\"dataframe\">\n",
       "  <thead>\n",
       "    <tr style=\"text-align: right;\">\n",
       "      <th></th>\n",
       "      <th>Matrix_id</th>\n",
       "      <th>sense</th>\n",
       "      <th>num</th>\n",
       "      <th>len</th>\n",
       "      <th>avg</th>\n",
       "      <th>sd</th>\n",
       "      <th>p</th>\n",
       "      <th>fdr</th>\n",
       "    </tr>\n",
       "  </thead>\n",
       "  <tbody>\n",
       "    <tr>\n",
       "      <th>0</th>\n",
       "      <td>s26</td>\n",
       "      <td>+</td>\n",
       "      <td>280</td>\n",
       "      <td>300</td>\n",
       "      <td>220.750000</td>\n",
       "      <td>15.011729</td>\n",
       "      <td>0.000108</td>\n",
       "      <td>0.007300</td>\n",
       "    </tr>\n",
       "    <tr>\n",
       "      <th>1</th>\n",
       "      <td>s12</td>\n",
       "      <td>+</td>\n",
       "      <td>42</td>\n",
       "      <td>300</td>\n",
       "      <td>23.136667</td>\n",
       "      <td>4.779904</td>\n",
       "      <td>0.000353</td>\n",
       "      <td>0.017805</td>\n",
       "    </tr>\n",
       "  </tbody>\n",
       "</table>\n",
       "</div>"
      ],
      "text/plain": [
       "  Matrix_id sense  num  len         avg         sd         p       fdr\n",
       "0       s26     +  280  300  220.750000  15.011729  0.000108  0.007300\n",
       "1       s12     +   42  300   23.136667   4.779904  0.000353  0.017805"
      ]
     },
     "execution_count": 32,
     "metadata": {},
     "output_type": "execute_result"
    }
   ],
   "source": [
    "enr_pos"
   ]
  },
  {
   "cell_type": "markdown",
   "metadata": {},
   "source": [
    "And match these to RBPs:"
   ]
  },
  {
   "cell_type": "code",
   "execution_count": 33,
   "metadata": {},
   "outputs": [
    {
     "data": {
      "text/html": [
       "<div>\n",
       "<style scoped>\n",
       "    .dataframe tbody tr th:only-of-type {\n",
       "        vertical-align: middle;\n",
       "    }\n",
       "\n",
       "    .dataframe tbody tr th {\n",
       "        vertical-align: top;\n",
       "    }\n",
       "\n",
       "    .dataframe thead th {\n",
       "        text-align: right;\n",
       "    }\n",
       "</style>\n",
       "<table border=\"1\" class=\"dataframe\">\n",
       "  <thead>\n",
       "    <tr style=\"text-align: right;\">\n",
       "      <th></th>\n",
       "      <th>Matrix_id</th>\n",
       "      <th>sense</th>\n",
       "      <th>num</th>\n",
       "      <th>len</th>\n",
       "      <th>avg</th>\n",
       "      <th>sd</th>\n",
       "      <th>p</th>\n",
       "      <th>fdr</th>\n",
       "      <th>Gene_name</th>\n",
       "    </tr>\n",
       "  </thead>\n",
       "  <tbody>\n",
       "    <tr>\n",
       "      <th>0</th>\n",
       "      <td>s26</td>\n",
       "      <td>+</td>\n",
       "      <td>280</td>\n",
       "      <td>300</td>\n",
       "      <td>220.750000</td>\n",
       "      <td>15.011729</td>\n",
       "      <td>0.000108</td>\n",
       "      <td>0.007300</td>\n",
       "      <td>SFPQ</td>\n",
       "    </tr>\n",
       "    <tr>\n",
       "      <th>1</th>\n",
       "      <td>s12</td>\n",
       "      <td>+</td>\n",
       "      <td>42</td>\n",
       "      <td>300</td>\n",
       "      <td>23.136667</td>\n",
       "      <td>4.779904</td>\n",
       "      <td>0.000353</td>\n",
       "      <td>0.017805</td>\n",
       "      <td>PTBP1</td>\n",
       "    </tr>\n",
       "  </tbody>\n",
       "</table>\n",
       "</div>"
      ],
      "text/plain": [
       "  Matrix_id sense  num  len         avg         sd         p       fdr  \\\n",
       "0       s26     +  280  300  220.750000  15.011729  0.000108  0.007300   \n",
       "1       s12     +   42  300   23.136667   4.779904  0.000353  0.017805   \n",
       "\n",
       "  Gene_name  \n",
       "0      SFPQ  \n",
       "1     PTBP1  "
      ]
     },
     "execution_count": 33,
     "metadata": {},
     "output_type": "execute_result"
    }
   ],
   "source": [
    "enr_pos = enr_pos.merge(pwms.loc[:,['Matrix_id', 'Gene_name']])\n",
    "enr_pos.head()"
   ]
  },
  {
   "cell_type": "markdown",
   "metadata": {},
   "source": [
    "## Enrichment plot"
   ]
  },
  {
   "cell_type": "markdown",
   "metadata": {},
   "source": [
    "We can plot the distribution of binding sites for any set of PWMs. Here we plot the distributions for the enriched PWMs:"
   ]
  },
  {
   "cell_type": "code",
   "execution_count": 34,
   "metadata": {
    "scrolled": false
   },
   "outputs": [
    {
     "data": {
      "image/png": "[encoded data removed]",
      "text/plain": [
       "<Figure size 1152x288 with 2 Axes>"
      ]
     },
     "metadata": {
      "needs_background": "light"
     },
     "output_type": "display_data"
    }
   ],
   "source": [
    "plot_background(shuf_counts[shuf_counts.sense==\"+\"], real_counts[real_counts.sense==\"+\"], \n",
    "                enr_pos.Matrix_id, genome_len, background='both', figsize=(16,4), ncols=8)"
   ]
  },
  {
   "cell_type": "markdown",
   "metadata": {},
   "source": [
    "And for the depleted PWMs:"
   ]
  },
  {
   "cell_type": "code",
   "execution_count": 35,
   "metadata": {},
   "outputs": [
    {
     "data": {
      "image/png": "[encoded data removed]",
      "text/plain": [
       "<Figure size 1152x360 with 2 Axes>"
      ]
     },
     "metadata": {
      "needs_background": "light"
     },
     "output_type": "display_data"
    }
   ],
   "source": [
    "plot_background(shuf_counts[shuf_counts.sense==\"+\"], real_counts[real_counts.sense==\"+\"], \n",
    "                dep_pos.Matrix_id, genome_len, background='both', figsize=(16,5), ncols=7)"
   ]
  },
  {
   "cell_type": "markdown",
   "metadata": {},
   "source": [
    "## Enrichment in sliding windows"
   ]
  },
  {
   "cell_type": "markdown",
   "metadata": {},
   "source": [
    "For any given PWM, we can test for enrichment of its binding sites in sliding windows across the genome using Fisher's exact test. Here we test for enrichment of a specific PWM in the positive ('+') sense genome."
   ]
  },
  {
   "cell_type": "code",
   "execution_count": 57,
   "metadata": {
    "scrolled": false
   },
   "outputs": [
    {
     "data": {
      "text/html": [
       "<div>\n",
       "<style scoped>\n",
       "    .dataframe tbody tr th:only-of-type {\n",
       "        vertical-align: middle;\n",
       "    }\n",
       "\n",
       "    .dataframe tbody tr th {\n",
       "        vertical-align: top;\n",
       "    }\n",
       "\n",
       "    .dataframe thead th {\n",
       "        text-align: right;\n",
       "    }\n",
       "</style>\n",
       "<table border=\"1\" class=\"dataframe\">\n",
       "  <thead>\n",
       "    <tr style=\"text-align: right;\">\n",
       "      <th></th>\n",
       "      <th>id</th>\n",
       "      <th>name</th>\n",
       "      <th>sense</th>\n",
       "      <th>start</th>\n",
       "      <th>Matrix_id</th>\n",
       "      <th>width</th>\n",
       "      <th>end</th>\n",
       "      <th>score</th>\n",
       "      <th>max_score</th>\n",
       "      <th>frac_score</th>\n",
       "    </tr>\n",
       "  </thead>\n",
       "  <tbody>\n",
       "    <tr>\n",
       "      <th>4</th>\n",
       "      <td>NC_002204.1</td>\n",
       "      <td>NC_002204.1</td>\n",
       "      <td>+</td>\n",
       "      <td>23</td>\n",
       "      <td>75</td>\n",
       "      <td>6</td>\n",
       "      <td>29</td>\n",
       "      <td>5.997296</td>\n",
       "      <td>5.997296</td>\n",
       "      <td>1.0</td>\n",
       "    </tr>\n",
       "    <tr>\n",
       "      <th>6</th>\n",
       "      <td>NC_002204.1</td>\n",
       "      <td>NC_002204.1</td>\n",
       "      <td>+</td>\n",
       "      <td>24</td>\n",
       "      <td>75</td>\n",
       "      <td>6</td>\n",
       "      <td>30</td>\n",
       "      <td>5.997296</td>\n",
       "      <td>5.997296</td>\n",
       "      <td>1.0</td>\n",
       "    </tr>\n",
       "    <tr>\n",
       "      <th>8</th>\n",
       "      <td>NC_002204.1</td>\n",
       "      <td>NC_002204.1</td>\n",
       "      <td>+</td>\n",
       "      <td>25</td>\n",
       "      <td>75</td>\n",
       "      <td>6</td>\n",
       "      <td>31</td>\n",
       "      <td>5.997296</td>\n",
       "      <td>5.997296</td>\n",
       "      <td>1.0</td>\n",
       "    </tr>\n",
       "    <tr>\n",
       "      <th>9</th>\n",
       "      <td>NC_002204.1</td>\n",
       "      <td>NC_002204.1</td>\n",
       "      <td>+</td>\n",
       "      <td>26</td>\n",
       "      <td>75</td>\n",
       "      <td>6</td>\n",
       "      <td>32</td>\n",
       "      <td>5.997296</td>\n",
       "      <td>5.997296</td>\n",
       "      <td>1.0</td>\n",
       "    </tr>\n",
       "    <tr>\n",
       "      <th>14</th>\n",
       "      <td>NC_002204.1</td>\n",
       "      <td>NC_002204.1</td>\n",
       "      <td>+</td>\n",
       "      <td>34</td>\n",
       "      <td>75</td>\n",
       "      <td>6</td>\n",
       "      <td>40</td>\n",
       "      <td>5.997296</td>\n",
       "      <td>5.997296</td>\n",
       "      <td>1.0</td>\n",
       "    </tr>\n",
       "  </tbody>\n",
       "</table>\n",
       "</div>"
      ],
      "text/plain": [
       "             id         name sense  start Matrix_id  width  end     score  \\\n",
       "4   NC_002204.1  NC_002204.1     +     23        75      6   29  5.997296   \n",
       "6   NC_002204.1  NC_002204.1     +     24        75      6   30  5.997296   \n",
       "8   NC_002204.1  NC_002204.1     +     25        75      6   31  5.997296   \n",
       "9   NC_002204.1  NC_002204.1     +     26        75      6   32  5.997296   \n",
       "14  NC_002204.1  NC_002204.1     +     34        75      6   40  5.997296   \n",
       "\n",
       "    max_score  frac_score  \n",
       "4    5.997296         1.0  \n",
       "6    5.997296         1.0  \n",
       "8    5.997296         1.0  \n",
       "9    5.997296         1.0  \n",
       "14   5.997296         1.0  "
      ]
     },
     "execution_count": 57,
     "metadata": {},
     "output_type": "execute_result"
    }
   ],
   "source": [
    "select_sites = real_sites[(real_sites.sense==\"+\") & (real_sites.Matrix_id=='75')]\n",
    "select_sites.head()"
   ]
  },
  {
   "cell_type": "code",
   "execution_count": 67,
   "metadata": {
    "scrolled": true
   },
   "outputs": [],
   "source": [
    "r = enrich_in_sliding_windows(select_sites, genome, 250, 250)"
   ]
  },
  {
   "cell_type": "code",
   "execution_count": 68,
   "metadata": {},
   "outputs": [
    {
     "data": {
      "text/html": [
       "<div>\n",
       "<style scoped>\n",
       "    .dataframe tbody tr th:only-of-type {\n",
       "        vertical-align: middle;\n",
       "    }\n",
       "\n",
       "    .dataframe tbody tr th {\n",
       "        vertical-align: top;\n",
       "    }\n",
       "\n",
       "    .dataframe thead th {\n",
       "        text-align: right;\n",
       "    }\n",
       "</style>\n",
       "<table border=\"1\" class=\"dataframe\">\n",
       "  <thead>\n",
       "    <tr style=\"text-align: right;\">\n",
       "      <th></th>\n",
       "      <th>start</th>\n",
       "      <th>end</th>\n",
       "      <th>count</th>\n",
       "      <th>tot_count</th>\n",
       "      <th>expected</th>\n",
       "      <th>odds</th>\n",
       "      <th>p</th>\n",
       "      <th>id</th>\n",
       "      <th>padj</th>\n",
       "    </tr>\n",
       "  </thead>\n",
       "  <tbody>\n",
       "    <tr>\n",
       "      <th>0</th>\n",
       "      <td>0</td>\n",
       "      <td>250</td>\n",
       "      <td>6</td>\n",
       "      <td>451</td>\n",
       "      <td>7.801688</td>\n",
       "      <td>0.763386</td>\n",
       "      <td>0.711255</td>\n",
       "      <td>NC_002204.1</td>\n",
       "      <td>0.816626</td>\n",
       "    </tr>\n",
       "    <tr>\n",
       "      <th>1</th>\n",
       "      <td>250</td>\n",
       "      <td>500</td>\n",
       "      <td>3</td>\n",
       "      <td>451</td>\n",
       "      <td>7.801688</td>\n",
       "      <td>0.377057</td>\n",
       "      <td>0.094334</td>\n",
       "      <td>NC_002204.1</td>\n",
       "      <td>0.211964</td>\n",
       "    </tr>\n",
       "    <tr>\n",
       "      <th>2</th>\n",
       "      <td>500</td>\n",
       "      <td>750</td>\n",
       "      <td>13</td>\n",
       "      <td>451</td>\n",
       "      <td>7.801688</td>\n",
       "      <td>1.702854</td>\n",
       "      <td>0.067468</td>\n",
       "      <td>NC_002204.1</td>\n",
       "      <td>0.209152</td>\n",
       "    </tr>\n",
       "    <tr>\n",
       "      <th>3</th>\n",
       "      <td>750</td>\n",
       "      <td>1000</td>\n",
       "      <td>6</td>\n",
       "      <td>451</td>\n",
       "      <td>7.801688</td>\n",
       "      <td>0.763386</td>\n",
       "      <td>0.711255</td>\n",
       "      <td>NC_002204.1</td>\n",
       "      <td>0.816626</td>\n",
       "    </tr>\n",
       "    <tr>\n",
       "      <th>4</th>\n",
       "      <td>1000</td>\n",
       "      <td>1250</td>\n",
       "      <td>11</td>\n",
       "      <td>451</td>\n",
       "      <td>7.801688</td>\n",
       "      <td>1.428819</td>\n",
       "      <td>0.267432</td>\n",
       "      <td>NC_002204.1</td>\n",
       "      <td>0.405629</td>\n",
       "    </tr>\n",
       "    <tr>\n",
       "      <th>...</th>\n",
       "      <td>...</td>\n",
       "      <td>...</td>\n",
       "      <td>...</td>\n",
       "      <td>...</td>\n",
       "      <td>...</td>\n",
       "      <td>...</td>\n",
       "      <td>...</td>\n",
       "      <td>...</td>\n",
       "      <td>...</td>\n",
       "    </tr>\n",
       "    <tr>\n",
       "      <th>57</th>\n",
       "      <td>0</td>\n",
       "      <td>250</td>\n",
       "      <td>8</td>\n",
       "      <td>451</td>\n",
       "      <td>7.801688</td>\n",
       "      <td>1.026259</td>\n",
       "      <td>0.854415</td>\n",
       "      <td>NC_002211.1</td>\n",
       "      <td>0.897860</td>\n",
       "    </tr>\n",
       "    <tr>\n",
       "      <th>58</th>\n",
       "      <td>250</td>\n",
       "      <td>500</td>\n",
       "      <td>5</td>\n",
       "      <td>451</td>\n",
       "      <td>7.801688</td>\n",
       "      <td>0.633558</td>\n",
       "      <td>0.457783</td>\n",
       "      <td>NC_002211.1</td>\n",
       "      <td>0.633471</td>\n",
       "    </tr>\n",
       "    <tr>\n",
       "      <th>59</th>\n",
       "      <td>500</td>\n",
       "      <td>750</td>\n",
       "      <td>3</td>\n",
       "      <td>451</td>\n",
       "      <td>7.801688</td>\n",
       "      <td>0.377057</td>\n",
       "      <td>0.094334</td>\n",
       "      <td>NC_002211.1</td>\n",
       "      <td>0.211964</td>\n",
       "    </tr>\n",
       "    <tr>\n",
       "      <th>60</th>\n",
       "      <td>750</td>\n",
       "      <td>1000</td>\n",
       "      <td>2</td>\n",
       "      <td>451</td>\n",
       "      <td>7.801688</td>\n",
       "      <td>0.250358</td>\n",
       "      <td>0.026365</td>\n",
       "      <td>NC_002211.1</td>\n",
       "      <td>0.148602</td>\n",
       "    </tr>\n",
       "    <tr>\n",
       "      <th>61</th>\n",
       "      <td>1000</td>\n",
       "      <td>1096</td>\n",
       "      <td>7</td>\n",
       "      <td>451</td>\n",
       "      <td>2.995848</td>\n",
       "      <td>2.441690</td>\n",
       "      <td>0.031725</td>\n",
       "      <td>NC_002211.1</td>\n",
       "      <td>0.163912</td>\n",
       "    </tr>\n",
       "  </tbody>\n",
       "</table>\n",
       "<p>62 rows × 9 columns</p>\n",
       "</div>"
      ],
      "text/plain": [
       "    start   end  count  tot_count  expected      odds         p           id  \\\n",
       "0       0   250      6        451  7.801688  0.763386  0.711255  NC_002204.1   \n",
       "1     250   500      3        451  7.801688  0.377057  0.094334  NC_002204.1   \n",
       "2     500   750     13        451  7.801688  1.702854  0.067468  NC_002204.1   \n",
       "3     750  1000      6        451  7.801688  0.763386  0.711255  NC_002204.1   \n",
       "4    1000  1250     11        451  7.801688  1.428819  0.267432  NC_002204.1   \n",
       "..    ...   ...    ...        ...       ...       ...       ...          ...   \n",
       "57      0   250      8        451  7.801688  1.026259  0.854415  NC_002211.1   \n",
       "58    250   500      5        451  7.801688  0.633558  0.457783  NC_002211.1   \n",
       "59    500   750      3        451  7.801688  0.377057  0.094334  NC_002211.1   \n",
       "60    750  1000      2        451  7.801688  0.250358  0.026365  NC_002211.1   \n",
       "61   1000  1096      7        451  2.995848  2.441690  0.031725  NC_002211.1   \n",
       "\n",
       "        padj  \n",
       "0   0.816626  \n",
       "1   0.211964  \n",
       "2   0.209152  \n",
       "3   0.816626  \n",
       "4   0.405629  \n",
       "..       ...  \n",
       "57  0.897860  \n",
       "58  0.633471  \n",
       "59  0.211964  \n",
       "60  0.148602  \n",
       "61  0.163912  \n",
       "\n",
       "[62 rows x 9 columns]"
      ]
     },
     "execution_count": 68,
     "metadata": {},
     "output_type": "execute_result"
    }
   ],
   "source": [
    "r"
   ]
  },
  {
   "cell_type": "markdown",
   "metadata": {},
   "source": [
    "We select significantly enriched bins:"
   ]
  },
  {
   "cell_type": "code",
   "execution_count": 69,
   "metadata": {
    "scrolled": true
   },
   "outputs": [
    {
     "data": {
      "text/html": [
       "<div>\n",
       "<style scoped>\n",
       "    .dataframe tbody tr th:only-of-type {\n",
       "        vertical-align: middle;\n",
       "    }\n",
       "\n",
       "    .dataframe tbody tr th {\n",
       "        vertical-align: top;\n",
       "    }\n",
       "\n",
       "    .dataframe thead th {\n",
       "        text-align: right;\n",
       "    }\n",
       "</style>\n",
       "<table border=\"1\" class=\"dataframe\">\n",
       "  <thead>\n",
       "    <tr style=\"text-align: right;\">\n",
       "      <th></th>\n",
       "      <th>start</th>\n",
       "      <th>end</th>\n",
       "      <th>count</th>\n",
       "      <th>tot_count</th>\n",
       "      <th>expected</th>\n",
       "      <th>odds</th>\n",
       "      <th>p</th>\n",
       "      <th>id</th>\n",
       "      <th>padj</th>\n",
       "    </tr>\n",
       "  </thead>\n",
       "  <tbody>\n",
       "  </tbody>\n",
       "</table>\n",
       "</div>"
      ],
      "text/plain": [
       "Empty DataFrame\n",
       "Columns: [start, end, count, tot_count, expected, odds, p, id, padj]\n",
       "Index: []"
      ]
     },
     "execution_count": 69,
     "metadata": {},
     "output_type": "execute_result"
    }
   ],
   "source": [
    "r[(r.padj<0.05) & (r.odds > 1)]"
   ]
  },
  {
   "cell_type": "markdown",
   "metadata": {},
   "source": [
    "and significantly depleted bins:"
   ]
  },
  {
   "cell_type": "code",
   "execution_count": 70,
   "metadata": {
    "scrolled": true
   },
   "outputs": [
    {
     "data": {
      "text/html": [
       "<div>\n",
       "<style scoped>\n",
       "    .dataframe tbody tr th:only-of-type {\n",
       "        vertical-align: middle;\n",
       "    }\n",
       "\n",
       "    .dataframe tbody tr th {\n",
       "        vertical-align: top;\n",
       "    }\n",
       "\n",
       "    .dataframe thead th {\n",
       "        text-align: right;\n",
       "    }\n",
       "</style>\n",
       "<table border=\"1\" class=\"dataframe\">\n",
       "  <thead>\n",
       "    <tr style=\"text-align: right;\">\n",
       "      <th></th>\n",
       "      <th>start</th>\n",
       "      <th>end</th>\n",
       "      <th>count</th>\n",
       "      <th>tot_count</th>\n",
       "      <th>expected</th>\n",
       "      <th>odds</th>\n",
       "      <th>p</th>\n",
       "      <th>id</th>\n",
       "      <th>padj</th>\n",
       "    </tr>\n",
       "  </thead>\n",
       "  <tbody>\n",
       "    <tr>\n",
       "      <th>8</th>\n",
       "      <td>2000</td>\n",
       "      <td>2250</td>\n",
       "      <td>0</td>\n",
       "      <td>451</td>\n",
       "      <td>7.801688</td>\n",
       "      <td>0.0</td>\n",
       "      <td>0.000652</td>\n",
       "      <td>NC_002204.1</td>\n",
       "      <td>0.010106</td>\n",
       "    </tr>\n",
       "    <tr>\n",
       "      <th>38</th>\n",
       "      <td>250</td>\n",
       "      <td>500</td>\n",
       "      <td>0</td>\n",
       "      <td>451</td>\n",
       "      <td>7.801688</td>\n",
       "      <td>0.0</td>\n",
       "      <td>0.000652</td>\n",
       "      <td>NC_002208.1</td>\n",
       "      <td>0.010106</td>\n",
       "    </tr>\n",
       "    <tr>\n",
       "      <th>49</th>\n",
       "      <td>1000</td>\n",
       "      <td>1250</td>\n",
       "      <td>0</td>\n",
       "      <td>451</td>\n",
       "      <td>7.801688</td>\n",
       "      <td>0.0</td>\n",
       "      <td>0.000652</td>\n",
       "      <td>NC_002209.1</td>\n",
       "      <td>0.010106</td>\n",
       "    </tr>\n",
       "    <tr>\n",
       "      <th>54</th>\n",
       "      <td>500</td>\n",
       "      <td>750</td>\n",
       "      <td>0</td>\n",
       "      <td>451</td>\n",
       "      <td>7.801688</td>\n",
       "      <td>0.0</td>\n",
       "      <td>0.000652</td>\n",
       "      <td>NC_002210.1</td>\n",
       "      <td>0.010106</td>\n",
       "    </tr>\n",
       "  </tbody>\n",
       "</table>\n",
       "</div>"
      ],
      "text/plain": [
       "    start   end  count  tot_count  expected  odds         p           id  \\\n",
       "8    2000  2250      0        451  7.801688   0.0  0.000652  NC_002204.1   \n",
       "38    250   500      0        451  7.801688   0.0  0.000652  NC_002208.1   \n",
       "49   1000  1250      0        451  7.801688   0.0  0.000652  NC_002209.1   \n",
       "54    500   750      0        451  7.801688   0.0  0.000652  NC_002210.1   \n",
       "\n",
       "        padj  \n",
       "8   0.010106  \n",
       "38  0.010106  \n",
       "49  0.010106  \n",
       "54  0.010106  "
      ]
     },
     "execution_count": 70,
     "metadata": {},
     "output_type": "execute_result"
    }
   ],
   "source": [
    "r[(r.padj<0.05) & (r.odds < 1)]"
   ]
  },
  {
   "cell_type": "markdown",
   "metadata": {},
   "source": [
    "## Plot enrichment/depletion  in sliding windows"
   ]
  },
  {
   "cell_type": "code",
   "execution_count": 8,
   "metadata": {},
   "outputs": [
    {
     "data": {
      "image/png": "[encoded data removed]",
      "text/plain": [
       "<Figure size 864x288 with 1 Axes>"
      ]
     },
     "metadata": {
      "needs_background": "light"
     },
     "output_type": "display_data"
    }
   ],
   "source": [
    "r['window'] = r.index\n",
    "r['sig'] = r.padj<0.05\n",
    "r['window_name'] = r.apply(lambda row: str(row.start)+':'+str(row.end), axis=1)\n",
    "sliding_window_plot(sliding_window_df=r, \n",
    "                            x_var='window', \n",
    "                            y_var='count', \n",
    "                            xticklabels='window_name', title='75')"
   ]
  }
 ],
 "metadata": {
  "kernelspec": {
   "display_name": "Python (vir)",
   "language": "python",
   "name": "vir"
  },
  "language_info": {
   "codemirror_mode": {
    "name": "ipython",
    "version": 3
   },
   "file_extension": ".py",
   "mimetype": "text/x-python",
   "name": "python",
   "nbconvert_exporter": "python",
   "pygments_lexer": "ipython3",
   "version": "3.7.8"
  }
 },
 "nbformat": 4,
 "nbformat_minor": 4
}

{
 "cells": [
  {
   "cell_type": "markdown",
   "metadata": {},
   "source": [
    "# Discovering Binding Sites on a Viral Genome with SMEAGOL"
   ]
  },
  {
   "cell_type": "markdown",
   "metadata": {},
   "source": [
    "This notebook demonstrates the functions for binding site discovery and enrichment. Here we use the genome of the SARS-CoV-2 coronavirus as an example."
   ]
  },
  {
   "cell_type": "markdown",
   "metadata": {},
   "source": [
    "## Import requirements"
   ]
  },
  {
   "cell_type": "code",
   "execution_count": 1,
   "metadata": {
    "scrolled": true
   },
   "outputs": [],
   "source": [
    "# General imports\n",
    "import os\n",
    "import pandas as pd\n",
    "import matplotlib.pyplot as plt\n",
    "import seaborn as sns\n",
    "\n",
    "# Suppress FutureWarnings\n",
    "import warnings\n",
    "warnings.simplefilter(action='ignore', category=FutureWarning)\n",
    "\n",
    "# SMEAGOL imports\n",
    "import smeagol.io, smeagol.models, smeagol.scan, smeagol.enrich, smeagol.visualize"
   ]
  },
  {
   "cell_type": "markdown",
   "metadata": {},
   "source": [
    "## Load PWMs from RBPDB"
   ]
  },
  {
   "cell_type": "markdown",
   "metadata": {},
   "source": [
    "We start this example by downloading a set of human PWMs and associated metadata from the RBPDB database."
   ]
  },
  {
   "cell_type": "code",
   "execution_count": 2,
   "metadata": {},
   "outputs": [],
   "source": [
    "if not os.path.exists('rbpdb'):\n",
    "    !mkdir rbpdb\n",
    "    !wget http://rbpdb.ccbr.utoronto.ca/downloads/RBPDB_v1.3.1_human_2012-11-21_TDT.zip\n",
    "    !wget http://rbpdb.ccbr.utoronto.ca/downloads/matrices_human.zip\n",
    "    !unzip RBPDB_v1.3.1_human_2012-11-21_TDT -d rbpdb\n",
    "    !unzip matrices_human -d rbpdb\n",
    "    !rm RBPDB_v1.3.1_human_2012-11-21_TDT.zip\n",
    "    !rm matrices_human.zip"
   ]
  },
  {
   "cell_type": "markdown",
   "metadata": {},
   "source": [
    "PWMs are stored as individual files in the `PWMDir` directory. We can load these using the `read_pms_from_dir` function."
   ]
  },
  {
   "cell_type": "code",
   "execution_count": 3,
   "metadata": {},
   "outputs": [
    {
     "name": "stdout",
     "output_type": "stream",
     "text": [
      "CPU times: user 2 µs, sys: 1 µs, total: 3 µs\n",
      "Wall time: 5.25 µs\n"
     ]
    },
    {
     "data": {
      "text/html": [
       "<div>\n",
       "<style scoped>\n",
       "    .dataframe tbody tr th:only-of-type {\n",
       "        vertical-align: middle;\n",
       "    }\n",
       "\n",
       "    .dataframe tbody tr th {\n",
       "        vertical-align: top;\n",
       "    }\n",
       "\n",
       "    .dataframe thead th {\n",
       "        text-align: right;\n",
       "    }\n",
       "</style>\n",
       "<table border=\"1\" class=\"dataframe\">\n",
       "  <thead>\n",
       "    <tr style=\"text-align: right;\">\n",
       "      <th></th>\n",
       "      <th>Matrix_id</th>\n",
       "      <th>weights</th>\n",
       "    </tr>\n",
       "  </thead>\n",
       "  <tbody>\n",
       "    <tr>\n",
       "      <th>0</th>\n",
       "      <td>1004</td>\n",
       "      <td>[[-0.97243147, 1.6437941, -2.4521041, -2.45210...</td>\n",
       "    </tr>\n",
       "    <tr>\n",
       "      <th>1</th>\n",
       "      <td>1052</td>\n",
       "      <td>[[-2.8408487, 1.8404688, -2.8408487, -2.840848...</td>\n",
       "    </tr>\n",
       "    <tr>\n",
       "      <th>2</th>\n",
       "      <td>1053</td>\n",
       "      <td>[[-2.3975062, 1.8398719, -3.035135, -3.035135]...</td>\n",
       "    </tr>\n",
       "    <tr>\n",
       "      <th>3</th>\n",
       "      <td>1169</td>\n",
       "      <td>[[0.95669593, 0.082893195, -1.0000001, -1.0000...</td>\n",
       "    </tr>\n",
       "    <tr>\n",
       "      <th>4</th>\n",
       "      <td>1170</td>\n",
       "      <td>[[0.24311354, -0.86083953, 0.82034014, -0.9999...</td>\n",
       "    </tr>\n",
       "  </tbody>\n",
       "</table>\n",
       "</div>"
      ],
      "text/plain": [
       "  Matrix_id                                            weights\n",
       "0      1004  [[-0.97243147, 1.6437941, -2.4521041, -2.45210...\n",
       "1      1052  [[-2.8408487, 1.8404688, -2.8408487, -2.840848...\n",
       "2      1053  [[-2.3975062, 1.8398719, -3.035135, -3.035135]...\n",
       "3      1169  [[0.95669593, 0.082893195, -1.0000001, -1.0000...\n",
       "4      1170  [[0.24311354, -0.86083953, 0.82034014, -0.9999..."
      ]
     },
     "execution_count": 3,
     "metadata": {},
     "output_type": "execute_result"
    }
   ],
   "source": [
    "%time\n",
    "pwms = smeagol.io.read_pms_from_dir('rbpdb/PWMDir', matrix_type='PWM', transpose=True)\n",
    "pwms.head()"
   ]
  },
  {
   "cell_type": "markdown",
   "metadata": {},
   "source": [
    "We can also read the metadata provided by RBPDB and add it to this Pandas dataframe."
   ]
  },
  {
   "cell_type": "code",
   "execution_count": 4,
   "metadata": {},
   "outputs": [
    {
     "name": "stdout",
     "output_type": "stream",
     "text": [
      "CPU times: user 3 µs, sys: 0 ns, total: 3 µs\n",
      "Wall time: 6.91 µs\n"
     ]
    }
   ],
   "source": [
    "%time\n",
    "rbp = pd.read_csv(\"rbpdb/RBPDB_v1.3.1_proteins_human_2012-11-21.tdt\", \n",
    "            header=None,  sep=\"\\t\", usecols=(0,4), names=('Prot_id', 'Gene_name'),\n",
    "                 dtype='str')\n",
    "rbp_pwm = pd.read_csv(\"rbpdb/RBPDB_v1.3.1_protExp_human_2012-11-21.tdt\", \n",
    "            header=None,  sep=\"\\t\", usecols=(0,1), names=('Prot_id', 'Matrix_id'),\n",
    "                 dtype='str')\n",
    "rbp = rbp.merge(rbp_pwm, on='Prot_id')\n",
    "pwms = pwms.merge(rbp.loc[:, ['Matrix_id', 'Gene_name']], on='Matrix_id')"
   ]
  },
  {
   "cell_type": "code",
   "execution_count": 5,
   "metadata": {},
   "outputs": [
    {
     "data": {
      "text/html": [
       "<div>\n",
       "<style scoped>\n",
       "    .dataframe tbody tr th:only-of-type {\n",
       "        vertical-align: middle;\n",
       "    }\n",
       "\n",
       "    .dataframe tbody tr th {\n",
       "        vertical-align: top;\n",
       "    }\n",
       "\n",
       "    .dataframe thead th {\n",
       "        text-align: right;\n",
       "    }\n",
       "</style>\n",
       "<table border=\"1\" class=\"dataframe\">\n",
       "  <thead>\n",
       "    <tr style=\"text-align: right;\">\n",
       "      <th></th>\n",
       "      <th>Matrix_id</th>\n",
       "      <th>weights</th>\n",
       "      <th>Gene_name</th>\n",
       "    </tr>\n",
       "  </thead>\n",
       "  <tbody>\n",
       "    <tr>\n",
       "      <th>0</th>\n",
       "      <td>1004</td>\n",
       "      <td>[[-0.97243147, 1.6437941, -2.4521041, -2.45210...</td>\n",
       "      <td>NCL</td>\n",
       "    </tr>\n",
       "    <tr>\n",
       "      <th>1</th>\n",
       "      <td>1052</td>\n",
       "      <td>[[-2.8408487, 1.8404688, -2.8408487, -2.840848...</td>\n",
       "      <td>RBMY1A1</td>\n",
       "    </tr>\n",
       "    <tr>\n",
       "      <th>2</th>\n",
       "      <td>1053</td>\n",
       "      <td>[[-2.3975062, 1.8398719, -3.035135, -3.035135]...</td>\n",
       "      <td>RBMY1A1</td>\n",
       "    </tr>\n",
       "    <tr>\n",
       "      <th>3</th>\n",
       "      <td>1169</td>\n",
       "      <td>[[0.95669593, 0.082893195, -1.0000001, -1.0000...</td>\n",
       "      <td>SFRS13A</td>\n",
       "    </tr>\n",
       "    <tr>\n",
       "      <th>4</th>\n",
       "      <td>1170</td>\n",
       "      <td>[[0.24311354, -0.86083953, 0.82034014, -0.9999...</td>\n",
       "      <td>ELAVL1</td>\n",
       "    </tr>\n",
       "  </tbody>\n",
       "</table>\n",
       "</div>"
      ],
      "text/plain": [
       "  Matrix_id                                            weights Gene_name\n",
       "0      1004  [[-0.97243147, 1.6437941, -2.4521041, -2.45210...       NCL\n",
       "1      1052  [[-2.8408487, 1.8404688, -2.8408487, -2.840848...   RBMY1A1\n",
       "2      1053  [[-2.3975062, 1.8398719, -3.035135, -3.035135]...   RBMY1A1\n",
       "3      1169  [[0.95669593, 0.082893195, -1.0000001, -1.0000...   SFRS13A\n",
       "4      1170  [[0.24311354, -0.86083953, 0.82034014, -0.9999...    ELAVL1"
      ]
     },
     "execution_count": 5,
     "metadata": {},
     "output_type": "execute_result"
    }
   ],
   "source": [
    "pwms.head()"
   ]
  },
  {
   "cell_type": "code",
   "execution_count": 6,
   "metadata": {},
   "outputs": [
    {
     "data": {
      "text/plain": [
       "56"
      ]
     },
     "execution_count": 6,
     "metadata": {},
     "output_type": "execute_result"
    }
   ],
   "source": [
    "len(pwms)"
   ]
  },
  {
   "cell_type": "markdown",
   "metadata": {},
   "source": [
    "## Analyze position matrices"
   ]
  },
  {
   "cell_type": "markdown",
   "metadata": {},
   "source": [
    "We have multiple matrices for some RBPs. To see how many distinct RBPs are in the list:"
   ]
  },
  {
   "cell_type": "code",
   "execution_count": 7,
   "metadata": {},
   "outputs": [
    {
     "data": {
      "text/plain": [
       "30"
      ]
     },
     "execution_count": 7,
     "metadata": {},
     "output_type": "execute_result"
    }
   ],
   "source": [
    "len(pd.unique(pwms.Gene_name))"
   ]
  },
  {
   "cell_type": "markdown",
   "metadata": {},
   "source": [
    "We can select a particular PWM using its `Matrix_id`:"
   ]
  },
  {
   "cell_type": "code",
   "execution_count": 8,
   "metadata": {},
   "outputs": [
    {
     "data": {
      "text/html": [
       "<div>\n",
       "<style scoped>\n",
       "    .dataframe tbody tr th:only-of-type {\n",
       "        vertical-align: middle;\n",
       "    }\n",
       "\n",
       "    .dataframe tbody tr th {\n",
       "        vertical-align: top;\n",
       "    }\n",
       "\n",
       "    .dataframe thead th {\n",
       "        text-align: right;\n",
       "    }\n",
       "</style>\n",
       "<table border=\"1\" class=\"dataframe\">\n",
       "  <thead>\n",
       "    <tr style=\"text-align: right;\">\n",
       "      <th></th>\n",
       "      <th>Matrix_id</th>\n",
       "      <th>weights</th>\n",
       "      <th>Gene_name</th>\n",
       "    </tr>\n",
       "  </thead>\n",
       "  <tbody>\n",
       "    <tr>\n",
       "      <th>21</th>\n",
       "      <td>242</td>\n",
       "      <td>[[0.98601563, -1.5303424, 0.2184107, -0.972431...</td>\n",
       "      <td>SFRS1</td>\n",
       "    </tr>\n",
       "  </tbody>\n",
       "</table>\n",
       "</div>"
      ],
      "text/plain": [
       "   Matrix_id                                            weights Gene_name\n",
       "21       242  [[0.98601563, -1.5303424, 0.2184107, -0.972431...     SFRS1"
      ]
     },
     "execution_count": 8,
     "metadata": {},
     "output_type": "execute_result"
    }
   ],
   "source": [
    "pwms[pwms.Matrix_id=='242']"
   ]
  },
  {
   "cell_type": "markdown",
   "metadata": {},
   "source": [
    "We can also select all PWMs for an RBP:"
   ]
  },
  {
   "cell_type": "code",
   "execution_count": 9,
   "metadata": {
    "scrolled": true
   },
   "outputs": [
    {
     "data": {
      "text/html": [
       "<div>\n",
       "<style scoped>\n",
       "    .dataframe tbody tr th:only-of-type {\n",
       "        vertical-align: middle;\n",
       "    }\n",
       "\n",
       "    .dataframe tbody tr th {\n",
       "        vertical-align: top;\n",
       "    }\n",
       "\n",
       "    .dataframe thead th {\n",
       "        text-align: right;\n",
       "    }\n",
       "</style>\n",
       "<table border=\"1\" class=\"dataframe\">\n",
       "  <thead>\n",
       "    <tr style=\"text-align: right;\">\n",
       "      <th></th>\n",
       "      <th>Matrix_id</th>\n",
       "      <th>weights</th>\n",
       "      <th>Gene_name</th>\n",
       "    </tr>\n",
       "  </thead>\n",
       "  <tbody>\n",
       "    <tr>\n",
       "      <th>7</th>\n",
       "      <td>1173</td>\n",
       "      <td>[[0.65450337, -1.0, -0.39733409, 0.2223916], [...</td>\n",
       "      <td>SFRS1</td>\n",
       "    </tr>\n",
       "    <tr>\n",
       "      <th>21</th>\n",
       "      <td>242</td>\n",
       "      <td>[[0.98601563, -1.5303424, 0.2184107, -0.972431...</td>\n",
       "      <td>SFRS1</td>\n",
       "    </tr>\n",
       "    <tr>\n",
       "      <th>22</th>\n",
       "      <td>243</td>\n",
       "      <td>[[1.5090976, -1.3787187, -1.3787187, -1.378718...</td>\n",
       "      <td>SFRS1</td>\n",
       "    </tr>\n",
       "    <tr>\n",
       "      <th>52</th>\n",
       "      <td>952</td>\n",
       "      <td>[[1.0339473, -0.9328858, -0.9328858, -0.144389...</td>\n",
       "      <td>SFRS1</td>\n",
       "    </tr>\n",
       "  </tbody>\n",
       "</table>\n",
       "</div>"
      ],
      "text/plain": [
       "   Matrix_id                                            weights Gene_name\n",
       "7       1173  [[0.65450337, -1.0, -0.39733409, 0.2223916], [...     SFRS1\n",
       "21       242  [[0.98601563, -1.5303424, 0.2184107, -0.972431...     SFRS1\n",
       "22       243  [[1.5090976, -1.3787187, -1.3787187, -1.378718...     SFRS1\n",
       "52       952  [[1.0339473, -0.9328858, -0.9328858, -0.144389...     SFRS1"
      ]
     },
     "execution_count": 9,
     "metadata": {},
     "output_type": "execute_result"
    }
   ],
   "source": [
    "pwms[pwms.Gene_name=='SFRS1']"
   ]
  },
  {
   "cell_type": "markdown",
   "metadata": {},
   "source": [
    "We can plot any PWM in `pwms` as follows:"
   ]
  },
  {
   "cell_type": "code",
   "execution_count": 10,
   "metadata": {
    "scrolled": false
   },
   "outputs": [
    {
     "data": {
      "image/png": "[encoded data removed]",
      "text/plain": [
       "<IPython.core.display.Image object>"
      ]
     },
     "execution_count": 10,
     "metadata": {},
     "output_type": "execute_result"
    }
   ],
   "source": [
    "smeagol.visualize.plot_pwm(pwms, Matrix_id='242')"
   ]
  },
  {
   "cell_type": "markdown",
   "metadata": {},
   "source": [
    "Finally, we encode all these PWMs as a convolutional model. This will allow us to scan genome sequence(s)."
   ]
  },
  {
   "cell_type": "code",
   "execution_count": 11,
   "metadata": {
    "scrolled": false
   },
   "outputs": [
    {
     "name": "stderr",
     "output_type": "stream",
     "text": [
      "2021-08-26 08:30:17.522147: I tensorflow/core/platform/cpu_feature_guard.cc:142] This TensorFlow binary is optimized with oneAPI Deep Neural Network Library (oneDNN) to use the following CPU instructions in performance-critical operations:  AVX2 FMA\n",
      "To enable them in other operations, rebuild TensorFlow with the appropriate compiler flags.\n"
     ]
    }
   ],
   "source": [
    "model = smeagol.models.PWMModel(pwms)"
   ]
  },
  {
   "cell_type": "markdown",
   "metadata": {},
   "source": [
    "## Load the genome"
   ]
  },
  {
   "cell_type": "markdown",
   "metadata": {},
   "source": [
    "We will download the FASTA file containing the viral genome to analyze."
   ]
  },
  {
   "cell_type": "code",
   "execution_count": 12,
   "metadata": {},
   "outputs": [],
   "source": [
    "if not os.path.exists('GCA_009858895.3_ASM985889v3_genomic.fna.gz'):\n",
    "    !wget https://ftp.ncbi.nlm.nih.gov/genomes/all/GCA/009/858/895/GCA_009858895.3_ASM985889v3/GCA_009858895.3_ASM985889v3_genomic.fna.gz"
   ]
  },
  {
   "cell_type": "markdown",
   "metadata": {},
   "source": [
    "We need to specify whether this is a `+` or `-` sense viral genome."
   ]
  },
  {
   "cell_type": "code",
   "execution_count": 13,
   "metadata": {},
   "outputs": [],
   "source": [
    "genome_sense = '+'"
   ]
  },
  {
   "cell_type": "markdown",
   "metadata": {},
   "source": [
    "We now read the genome sequence, and store it an object called `genome`:"
   ]
  },
  {
   "cell_type": "code",
   "execution_count": 14,
   "metadata": {
    "scrolled": true
   },
   "outputs": [
    {
     "name": "stdout",
     "output_type": "stream",
     "text": [
      "Read 1 records from GCA_009858895.3_ASM985889v3_genomic.fna.gz\n",
      "CPU times: user 16.2 ms, sys: 9.01 ms, total: 25.2 ms\n",
      "Wall time: 45.5 ms\n"
     ]
    },
    {
     "data": {
      "text/plain": [
       "[SeqRecord(seq=Seq('ATTAAAGGTTTATACCTTCCCAGGTAACAAACCAACCAACTTTCGATCTCTTGT...AAA'), id='MN908947.3', name='MN908947.3', description='MN908947.3 Severe acute respiratory syndrome coronavirus 2 isolate Wuhan-Hu-1, complete genome', dbxrefs=[])]"
      ]
     },
     "execution_count": 14,
     "metadata": {},
     "output_type": "execute_result"
    }
   ],
   "source": [
    "%%time\n",
    "genome = smeagol.io.read_fasta('GCA_009858895.3_ASM985889v3_genomic.fna.gz')\n",
    "genome"
   ]
  },
  {
   "cell_type": "markdown",
   "metadata": {},
   "source": [
    "In this case, the viral genome has a single segment. However, we can analyze multi-segment genomes in exactly the same way - simply include the sequences of all the segments in the same FASTA file."
   ]
  },
  {
   "cell_type": "markdown",
   "metadata": {},
   "source": [
    "## Scanning the genome for binding sites"
   ]
  },
  {
   "cell_type": "markdown",
   "metadata": {},
   "source": [
    "Let's start by seeing how to scan the genome with the loaded PWMs to identify binding sites, using a threshold of 0.7. \n",
    "\n",
    "In the process, we can also choose whether to scan the reverse complement sequence. To scan the reverse complement sequence as well as the given sequence, we would specify `rcomp='both'`. To scan only the reverse complement sequence, use `rcomp='only'`. To scan only the given sequence, use `rcomp='none'`.\n",
    "\n",
    "The `outputs` flag specifies the type of output we want. Supply a list containing one or many of the following options: 'sites', 'counts', 'binned_counts', 'stats'. 'sites' returns the locations of binding sites. 'counts' returns the number of sites for each PWM. 'stats' is used when scanning multiple sequences and gives the mean and standard deviation of the number of binding sites across all sequences. 'binned_counts' will be demonstrated in the next section.\n",
    "\n",
    "The `score` flag can be used when 'sites' is one of the `outputs`. It specifies that we want to return the score for each binding site as well as its location."
   ]
  },
  {
   "cell_type": "code",
   "execution_count": 15,
   "metadata": {
    "scrolled": false
   },
   "outputs": [
    {
     "name": "stderr",
     "output_type": "stream",
     "text": [
      "2021-08-26 08:30:36.668180: I tensorflow/compiler/mlir/mlir_graph_optimization_pass.cc:176] None of the MLIR Optimization Passes are enabled (registered 2)\n"
     ]
    }
   ],
   "source": [
    "sites = smeagol.scan.scan_sequences(genome, model, threshold=0.7, sense=genome_sense, \n",
    "                                    rcomp='both', outputs=['sites'], score=True)"
   ]
  },
  {
   "cell_type": "markdown",
   "metadata": {},
   "source": [
    "The function returns a dictionary containing the specified outputs."
   ]
  },
  {
   "cell_type": "code",
   "execution_count": 16,
   "metadata": {
    "scrolled": true
   },
   "outputs": [
    {
     "data": {
      "text/plain": [
       "{'sites':                id        name sense  start Matrix_id  width    end      score  \\\n",
       " 0      MN908947.3  MN908947.3     +      0      1174      6      6   4.092388   \n",
       " 1      MN908947.3  MN908947.3     +      3      1169      7     10   4.293839   \n",
       " 2      MN908947.3  MN908947.3     +      7      1170      4     11   4.403591   \n",
       " 3      MN908947.3  MN908947.3     +     17      1217      5     22  23.000000   \n",
       " 4      MN908947.3  MN908947.3     +     19       922      4     23   5.268255   \n",
       " ...           ...         ...   ...    ...       ...    ...    ...        ...   \n",
       " 10021  MN908947.3  MN908947.3     -  29879      1177      6  29885   5.023006   \n",
       " 10022  MN908947.3  MN908947.3     -  29882      1173      4  29886   3.568450   \n",
       " 10023  MN908947.3  MN908947.3     -  29883       352      4  29887   6.466840   \n",
       " 10024  MN908947.3  MN908947.3     -  29889      1174      6  29895   4.277494   \n",
       " 10025  MN908947.3  MN908947.3     -  29897      1174      6  29903   4.370796   \n",
       " \n",
       "        max_score  frac_score  \n",
       " 0       4.652089    0.879688  \n",
       " 1       5.110522    0.840196  \n",
       " 2       4.403591    1.000000  \n",
       " 3      25.000000    0.920000  \n",
       " 4       5.268255    1.000000  \n",
       " ...          ...         ...  \n",
       " 10021   6.338906    0.792409  \n",
       " 10022   4.620288    0.772344  \n",
       " 10023   6.466840    1.000000  \n",
       " 10024   4.652089    0.919478  \n",
       " 10025   4.652089    0.939534  \n",
       " \n",
       " [10026 rows x 10 columns]}"
      ]
     },
     "execution_count": 16,
     "metadata": {},
     "output_type": "execute_result"
    }
   ],
   "source": [
    "sites"
   ]
  },
  {
   "cell_type": "markdown",
   "metadata": {},
   "source": [
    "Individual outputs can be accessed by name:"
   ]
  },
  {
   "cell_type": "code",
   "execution_count": 17,
   "metadata": {},
   "outputs": [
    {
     "data": {
      "text/html": [
       "<div>\n",
       "<style scoped>\n",
       "    .dataframe tbody tr th:only-of-type {\n",
       "        vertical-align: middle;\n",
       "    }\n",
       "\n",
       "    .dataframe tbody tr th {\n",
       "        vertical-align: top;\n",
       "    }\n",
       "\n",
       "    .dataframe thead th {\n",
       "        text-align: right;\n",
       "    }\n",
       "</style>\n",
       "<table border=\"1\" class=\"dataframe\">\n",
       "  <thead>\n",
       "    <tr style=\"text-align: right;\">\n",
       "      <th></th>\n",
       "      <th>id</th>\n",
       "      <th>name</th>\n",
       "      <th>sense</th>\n",
       "      <th>start</th>\n",
       "      <th>Matrix_id</th>\n",
       "      <th>width</th>\n",
       "      <th>end</th>\n",
       "      <th>score</th>\n",
       "      <th>max_score</th>\n",
       "      <th>frac_score</th>\n",
       "    </tr>\n",
       "  </thead>\n",
       "  <tbody>\n",
       "    <tr>\n",
       "      <th>0</th>\n",
       "      <td>MN908947.3</td>\n",
       "      <td>MN908947.3</td>\n",
       "      <td>+</td>\n",
       "      <td>0</td>\n",
       "      <td>1174</td>\n",
       "      <td>6</td>\n",
       "      <td>6</td>\n",
       "      <td>4.092388</td>\n",
       "      <td>4.652089</td>\n",
       "      <td>0.879688</td>\n",
       "    </tr>\n",
       "    <tr>\n",
       "      <th>1</th>\n",
       "      <td>MN908947.3</td>\n",
       "      <td>MN908947.3</td>\n",
       "      <td>+</td>\n",
       "      <td>3</td>\n",
       "      <td>1169</td>\n",
       "      <td>7</td>\n",
       "      <td>10</td>\n",
       "      <td>4.293839</td>\n",
       "      <td>5.110522</td>\n",
       "      <td>0.840196</td>\n",
       "    </tr>\n",
       "    <tr>\n",
       "      <th>2</th>\n",
       "      <td>MN908947.3</td>\n",
       "      <td>MN908947.3</td>\n",
       "      <td>+</td>\n",
       "      <td>7</td>\n",
       "      <td>1170</td>\n",
       "      <td>4</td>\n",
       "      <td>11</td>\n",
       "      <td>4.403591</td>\n",
       "      <td>4.403591</td>\n",
       "      <td>1.000000</td>\n",
       "    </tr>\n",
       "    <tr>\n",
       "      <th>3</th>\n",
       "      <td>MN908947.3</td>\n",
       "      <td>MN908947.3</td>\n",
       "      <td>+</td>\n",
       "      <td>17</td>\n",
       "      <td>1217</td>\n",
       "      <td>5</td>\n",
       "      <td>22</td>\n",
       "      <td>23.000000</td>\n",
       "      <td>25.000000</td>\n",
       "      <td>0.920000</td>\n",
       "    </tr>\n",
       "    <tr>\n",
       "      <th>4</th>\n",
       "      <td>MN908947.3</td>\n",
       "      <td>MN908947.3</td>\n",
       "      <td>+</td>\n",
       "      <td>19</td>\n",
       "      <td>922</td>\n",
       "      <td>4</td>\n",
       "      <td>23</td>\n",
       "      <td>5.268255</td>\n",
       "      <td>5.268255</td>\n",
       "      <td>1.000000</td>\n",
       "    </tr>\n",
       "  </tbody>\n",
       "</table>\n",
       "</div>"
      ],
      "text/plain": [
       "           id        name sense  start Matrix_id  width  end      score  \\\n",
       "0  MN908947.3  MN908947.3     +      0      1174      6    6   4.092388   \n",
       "1  MN908947.3  MN908947.3     +      3      1169      7   10   4.293839   \n",
       "2  MN908947.3  MN908947.3     +      7      1170      4   11   4.403591   \n",
       "3  MN908947.3  MN908947.3     +     17      1217      5   22  23.000000   \n",
       "4  MN908947.3  MN908947.3     +     19       922      4   23   5.268255   \n",
       "\n",
       "   max_score  frac_score  \n",
       "0   4.652089    0.879688  \n",
       "1   5.110522    0.840196  \n",
       "2   4.403591    1.000000  \n",
       "3  25.000000    0.920000  \n",
       "4   5.268255    1.000000  "
      ]
     },
     "execution_count": 17,
     "metadata": {},
     "output_type": "execute_result"
    }
   ],
   "source": [
    "sites = sites['sites']\n",
    "sites.head()"
   ]
  },
  {
   "cell_type": "markdown",
   "metadata": {},
   "source": [
    "## Number of binding sites found at various thresholds"
   ]
  },
  {
   "cell_type": "markdown",
   "metadata": {},
   "source": [
    "What if we chose a different threshold than 0.7? Here we show how to analyze the effects of different thresholds. We can also generate a background distribution of binding sites by shuffling the genome sequence and comparing the number of sites on the real vs. shuffled sequences at different thresholds."
   ]
  },
  {
   "cell_type": "markdown",
   "metadata": {},
   "source": [
    "To shuffle the genome sequence, we need to specify two parameters:"
   ]
  },
  {
   "cell_type": "code",
   "execution_count": 18,
   "metadata": {},
   "outputs": [],
   "source": [
    "simN=100 # Number of times to shuffle\n",
    "simK=2 # k-mer length to keep fixed"
   ]
  },
  {
   "cell_type": "markdown",
   "metadata": {},
   "source": [
    "Let's see how to get the distribution of number of binding sites by score. We begin by selecting a preliminary, low threshold of 0.5. "
   ]
  },
  {
   "cell_type": "markdown",
   "metadata": {},
   "source": [
    "We will now scan the real genome and the shuffled genome sequences for binding sites, and count the number of sites based on their score. This can take a long time!"
   ]
  },
  {
   "cell_type": "code",
   "execution_count": 20,
   "metadata": {
    "scrolled": false
   },
   "outputs": [
    {
     "name": "stdout",
     "output_type": "stream",
     "text": [
      "CPU times: user 2 µs, sys: 1e+03 ns, total: 3 µs\n",
      "Wall time: 5.01 µs\n",
      "Shuffled 1 sequence(s) 100 times while conserving k-mer frequency for k = 2.\n"
     ]
    }
   ],
   "source": [
    "%time\n",
    "threshold_binned_results = smeagol.enrich.examine_thresholds(genome, model, simN, simK, rcomp='none', sense=genome_sense, \n",
    "                                              min_threshold=0.5, verbose=True, combine_seqs=True)"
   ]
  },
  {
   "cell_type": "markdown",
   "metadata": {},
   "source": [
    "We can view the first few shuffled sequences:"
   ]
  },
  {
   "cell_type": "code",
   "execution_count": 21,
   "metadata": {},
   "outputs": [
    {
     "data": {
      "text/plain": [
       "[SeqRecord(seq=Seq('AACAGTAGCATCTGCATACTGTTGTGAACTTGAGTGACTAAAAAAATCTAGTTG...GGA'), id='background_seq_0', name='MN908947.3', description='<unknown description>', dbxrefs=[]),\n",
       " SeqRecord(seq=Seq('ATTATCTTAGTACATAAACTTTATCTTGTTTGCTGTGACCTATTGAAGTACACT...CCA'), id='background_seq_1', name='MN908947.3', description='<unknown description>', dbxrefs=[]),\n",
       " SeqRecord(seq=Seq('AAACAATACAACACCGGGTTAGGTATGACAAGCTTGGTGTATTAATGATTATGA...GAA'), id='background_seq_2', name='MN908947.3', description='<unknown description>', dbxrefs=[])]"
      ]
     },
     "execution_count": 21,
     "metadata": {},
     "output_type": "execute_result"
    }
   ],
   "source": [
    "threshold_binned_results['shuf_seqs'][:3]"
   ]
  },
  {
   "cell_type": "markdown",
   "metadata": {},
   "source": [
    "The output `threshold_binned_results` contains several dataframes:"
   ]
  },
  {
   "cell_type": "code",
   "execution_count": 22,
   "metadata": {},
   "outputs": [
    {
     "data": {
      "text/plain": [
       "dict_keys(['real_binned', 'shuf_binned', 'shuf_seqs'])"
      ]
     },
     "execution_count": 22,
     "metadata": {},
     "output_type": "execute_result"
    }
   ],
   "source": [
    "threshold_binned_results.keys()"
   ]
  },
  {
   "cell_type": "markdown",
   "metadata": {},
   "source": [
    "`real_binned` contains the number of binding sites found for each PWM, binned by score. We can view the first few entries:"
   ]
  },
  {
   "cell_type": "code",
   "execution_count": 23,
   "metadata": {
    "scrolled": false
   },
   "outputs": [
    {
     "data": {
      "text/html": [
       "<div>\n",
       "<style scoped>\n",
       "    .dataframe tbody tr th:only-of-type {\n",
       "        vertical-align: middle;\n",
       "    }\n",
       "\n",
       "    .dataframe tbody tr th {\n",
       "        vertical-align: top;\n",
       "    }\n",
       "\n",
       "    .dataframe thead th {\n",
       "        text-align: right;\n",
       "    }\n",
       "</style>\n",
       "<table border=\"1\" class=\"dataframe\">\n",
       "  <thead>\n",
       "    <tr style=\"text-align: right;\">\n",
       "      <th></th>\n",
       "      <th>Matrix_id</th>\n",
       "      <th>width</th>\n",
       "      <th>sense</th>\n",
       "      <th>bin</th>\n",
       "      <th>num</th>\n",
       "    </tr>\n",
       "  </thead>\n",
       "  <tbody>\n",
       "    <tr>\n",
       "      <th>0</th>\n",
       "      <td>1052</td>\n",
       "      <td>5</td>\n",
       "      <td>+</td>\n",
       "      <td>(0.5, 0.6]</td>\n",
       "      <td>15</td>\n",
       "    </tr>\n",
       "    <tr>\n",
       "      <th>1</th>\n",
       "      <td>1052</td>\n",
       "      <td>5</td>\n",
       "      <td>+</td>\n",
       "      <td>(0.6, 0.7]</td>\n",
       "      <td>16</td>\n",
       "    </tr>\n",
       "    <tr>\n",
       "      <th>2</th>\n",
       "      <td>1052</td>\n",
       "      <td>5</td>\n",
       "      <td>+</td>\n",
       "      <td>(0.7, 0.8]</td>\n",
       "      <td>0</td>\n",
       "    </tr>\n",
       "    <tr>\n",
       "      <th>3</th>\n",
       "      <td>1052</td>\n",
       "      <td>5</td>\n",
       "      <td>+</td>\n",
       "      <td>(0.8, 0.9]</td>\n",
       "      <td>50</td>\n",
       "    </tr>\n",
       "    <tr>\n",
       "      <th>4</th>\n",
       "      <td>1052</td>\n",
       "      <td>5</td>\n",
       "      <td>+</td>\n",
       "      <td>(0.9, 1.0]</td>\n",
       "      <td>0</td>\n",
       "    </tr>\n",
       "  </tbody>\n",
       "</table>\n",
       "</div>"
      ],
      "text/plain": [
       "  Matrix_id  width sense         bin  num\n",
       "0      1052      5     +  (0.5, 0.6]   15\n",
       "1      1052      5     +  (0.6, 0.7]   16\n",
       "2      1052      5     +  (0.7, 0.8]    0\n",
       "3      1052      5     +  (0.8, 0.9]   50\n",
       "4      1052      5     +  (0.9, 1.0]    0"
      ]
     },
     "execution_count": 23,
     "metadata": {},
     "output_type": "execute_result"
    }
   ],
   "source": [
    "threshold_binned_results['real_binned'].head()"
   ]
  },
  {
   "cell_type": "markdown",
   "metadata": {},
   "source": [
    "The `num` column records the number of binding sites per PWM, per bin."
   ]
  },
  {
   "cell_type": "markdown",
   "metadata": {},
   "source": [
    "We plot the distribution of binding sites on the real genome for a given PWM. Here, we are plotting the distribution of binding sites only on the `+` sense sequence."
   ]
  },
  {
   "cell_type": "code",
   "execution_count": 24,
   "metadata": {},
   "outputs": [
    {
     "data": {
      "image/png": "[encoded data removed]",
      "text/plain": [
       "<Figure size 864x288 with 1 Axes>"
      ]
     },
     "metadata": {
      "needs_background": "light"
     },
     "output_type": "display_data"
    }
   ],
   "source": [
    "smeagol.visualize.plot_binned_count_dist(threshold_binned_results['real_binned'], Matrix_id='242', sense ='+')"
   ]
  },
  {
   "cell_type": "markdown",
   "metadata": {},
   "source": [
    "`shuf_binned` contains the number of binding sites per bin, in the shuffled genomes."
   ]
  },
  {
   "cell_type": "code",
   "execution_count": 25,
   "metadata": {},
   "outputs": [
    {
     "data": {
      "text/html": [
       "<div>\n",
       "<style scoped>\n",
       "    .dataframe tbody tr th:only-of-type {\n",
       "        vertical-align: middle;\n",
       "    }\n",
       "\n",
       "    .dataframe tbody tr th {\n",
       "        vertical-align: top;\n",
       "    }\n",
       "\n",
       "    .dataframe thead th {\n",
       "        text-align: right;\n",
       "    }\n",
       "</style>\n",
       "<table border=\"1\" class=\"dataframe\">\n",
       "  <thead>\n",
       "    <tr style=\"text-align: right;\">\n",
       "      <th></th>\n",
       "      <th>Matrix_id</th>\n",
       "      <th>width</th>\n",
       "      <th>sense</th>\n",
       "      <th>bin</th>\n",
       "      <th>id</th>\n",
       "      <th>num</th>\n",
       "    </tr>\n",
       "  </thead>\n",
       "  <tbody>\n",
       "    <tr>\n",
       "      <th>0</th>\n",
       "      <td>1052</td>\n",
       "      <td>5</td>\n",
       "      <td>+</td>\n",
       "      <td>(0.5, 0.6]</td>\n",
       "      <td>background_seq_0</td>\n",
       "      <td>8</td>\n",
       "    </tr>\n",
       "    <tr>\n",
       "      <th>1</th>\n",
       "      <td>1052</td>\n",
       "      <td>5</td>\n",
       "      <td>+</td>\n",
       "      <td>(0.5, 0.6]</td>\n",
       "      <td>background_seq_1</td>\n",
       "      <td>12</td>\n",
       "    </tr>\n",
       "    <tr>\n",
       "      <th>2</th>\n",
       "      <td>1052</td>\n",
       "      <td>5</td>\n",
       "      <td>+</td>\n",
       "      <td>(0.5, 0.6]</td>\n",
       "      <td>background_seq_10</td>\n",
       "      <td>8</td>\n",
       "    </tr>\n",
       "    <tr>\n",
       "      <th>3</th>\n",
       "      <td>1052</td>\n",
       "      <td>5</td>\n",
       "      <td>+</td>\n",
       "      <td>(0.5, 0.6]</td>\n",
       "      <td>background_seq_11</td>\n",
       "      <td>14</td>\n",
       "    </tr>\n",
       "    <tr>\n",
       "      <th>4</th>\n",
       "      <td>1052</td>\n",
       "      <td>5</td>\n",
       "      <td>+</td>\n",
       "      <td>(0.5, 0.6]</td>\n",
       "      <td>background_seq_12</td>\n",
       "      <td>10</td>\n",
       "    </tr>\n",
       "  </tbody>\n",
       "</table>\n",
       "</div>"
      ],
      "text/plain": [
       "  Matrix_id  width sense         bin                 id  num\n",
       "0      1052      5     +  (0.5, 0.6]   background_seq_0    8\n",
       "1      1052      5     +  (0.5, 0.6]   background_seq_1   12\n",
       "2      1052      5     +  (0.5, 0.6]  background_seq_10    8\n",
       "3      1052      5     +  (0.5, 0.6]  background_seq_11   14\n",
       "4      1052      5     +  (0.5, 0.6]  background_seq_12   10"
      ]
     },
     "execution_count": 25,
     "metadata": {},
     "output_type": "execute_result"
    }
   ],
   "source": [
    "threshold_binned_results['shuf_binned'].head()"
   ]
  },
  {
   "cell_type": "markdown",
   "metadata": {},
   "source": [
    "We can now plot the distribution of binding sites per bin for the real and shuffled genome sequences, for any given PWM."
   ]
  },
  {
   "cell_type": "code",
   "execution_count": 26,
   "metadata": {
    "scrolled": true
   },
   "outputs": [
    {
     "data": {
      "image/png": "[encoded data removed]",
      "text/plain": [
       "<Figure size 864x288 with 1 Axes>"
      ]
     },
     "metadata": {
      "needs_background": "light"
     },
     "output_type": "display_data"
    }
   ],
   "source": [
    "smeagol.visualize.plot_binned_count_dist(threshold_binned_results['real_binned'], Matrix_id='242', \n",
    "                                         sense ='+', shuf_preds=threshold_binned_results['shuf_binned'])"
   ]
  },
  {
   "cell_type": "markdown",
   "metadata": {},
   "source": [
    "### Binding site discovery and enrichment for a specified threshold"
   ]
  },
  {
   "cell_type": "markdown",
   "metadata": {},
   "source": [
    "Based on this exploration, we can select a higher threshold to identify binding sites, and test for enrichment of PWM matching sites in the genome using a simple function."
   ]
  },
  {
   "cell_type": "code",
   "execution_count": 27,
   "metadata": {},
   "outputs": [],
   "source": [
    "simN=300\n",
    "simK=2\n",
    "rcomp='both'\n",
    "threshold=0.8"
   ]
  },
  {
   "cell_type": "code",
   "execution_count": 28,
   "metadata": {
    "tags": []
   },
   "outputs": [
    {
     "name": "stdout",
     "output_type": "stream",
     "text": [
      "Shuffled 1 sequence(s) 300 times while conserving k-mer frequency for k = 2.\n"
     ]
    },
    {
     "name": "stderr",
     "output_type": "stream",
     "text": [
      "/Users/avantika/Desktop/viruslandscape/vir2/lib/python3.7/site-packages/scipy/stats/_discrete_distns.py:67: RuntimeWarning: divide by zero encountered in _binom_pdf\n",
      "  return _boost._binom_pdf(x, n, p)\n"
     ]
    },
    {
     "name": "stdout",
     "output_type": "stream",
     "text": [
      "CPU times: user 27.6 s, sys: 21.5 s, total: 49.1 s\n",
      "Wall time: 1min 55s\n"
     ]
    }
   ],
   "source": [
    "%%time\n",
    "enrichment_result = smeagol.enrich.enrich_in_genome(genome, model, simN=simN, simK=simK, rcomp=rcomp, \n",
    "                                                    sense=genome_sense, threshold=threshold, \n",
    "                                                    combine_seqs=True, background='binomial')"
   ]
  },
  {
   "cell_type": "markdown",
   "metadata": {},
   "source": [
    "The `enrichment_result` is also a dictionary containing several dataframes:"
   ]
  },
  {
   "cell_type": "code",
   "execution_count": 29,
   "metadata": {
    "scrolled": true
   },
   "outputs": [
    {
     "data": {
      "text/plain": [
       "dict_keys(['enrichment', 'real_sites', 'real_counts', 'shuf_counts', 'shuf_stats'])"
      ]
     },
     "execution_count": 29,
     "metadata": {},
     "output_type": "execute_result"
    }
   ],
   "source": [
    "enrichment_result.keys()"
   ]
  },
  {
   "cell_type": "markdown",
   "metadata": {},
   "source": [
    "We can view the locations of the binding sites:"
   ]
  },
  {
   "cell_type": "code",
   "execution_count": 30,
   "metadata": {
    "scrolled": true
   },
   "outputs": [
    {
     "data": {
      "text/html": [
       "<div>\n",
       "<style scoped>\n",
       "    .dataframe tbody tr th:only-of-type {\n",
       "        vertical-align: middle;\n",
       "    }\n",
       "\n",
       "    .dataframe tbody tr th {\n",
       "        vertical-align: top;\n",
       "    }\n",
       "\n",
       "    .dataframe thead th {\n",
       "        text-align: right;\n",
       "    }\n",
       "</style>\n",
       "<table border=\"1\" class=\"dataframe\">\n",
       "  <thead>\n",
       "    <tr style=\"text-align: right;\">\n",
       "      <th></th>\n",
       "      <th>id</th>\n",
       "      <th>name</th>\n",
       "      <th>sense</th>\n",
       "      <th>start</th>\n",
       "      <th>Matrix_id</th>\n",
       "      <th>width</th>\n",
       "      <th>end</th>\n",
       "    </tr>\n",
       "  </thead>\n",
       "  <tbody>\n",
       "    <tr>\n",
       "      <th>0</th>\n",
       "      <td>MN908947.3</td>\n",
       "      <td>MN908947.3</td>\n",
       "      <td>+</td>\n",
       "      <td>0</td>\n",
       "      <td>1174</td>\n",
       "      <td>6</td>\n",
       "      <td>6</td>\n",
       "    </tr>\n",
       "    <tr>\n",
       "      <th>1</th>\n",
       "      <td>MN908947.3</td>\n",
       "      <td>MN908947.3</td>\n",
       "      <td>+</td>\n",
       "      <td>3</td>\n",
       "      <td>1169</td>\n",
       "      <td>7</td>\n",
       "      <td>10</td>\n",
       "    </tr>\n",
       "    <tr>\n",
       "      <th>2</th>\n",
       "      <td>MN908947.3</td>\n",
       "      <td>MN908947.3</td>\n",
       "      <td>+</td>\n",
       "      <td>7</td>\n",
       "      <td>1170</td>\n",
       "      <td>4</td>\n",
       "      <td>11</td>\n",
       "    </tr>\n",
       "    <tr>\n",
       "      <th>3</th>\n",
       "      <td>MN908947.3</td>\n",
       "      <td>MN908947.3</td>\n",
       "      <td>+</td>\n",
       "      <td>17</td>\n",
       "      <td>1217</td>\n",
       "      <td>5</td>\n",
       "      <td>22</td>\n",
       "    </tr>\n",
       "    <tr>\n",
       "      <th>4</th>\n",
       "      <td>MN908947.3</td>\n",
       "      <td>MN908947.3</td>\n",
       "      <td>+</td>\n",
       "      <td>19</td>\n",
       "      <td>922</td>\n",
       "      <td>4</td>\n",
       "      <td>23</td>\n",
       "    </tr>\n",
       "  </tbody>\n",
       "</table>\n",
       "</div>"
      ],
      "text/plain": [
       "           id        name sense  start Matrix_id  width  end\n",
       "0  MN908947.3  MN908947.3     +      0      1174      6    6\n",
       "1  MN908947.3  MN908947.3     +      3      1169      7   10\n",
       "2  MN908947.3  MN908947.3     +      7      1170      4   11\n",
       "3  MN908947.3  MN908947.3     +     17      1217      5   22\n",
       "4  MN908947.3  MN908947.3     +     19       922      4   23"
      ]
     },
     "execution_count": 30,
     "metadata": {},
     "output_type": "execute_result"
    }
   ],
   "source": [
    "real_sites = enrichment_result['real_sites']\n",
    "real_sites.head()"
   ]
  },
  {
   "cell_type": "markdown",
   "metadata": {},
   "source": [
    "And the number of binding sites per PWM in the real genome:"
   ]
  },
  {
   "cell_type": "code",
   "execution_count": 31,
   "metadata": {},
   "outputs": [
    {
     "data": {
      "text/html": [
       "<div>\n",
       "<style scoped>\n",
       "    .dataframe tbody tr th:only-of-type {\n",
       "        vertical-align: middle;\n",
       "    }\n",
       "\n",
       "    .dataframe tbody tr th {\n",
       "        vertical-align: top;\n",
       "    }\n",
       "\n",
       "    .dataframe thead th {\n",
       "        text-align: right;\n",
       "    }\n",
       "</style>\n",
       "<table border=\"1\" class=\"dataframe\">\n",
       "  <thead>\n",
       "    <tr style=\"text-align: right;\">\n",
       "      <th></th>\n",
       "      <th>Matrix_id</th>\n",
       "      <th>width</th>\n",
       "      <th>sense</th>\n",
       "      <th>num</th>\n",
       "    </tr>\n",
       "  </thead>\n",
       "  <tbody>\n",
       "    <tr>\n",
       "      <th>0</th>\n",
       "      <td>1052</td>\n",
       "      <td>5</td>\n",
       "      <td>+</td>\n",
       "      <td>107</td>\n",
       "    </tr>\n",
       "    <tr>\n",
       "      <th>1</th>\n",
       "      <td>1052</td>\n",
       "      <td>5</td>\n",
       "      <td>-</td>\n",
       "      <td>89</td>\n",
       "    </tr>\n",
       "    <tr>\n",
       "      <th>2</th>\n",
       "      <td>1053</td>\n",
       "      <td>5</td>\n",
       "      <td>+</td>\n",
       "      <td>57</td>\n",
       "    </tr>\n",
       "    <tr>\n",
       "      <th>3</th>\n",
       "      <td>1053</td>\n",
       "      <td>5</td>\n",
       "      <td>-</td>\n",
       "      <td>20</td>\n",
       "    </tr>\n",
       "    <tr>\n",
       "      <th>4</th>\n",
       "      <td>1169</td>\n",
       "      <td>7</td>\n",
       "      <td>+</td>\n",
       "      <td>151</td>\n",
       "    </tr>\n",
       "  </tbody>\n",
       "</table>\n",
       "</div>"
      ],
      "text/plain": [
       "  Matrix_id  width sense  num\n",
       "0      1052      5     +  107\n",
       "1      1052      5     -   89\n",
       "2      1053      5     +   57\n",
       "3      1053      5     -   20\n",
       "4      1169      7     +  151"
      ]
     },
     "execution_count": 31,
     "metadata": {},
     "output_type": "execute_result"
    }
   ],
   "source": [
    "real_counts = enrichment_result['real_counts']\n",
    "real_counts.head()"
   ]
  },
  {
   "cell_type": "markdown",
   "metadata": {},
   "source": [
    "We can plot the distribution of number of binding sites per PWM, per strand:"
   ]
  },
  {
   "cell_type": "code",
   "execution_count": 32,
   "metadata": {
    "scrolled": true
   },
   "outputs": [
    {
     "data": {
      "text/plain": [
       "<AxesSubplot:xlabel='num', ylabel='Count'>"
      ]
     },
     "execution_count": 32,
     "metadata": {},
     "output_type": "execute_result"
    },
    {
     "data": {
      "image/png": "[encoded data removed]",
      "text/plain": [
       "<Figure size 864x216 with 1 Axes>"
      ]
     },
     "metadata": {
      "needs_background": "light"
     },
     "output_type": "display_data"
    }
   ],
   "source": [
    "plt.figure(figsize=(12, 3))\n",
    "sns.histplot(data=real_counts, x='num', hue='sense', bins='auto')"
   ]
  },
  {
   "cell_type": "markdown",
   "metadata": {},
   "source": [
    "We can see the number of binding sites found on the shuffled genomes:"
   ]
  },
  {
   "cell_type": "code",
   "execution_count": 33,
   "metadata": {},
   "outputs": [
    {
     "data": {
      "text/html": [
       "<div>\n",
       "<style scoped>\n",
       "    .dataframe tbody tr th:only-of-type {\n",
       "        vertical-align: middle;\n",
       "    }\n",
       "\n",
       "    .dataframe tbody tr th {\n",
       "        vertical-align: top;\n",
       "    }\n",
       "\n",
       "    .dataframe thead th {\n",
       "        text-align: right;\n",
       "    }\n",
       "</style>\n",
       "<table border=\"1\" class=\"dataframe\">\n",
       "  <thead>\n",
       "    <tr style=\"text-align: right;\">\n",
       "      <th></th>\n",
       "      <th>Matrix_id</th>\n",
       "      <th>width</th>\n",
       "      <th>sense</th>\n",
       "      <th>id</th>\n",
       "      <th>num</th>\n",
       "    </tr>\n",
       "  </thead>\n",
       "  <tbody>\n",
       "    <tr>\n",
       "      <th>0</th>\n",
       "      <td>1052</td>\n",
       "      <td>5</td>\n",
       "      <td>+</td>\n",
       "      <td>background_seq_0</td>\n",
       "      <td>88</td>\n",
       "    </tr>\n",
       "    <tr>\n",
       "      <th>1</th>\n",
       "      <td>1052</td>\n",
       "      <td>5</td>\n",
       "      <td>+</td>\n",
       "      <td>background_seq_1</td>\n",
       "      <td>97</td>\n",
       "    </tr>\n",
       "    <tr>\n",
       "      <th>2</th>\n",
       "      <td>1052</td>\n",
       "      <td>5</td>\n",
       "      <td>+</td>\n",
       "      <td>background_seq_10</td>\n",
       "      <td>77</td>\n",
       "    </tr>\n",
       "    <tr>\n",
       "      <th>3</th>\n",
       "      <td>1052</td>\n",
       "      <td>5</td>\n",
       "      <td>+</td>\n",
       "      <td>background_seq_100</td>\n",
       "      <td>96</td>\n",
       "    </tr>\n",
       "    <tr>\n",
       "      <th>4</th>\n",
       "      <td>1052</td>\n",
       "      <td>5</td>\n",
       "      <td>+</td>\n",
       "      <td>background_seq_101</td>\n",
       "      <td>99</td>\n",
       "    </tr>\n",
       "  </tbody>\n",
       "</table>\n",
       "</div>"
      ],
      "text/plain": [
       "  Matrix_id  width sense                  id  num\n",
       "0      1052      5     +    background_seq_0   88\n",
       "1      1052      5     +    background_seq_1   97\n",
       "2      1052      5     +   background_seq_10   77\n",
       "3      1052      5     +  background_seq_100   96\n",
       "4      1052      5     +  background_seq_101   99"
      ]
     },
     "execution_count": 33,
     "metadata": {},
     "output_type": "execute_result"
    }
   ],
   "source": [
    "shuf_counts = enrichment_result['shuf_counts']\n",
    "shuf_counts.head()"
   ]
  },
  {
   "cell_type": "code",
   "execution_count": 34,
   "metadata": {
    "scrolled": true
   },
   "outputs": [
    {
     "data": {
      "text/html": [
       "<div>\n",
       "<style scoped>\n",
       "    .dataframe tbody tr th:only-of-type {\n",
       "        vertical-align: middle;\n",
       "    }\n",
       "\n",
       "    .dataframe tbody tr th {\n",
       "        vertical-align: top;\n",
       "    }\n",
       "\n",
       "    .dataframe thead th {\n",
       "        text-align: right;\n",
       "    }\n",
       "</style>\n",
       "<table border=\"1\" class=\"dataframe\">\n",
       "  <thead>\n",
       "    <tr style=\"text-align: right;\">\n",
       "      <th></th>\n",
       "      <th>Matrix_id</th>\n",
       "      <th>width</th>\n",
       "      <th>sense</th>\n",
       "      <th>len</th>\n",
       "      <th>avg</th>\n",
       "      <th>sd</th>\n",
       "    </tr>\n",
       "  </thead>\n",
       "  <tbody>\n",
       "    <tr>\n",
       "      <th>0</th>\n",
       "      <td>1052</td>\n",
       "      <td>5</td>\n",
       "      <td>+</td>\n",
       "      <td>300</td>\n",
       "      <td>94.750000</td>\n",
       "      <td>9.650801</td>\n",
       "    </tr>\n",
       "    <tr>\n",
       "      <th>1</th>\n",
       "      <td>1052</td>\n",
       "      <td>5</td>\n",
       "      <td>-</td>\n",
       "      <td>300</td>\n",
       "      <td>125.356667</td>\n",
       "      <td>10.035862</td>\n",
       "    </tr>\n",
       "    <tr>\n",
       "      <th>2</th>\n",
       "      <td>1053</td>\n",
       "      <td>5</td>\n",
       "      <td>+</td>\n",
       "      <td>300</td>\n",
       "      <td>37.790000</td>\n",
       "      <td>6.113686</td>\n",
       "    </tr>\n",
       "    <tr>\n",
       "      <th>3</th>\n",
       "      <td>1053</td>\n",
       "      <td>5</td>\n",
       "      <td>-</td>\n",
       "      <td>300</td>\n",
       "      <td>46.216667</td>\n",
       "      <td>6.502615</td>\n",
       "    </tr>\n",
       "    <tr>\n",
       "      <th>4</th>\n",
       "      <td>1169</td>\n",
       "      <td>7</td>\n",
       "      <td>+</td>\n",
       "      <td>300</td>\n",
       "      <td>110.410000</td>\n",
       "      <td>10.133980</td>\n",
       "    </tr>\n",
       "  </tbody>\n",
       "</table>\n",
       "</div>"
      ],
      "text/plain": [
       "  Matrix_id  width sense  len         avg         sd\n",
       "0      1052      5     +  300   94.750000   9.650801\n",
       "1      1052      5     -  300  125.356667  10.035862\n",
       "2      1053      5     +  300   37.790000   6.113686\n",
       "3      1053      5     -  300   46.216667   6.502615\n",
       "4      1169      7     +  300  110.410000  10.133980"
      ]
     },
     "execution_count": 34,
     "metadata": {},
     "output_type": "execute_result"
    }
   ],
   "source": [
    "shuf_stats = enrichment_result['shuf_stats']\n",
    "shuf_stats.head()"
   ]
  },
  {
   "cell_type": "markdown",
   "metadata": {},
   "source": [
    "We can examine the enrichment for each PWM."
   ]
  },
  {
   "cell_type": "code",
   "execution_count": 35,
   "metadata": {},
   "outputs": [
    {
     "data": {
      "text/html": [
       "<div>\n",
       "<style scoped>\n",
       "    .dataframe tbody tr th:only-of-type {\n",
       "        vertical-align: middle;\n",
       "    }\n",
       "\n",
       "    .dataframe tbody tr th {\n",
       "        vertical-align: top;\n",
       "    }\n",
       "\n",
       "    .dataframe thead th {\n",
       "        text-align: right;\n",
       "    }\n",
       "</style>\n",
       "<table border=\"1\" class=\"dataframe\">\n",
       "  <thead>\n",
       "    <tr style=\"text-align: right;\">\n",
       "      <th></th>\n",
       "      <th>Matrix_id</th>\n",
       "      <th>width</th>\n",
       "      <th>sense</th>\n",
       "      <th>num</th>\n",
       "      <th>len</th>\n",
       "      <th>avg</th>\n",
       "      <th>sd</th>\n",
       "      <th>adj_len</th>\n",
       "      <th>p</th>\n",
       "      <th>fdr</th>\n",
       "    </tr>\n",
       "  </thead>\n",
       "  <tbody>\n",
       "    <tr>\n",
       "      <th>0</th>\n",
       "      <td>637</td>\n",
       "      <td>4</td>\n",
       "      <td>+</td>\n",
       "      <td>157.0</td>\n",
       "      <td>300</td>\n",
       "      <td>100.253333</td>\n",
       "      <td>10.115181</td>\n",
       "      <td>29900</td>\n",
       "      <td>1.338013e-07</td>\n",
       "      <td>0.000007</td>\n",
       "    </tr>\n",
       "    <tr>\n",
       "      <th>1</th>\n",
       "      <td>1169</td>\n",
       "      <td>7</td>\n",
       "      <td>+</td>\n",
       "      <td>151.0</td>\n",
       "      <td>300</td>\n",
       "      <td>110.410000</td>\n",
       "      <td>10.133980</td>\n",
       "      <td>29897</td>\n",
       "      <td>2.336380e-04</td>\n",
       "      <td>0.004283</td>\n",
       "    </tr>\n",
       "    <tr>\n",
       "      <th>2</th>\n",
       "      <td>947</td>\n",
       "      <td>10</td>\n",
       "      <td>+</td>\n",
       "      <td>5.0</td>\n",
       "      <td>300</td>\n",
       "      <td>0.516667</td>\n",
       "      <td>0.705726</td>\n",
       "      <td>29894</td>\n",
       "      <td>1.999636e-04</td>\n",
       "      <td>0.004283</td>\n",
       "    </tr>\n",
       "    <tr>\n",
       "      <th>3</th>\n",
       "      <td>669</td>\n",
       "      <td>4</td>\n",
       "      <td>+</td>\n",
       "      <td>283.0</td>\n",
       "      <td>300</td>\n",
       "      <td>228.630000</td>\n",
       "      <td>12.415053</td>\n",
       "      <td>29900</td>\n",
       "      <td>4.844620e-04</td>\n",
       "      <td>0.006661</td>\n",
       "    </tr>\n",
       "    <tr>\n",
       "      <th>4</th>\n",
       "      <td>1053</td>\n",
       "      <td>5</td>\n",
       "      <td>+</td>\n",
       "      <td>57.0</td>\n",
       "      <td>300</td>\n",
       "      <td>37.790000</td>\n",
       "      <td>6.113686</td>\n",
       "      <td>29899</td>\n",
       "      <td>3.240453e-03</td>\n",
       "      <td>0.035539</td>\n",
       "    </tr>\n",
       "  </tbody>\n",
       "</table>\n",
       "</div>"
      ],
      "text/plain": [
       "  Matrix_id  width sense    num  len         avg         sd  adj_len  \\\n",
       "0       637      4     +  157.0  300  100.253333  10.115181    29900   \n",
       "1      1169      7     +  151.0  300  110.410000  10.133980    29897   \n",
       "2       947     10     +    5.0  300    0.516667   0.705726    29894   \n",
       "3       669      4     +  283.0  300  228.630000  12.415053    29900   \n",
       "4      1053      5     +   57.0  300   37.790000   6.113686    29899   \n",
       "\n",
       "              p       fdr  \n",
       "0  1.338013e-07  0.000007  \n",
       "1  2.336380e-04  0.004283  \n",
       "2  1.999636e-04  0.004283  \n",
       "3  4.844620e-04  0.006661  \n",
       "4  3.240453e-03  0.035539  "
      ]
     },
     "execution_count": 35,
     "metadata": {},
     "output_type": "execute_result"
    }
   ],
   "source": [
    "enr = enrichment_result['enrichment']\n",
    "enr.head()"
   ]
  },
  {
   "cell_type": "markdown",
   "metadata": {},
   "source": [
    "We can separate out the PWMs that are enriched / depleted on each strand:"
   ]
  },
  {
   "cell_type": "code",
   "execution_count": 36,
   "metadata": {},
   "outputs": [
    {
     "name": "stdout",
     "output_type": "stream",
     "text": [
      "5\n",
      "3\n",
      "1\n",
      "5\n"
     ]
    }
   ],
   "source": [
    "enr_pos = enr[(enr.fdr<0.05) & (enr.num > enr.avg) & (enr.sense=='+')].reset_index(drop=True) # enriched on + strand\n",
    "enr_neg = enr[(enr.fdr<0.05) & (enr.num > enr.avg) & (enr.sense=='-')].reset_index(drop=True) # enriched on - strand\n",
    "dep_pos = enr[(enr.fdr<0.05) & (enr.num < enr.avg) & (enr.sense=='+')].reset_index(drop=True) # depleted on + strand\n",
    "dep_neg = enr[(enr.fdr<0.05) & (enr.num < enr.avg) & (enr.sense=='-')].reset_index(drop=True) # depleted on - strand\n",
    "\n",
    "print(len(enr_pos))\n",
    "print(len(enr_neg))\n",
    "print(len(dep_pos))\n",
    "print(len(dep_neg))"
   ]
  },
  {
   "cell_type": "markdown",
   "metadata": {},
   "source": [
    "We can view the PWMs enriched on the `+` strand:"
   ]
  },
  {
   "cell_type": "code",
   "execution_count": 37,
   "metadata": {
    "scrolled": true
   },
   "outputs": [
    {
     "data": {
      "text/html": [
       "<div>\n",
       "<style scoped>\n",
       "    .dataframe tbody tr th:only-of-type {\n",
       "        vertical-align: middle;\n",
       "    }\n",
       "\n",
       "    .dataframe tbody tr th {\n",
       "        vertical-align: top;\n",
       "    }\n",
       "\n",
       "    .dataframe thead th {\n",
       "        text-align: right;\n",
       "    }\n",
       "</style>\n",
       "<table border=\"1\" class=\"dataframe\">\n",
       "  <thead>\n",
       "    <tr style=\"text-align: right;\">\n",
       "      <th></th>\n",
       "      <th>Matrix_id</th>\n",
       "      <th>width</th>\n",
       "      <th>sense</th>\n",
       "      <th>num</th>\n",
       "      <th>len</th>\n",
       "      <th>avg</th>\n",
       "      <th>sd</th>\n",
       "      <th>adj_len</th>\n",
       "      <th>p</th>\n",
       "      <th>fdr</th>\n",
       "    </tr>\n",
       "  </thead>\n",
       "  <tbody>\n",
       "    <tr>\n",
       "      <th>0</th>\n",
       "      <td>637</td>\n",
       "      <td>4</td>\n",
       "      <td>+</td>\n",
       "      <td>157.0</td>\n",
       "      <td>300</td>\n",
       "      <td>100.253333</td>\n",
       "      <td>10.115181</td>\n",
       "      <td>29900</td>\n",
       "      <td>1.338013e-07</td>\n",
       "      <td>0.000007</td>\n",
       "    </tr>\n",
       "    <tr>\n",
       "      <th>1</th>\n",
       "      <td>1169</td>\n",
       "      <td>7</td>\n",
       "      <td>+</td>\n",
       "      <td>151.0</td>\n",
       "      <td>300</td>\n",
       "      <td>110.410000</td>\n",
       "      <td>10.133980</td>\n",
       "      <td>29897</td>\n",
       "      <td>2.336380e-04</td>\n",
       "      <td>0.004283</td>\n",
       "    </tr>\n",
       "    <tr>\n",
       "      <th>2</th>\n",
       "      <td>947</td>\n",
       "      <td>10</td>\n",
       "      <td>+</td>\n",
       "      <td>5.0</td>\n",
       "      <td>300</td>\n",
       "      <td>0.516667</td>\n",
       "      <td>0.705726</td>\n",
       "      <td>29894</td>\n",
       "      <td>1.999636e-04</td>\n",
       "      <td>0.004283</td>\n",
       "    </tr>\n",
       "    <tr>\n",
       "      <th>3</th>\n",
       "      <td>669</td>\n",
       "      <td>4</td>\n",
       "      <td>+</td>\n",
       "      <td>283.0</td>\n",
       "      <td>300</td>\n",
       "      <td>228.630000</td>\n",
       "      <td>12.415053</td>\n",
       "      <td>29900</td>\n",
       "      <td>4.844620e-04</td>\n",
       "      <td>0.006661</td>\n",
       "    </tr>\n",
       "    <tr>\n",
       "      <th>4</th>\n",
       "      <td>1053</td>\n",
       "      <td>5</td>\n",
       "      <td>+</td>\n",
       "      <td>57.0</td>\n",
       "      <td>300</td>\n",
       "      <td>37.790000</td>\n",
       "      <td>6.113686</td>\n",
       "      <td>29899</td>\n",
       "      <td>3.240453e-03</td>\n",
       "      <td>0.035539</td>\n",
       "    </tr>\n",
       "  </tbody>\n",
       "</table>\n",
       "</div>"
      ],
      "text/plain": [
       "  Matrix_id  width sense    num  len         avg         sd  adj_len  \\\n",
       "0       637      4     +  157.0  300  100.253333  10.115181    29900   \n",
       "1      1169      7     +  151.0  300  110.410000  10.133980    29897   \n",
       "2       947     10     +    5.0  300    0.516667   0.705726    29894   \n",
       "3       669      4     +  283.0  300  228.630000  12.415053    29900   \n",
       "4      1053      5     +   57.0  300   37.790000   6.113686    29899   \n",
       "\n",
       "              p       fdr  \n",
       "0  1.338013e-07  0.000007  \n",
       "1  2.336380e-04  0.004283  \n",
       "2  1.999636e-04  0.004283  \n",
       "3  4.844620e-04  0.006661  \n",
       "4  3.240453e-03  0.035539  "
      ]
     },
     "execution_count": 37,
     "metadata": {},
     "output_type": "execute_result"
    }
   ],
   "source": [
    "enr_pos"
   ]
  },
  {
   "cell_type": "markdown",
   "metadata": {},
   "source": [
    "And match these to RBPs:"
   ]
  },
  {
   "cell_type": "code",
   "execution_count": 38,
   "metadata": {},
   "outputs": [
    {
     "data": {
      "text/html": [
       "<div>\n",
       "<style scoped>\n",
       "    .dataframe tbody tr th:only-of-type {\n",
       "        vertical-align: middle;\n",
       "    }\n",
       "\n",
       "    .dataframe tbody tr th {\n",
       "        vertical-align: top;\n",
       "    }\n",
       "\n",
       "    .dataframe thead th {\n",
       "        text-align: right;\n",
       "    }\n",
       "</style>\n",
       "<table border=\"1\" class=\"dataframe\">\n",
       "  <thead>\n",
       "    <tr style=\"text-align: right;\">\n",
       "      <th></th>\n",
       "      <th>Matrix_id</th>\n",
       "      <th>width</th>\n",
       "      <th>sense</th>\n",
       "      <th>num</th>\n",
       "      <th>len</th>\n",
       "      <th>avg</th>\n",
       "      <th>sd</th>\n",
       "      <th>adj_len</th>\n",
       "      <th>p</th>\n",
       "      <th>fdr</th>\n",
       "      <th>Gene_name</th>\n",
       "    </tr>\n",
       "  </thead>\n",
       "  <tbody>\n",
       "    <tr>\n",
       "      <th>0</th>\n",
       "      <td>637</td>\n",
       "      <td>4</td>\n",
       "      <td>+</td>\n",
       "      <td>157.0</td>\n",
       "      <td>300</td>\n",
       "      <td>100.253333</td>\n",
       "      <td>10.115181</td>\n",
       "      <td>29900</td>\n",
       "      <td>1.338013e-07</td>\n",
       "      <td>0.000007</td>\n",
       "      <td>FUS</td>\n",
       "    </tr>\n",
       "    <tr>\n",
       "      <th>1</th>\n",
       "      <td>1169</td>\n",
       "      <td>7</td>\n",
       "      <td>+</td>\n",
       "      <td>151.0</td>\n",
       "      <td>300</td>\n",
       "      <td>110.410000</td>\n",
       "      <td>10.133980</td>\n",
       "      <td>29897</td>\n",
       "      <td>2.336380e-04</td>\n",
       "      <td>0.004283</td>\n",
       "      <td>SFRS13A</td>\n",
       "    </tr>\n",
       "    <tr>\n",
       "      <th>2</th>\n",
       "      <td>947</td>\n",
       "      <td>10</td>\n",
       "      <td>+</td>\n",
       "      <td>5.0</td>\n",
       "      <td>300</td>\n",
       "      <td>0.516667</td>\n",
       "      <td>0.705726</td>\n",
       "      <td>29894</td>\n",
       "      <td>1.999636e-04</td>\n",
       "      <td>0.004283</td>\n",
       "      <td>SNRPA</td>\n",
       "    </tr>\n",
       "    <tr>\n",
       "      <th>3</th>\n",
       "      <td>669</td>\n",
       "      <td>4</td>\n",
       "      <td>+</td>\n",
       "      <td>283.0</td>\n",
       "      <td>300</td>\n",
       "      <td>228.630000</td>\n",
       "      <td>12.415053</td>\n",
       "      <td>29900</td>\n",
       "      <td>4.844620e-04</td>\n",
       "      <td>0.006661</td>\n",
       "      <td>MBNL1</td>\n",
       "    </tr>\n",
       "    <tr>\n",
       "      <th>4</th>\n",
       "      <td>1053</td>\n",
       "      <td>5</td>\n",
       "      <td>+</td>\n",
       "      <td>57.0</td>\n",
       "      <td>300</td>\n",
       "      <td>37.790000</td>\n",
       "      <td>6.113686</td>\n",
       "      <td>29899</td>\n",
       "      <td>3.240453e-03</td>\n",
       "      <td>0.035539</td>\n",
       "      <td>RBMY1A1</td>\n",
       "    </tr>\n",
       "  </tbody>\n",
       "</table>\n",
       "</div>"
      ],
      "text/plain": [
       "  Matrix_id  width sense    num  len         avg         sd  adj_len  \\\n",
       "0       637      4     +  157.0  300  100.253333  10.115181    29900   \n",
       "1      1169      7     +  151.0  300  110.410000  10.133980    29897   \n",
       "2       947     10     +    5.0  300    0.516667   0.705726    29894   \n",
       "3       669      4     +  283.0  300  228.630000  12.415053    29900   \n",
       "4      1053      5     +   57.0  300   37.790000   6.113686    29899   \n",
       "\n",
       "              p       fdr Gene_name  \n",
       "0  1.338013e-07  0.000007       FUS  \n",
       "1  2.336380e-04  0.004283   SFRS13A  \n",
       "2  1.999636e-04  0.004283     SNRPA  \n",
       "3  4.844620e-04  0.006661     MBNL1  \n",
       "4  3.240453e-03  0.035539   RBMY1A1  "
      ]
     },
     "execution_count": 38,
     "metadata": {},
     "output_type": "execute_result"
    }
   ],
   "source": [
    "enr_pos = enr_pos.merge(pwms.loc[:,['Matrix_id', 'Gene_name']])\n",
    "enr_pos.head()"
   ]
  },
  {
   "cell_type": "markdown",
   "metadata": {},
   "source": [
    "We can plot the number of binding sites for any PWM in windows across the genome:"
   ]
  },
  {
   "cell_type": "code",
   "execution_count": 39,
   "metadata": {},
   "outputs": [
    {
     "data": {
      "text/html": [
       "<div>\n",
       "<style scoped>\n",
       "    .dataframe tbody tr th:only-of-type {\n",
       "        vertical-align: middle;\n",
       "    }\n",
       "\n",
       "    .dataframe tbody tr th {\n",
       "        vertical-align: top;\n",
       "    }\n",
       "\n",
       "    .dataframe thead th {\n",
       "        text-align: right;\n",
       "    }\n",
       "</style>\n",
       "<table border=\"1\" class=\"dataframe\">\n",
       "  <thead>\n",
       "    <tr style=\"text-align: right;\">\n",
       "      <th></th>\n",
       "      <th>id</th>\n",
       "      <th>start</th>\n",
       "      <th>end</th>\n",
       "      <th>count</th>\n",
       "    </tr>\n",
       "  </thead>\n",
       "  <tbody>\n",
       "    <tr>\n",
       "      <th>0</th>\n",
       "      <td>MN908947.3</td>\n",
       "      <td>0</td>\n",
       "      <td>1000</td>\n",
       "      <td>6</td>\n",
       "    </tr>\n",
       "    <tr>\n",
       "      <th>1</th>\n",
       "      <td>MN908947.3</td>\n",
       "      <td>1000</td>\n",
       "      <td>2000</td>\n",
       "      <td>7</td>\n",
       "    </tr>\n",
       "    <tr>\n",
       "      <th>2</th>\n",
       "      <td>MN908947.3</td>\n",
       "      <td>2000</td>\n",
       "      <td>3000</td>\n",
       "      <td>10</td>\n",
       "    </tr>\n",
       "    <tr>\n",
       "      <th>3</th>\n",
       "      <td>MN908947.3</td>\n",
       "      <td>3000</td>\n",
       "      <td>4000</td>\n",
       "      <td>6</td>\n",
       "    </tr>\n",
       "    <tr>\n",
       "      <th>4</th>\n",
       "      <td>MN908947.3</td>\n",
       "      <td>4000</td>\n",
       "      <td>5000</td>\n",
       "      <td>8</td>\n",
       "    </tr>\n",
       "  </tbody>\n",
       "</table>\n",
       "</div>"
      ],
      "text/plain": [
       "           id  start   end  count\n",
       "0  MN908947.3      0  1000      6\n",
       "1  MN908947.3   1000  2000      7\n",
       "2  MN908947.3   2000  3000     10\n",
       "3  MN908947.3   3000  4000      6\n",
       "4  MN908947.3   4000  5000      8"
      ]
     },
     "execution_count": 39,
     "metadata": {},
     "output_type": "execute_result"
    }
   ],
   "source": [
    "window_count = smeagol.scan.count_in_sliding_windows(real_sites[real_sites.sense=='+'], \n",
    "                                                     genome, '637', 1000)\n",
    "window_count.head()"
   ]
  },
  {
   "cell_type": "markdown",
   "metadata": {
    "tags": []
   },
   "source": [
    "We can visualize the counts across the genome using the `sliding_window_count_plot`. Note that if the viral genome had multiple segments, this function would create a separate plot for each segment."
   ]
  },
  {
   "cell_type": "code",
   "execution_count": 40,
   "metadata": {
    "tags": []
   },
   "outputs": [
    {
     "data": {
      "image/png": "[encoded data removed]",
      "text/plain": [
       "<Figure size 403.2x288 with 1 Axes>"
      ]
     },
     "metadata": {
      "needs_background": "light"
     },
     "output_type": "display_data"
    }
   ],
   "source": [
    "smeagol.visualize.sliding_window_count_plot(window_count, cols=1, title='244')"
   ]
  },
  {
   "cell_type": "markdown",
   "metadata": {},
   "source": [
    "## Enrichment plot"
   ]
  },
  {
   "cell_type": "markdown",
   "metadata": {},
   "source": [
    "We can plot the distribution of binding sites for any set of PWMs. Here we plot the distributions for the enriched PWMs on the `+` sense genome."
   ]
  },
  {
   "cell_type": "code",
   "execution_count": 41,
   "metadata": {},
   "outputs": [
    {
     "data": {
      "image/png": "[encoded data removed]",
      "text/plain": [
       "<Figure size 1152x360 with 6 Axes>"
      ]
     },
     "metadata": {
      "needs_background": "light"
     },
     "output_type": "display_data"
    }
   ],
   "source": [
    "smeagol.visualize.plot_background(enrichment_result, enr_pos.Matrix_id, sense='+', figsize=(16,5), ncols=3)"
   ]
  },
  {
   "cell_type": "markdown",
   "metadata": {},
   "source": [
    "## Enrichment in sliding windows"
   ]
  },
  {
   "cell_type": "markdown",
   "metadata": {},
   "source": [
    "For any given PWM, we can test for enrichment of its binding sites in sliding windows across the genome using Fisher's exact test. Here we test for enrichment of a specific PWM in the positive ('+') sense genome."
   ]
  },
  {
   "cell_type": "code",
   "execution_count": 42,
   "metadata": {
    "scrolled": false
   },
   "outputs": [
    {
     "data": {
      "text/html": [
       "<div>\n",
       "<style scoped>\n",
       "    .dataframe tbody tr th:only-of-type {\n",
       "        vertical-align: middle;\n",
       "    }\n",
       "\n",
       "    .dataframe tbody tr th {\n",
       "        vertical-align: top;\n",
       "    }\n",
       "\n",
       "    .dataframe thead th {\n",
       "        text-align: right;\n",
       "    }\n",
       "</style>\n",
       "<table border=\"1\" class=\"dataframe\">\n",
       "  <thead>\n",
       "    <tr style=\"text-align: right;\">\n",
       "      <th></th>\n",
       "      <th>id</th>\n",
       "      <th>start</th>\n",
       "      <th>end</th>\n",
       "      <th>len</th>\n",
       "      <th>count</th>\n",
       "      <th>tot_count</th>\n",
       "      <th>expected</th>\n",
       "      <th>odds</th>\n",
       "      <th>p</th>\n",
       "      <th>padj</th>\n",
       "    </tr>\n",
       "  </thead>\n",
       "  <tbody>\n",
       "    <tr>\n",
       "      <th>0</th>\n",
       "      <td>MN908947.3</td>\n",
       "      <td>0</td>\n",
       "      <td>500</td>\n",
       "      <td>496</td>\n",
       "      <td>1</td>\n",
       "      <td>85</td>\n",
       "      <td>1.410081</td>\n",
       "      <td>0.708592</td>\n",
       "      <td>1.000000</td>\n",
       "      <td>1.0</td>\n",
       "    </tr>\n",
       "    <tr>\n",
       "      <th>1</th>\n",
       "      <td>MN908947.3</td>\n",
       "      <td>500</td>\n",
       "      <td>1000</td>\n",
       "      <td>496</td>\n",
       "      <td>0</td>\n",
       "      <td>85</td>\n",
       "      <td>1.410081</td>\n",
       "      <td>0.000000</td>\n",
       "      <td>0.651461</td>\n",
       "      <td>1.0</td>\n",
       "    </tr>\n",
       "    <tr>\n",
       "      <th>2</th>\n",
       "      <td>MN908947.3</td>\n",
       "      <td>1000</td>\n",
       "      <td>1500</td>\n",
       "      <td>496</td>\n",
       "      <td>1</td>\n",
       "      <td>85</td>\n",
       "      <td>1.410081</td>\n",
       "      <td>0.708592</td>\n",
       "      <td>1.000000</td>\n",
       "      <td>1.0</td>\n",
       "    </tr>\n",
       "    <tr>\n",
       "      <th>3</th>\n",
       "      <td>MN908947.3</td>\n",
       "      <td>1500</td>\n",
       "      <td>2000</td>\n",
       "      <td>496</td>\n",
       "      <td>3</td>\n",
       "      <td>85</td>\n",
       "      <td>1.410081</td>\n",
       "      <td>2.134399</td>\n",
       "      <td>0.173917</td>\n",
       "      <td>1.0</td>\n",
       "    </tr>\n",
       "    <tr>\n",
       "      <th>4</th>\n",
       "      <td>MN908947.3</td>\n",
       "      <td>2000</td>\n",
       "      <td>2500</td>\n",
       "      <td>496</td>\n",
       "      <td>1</td>\n",
       "      <td>85</td>\n",
       "      <td>1.410081</td>\n",
       "      <td>0.708592</td>\n",
       "      <td>1.000000</td>\n",
       "      <td>1.0</td>\n",
       "    </tr>\n",
       "  </tbody>\n",
       "</table>\n",
       "</div>"
      ],
      "text/plain": [
       "           id  start   end  len  count  tot_count  expected      odds  \\\n",
       "0  MN908947.3      0   500  496      1         85  1.410081  0.708592   \n",
       "1  MN908947.3    500  1000  496      0         85  1.410081  0.000000   \n",
       "2  MN908947.3   1000  1500  496      1         85  1.410081  0.708592   \n",
       "3  MN908947.3   1500  2000  496      3         85  1.410081  2.134399   \n",
       "4  MN908947.3   2000  2500  496      1         85  1.410081  0.708592   \n",
       "\n",
       "          p  padj  \n",
       "0  1.000000   1.0  \n",
       "1  0.651461   1.0  \n",
       "2  1.000000   1.0  \n",
       "3  0.173917   1.0  \n",
       "4  1.000000   1.0  "
      ]
     },
     "execution_count": 42,
     "metadata": {},
     "output_type": "execute_result"
    }
   ],
   "source": [
    "r = smeagol.enrich.enrich_in_sliding_windows(real_sites[real_sites.sense==\"+\"], \n",
    "                                             genome, '24', 500)\n",
    "r.head()"
   ]
  },
  {
   "cell_type": "markdown",
   "metadata": {},
   "source": [
    "We select significantly enriched bins:"
   ]
  },
  {
   "cell_type": "code",
   "execution_count": 43,
   "metadata": {
    "scrolled": true
   },
   "outputs": [
    {
     "data": {
      "text/html": [
       "<div>\n",
       "<style scoped>\n",
       "    .dataframe tbody tr th:only-of-type {\n",
       "        vertical-align: middle;\n",
       "    }\n",
       "\n",
       "    .dataframe tbody tr th {\n",
       "        vertical-align: top;\n",
       "    }\n",
       "\n",
       "    .dataframe thead th {\n",
       "        text-align: right;\n",
       "    }\n",
       "</style>\n",
       "<table border=\"1\" class=\"dataframe\">\n",
       "  <thead>\n",
       "    <tr style=\"text-align: right;\">\n",
       "      <th></th>\n",
       "      <th>id</th>\n",
       "      <th>start</th>\n",
       "      <th>end</th>\n",
       "      <th>len</th>\n",
       "      <th>count</th>\n",
       "      <th>tot_count</th>\n",
       "      <th>expected</th>\n",
       "      <th>odds</th>\n",
       "      <th>p</th>\n",
       "      <th>padj</th>\n",
       "    </tr>\n",
       "  </thead>\n",
       "  <tbody>\n",
       "    <tr>\n",
       "      <th>59</th>\n",
       "      <td>MN908947.3</td>\n",
       "      <td>29500</td>\n",
       "      <td>29903</td>\n",
       "      <td>399</td>\n",
       "      <td>29</td>\n",
       "      <td>85</td>\n",
       "      <td>1.134319</td>\n",
       "      <td>27.491447</td>\n",
       "      <td>3.891944e-29</td>\n",
       "      <td>2.335167e-27</td>\n",
       "    </tr>\n",
       "  </tbody>\n",
       "</table>\n",
       "</div>"
      ],
      "text/plain": [
       "            id  start    end  len  count  tot_count  expected       odds  \\\n",
       "59  MN908947.3  29500  29903  399     29         85  1.134319  27.491447   \n",
       "\n",
       "               p          padj  \n",
       "59  3.891944e-29  2.335167e-27  "
      ]
     },
     "execution_count": 43,
     "metadata": {},
     "output_type": "execute_result"
    }
   ],
   "source": [
    "r[(r.padj<0.05) & (r.odds > 1)]"
   ]
  },
  {
   "cell_type": "markdown",
   "metadata": {},
   "source": [
    "and significantly depleted bins:"
   ]
  },
  {
   "cell_type": "code",
   "execution_count": 44,
   "metadata": {
    "scrolled": true
   },
   "outputs": [
    {
     "data": {
      "text/html": [
       "<div>\n",
       "<style scoped>\n",
       "    .dataframe tbody tr th:only-of-type {\n",
       "        vertical-align: middle;\n",
       "    }\n",
       "\n",
       "    .dataframe tbody tr th {\n",
       "        vertical-align: top;\n",
       "    }\n",
       "\n",
       "    .dataframe thead th {\n",
       "        text-align: right;\n",
       "    }\n",
       "</style>\n",
       "<table border=\"1\" class=\"dataframe\">\n",
       "  <thead>\n",
       "    <tr style=\"text-align: right;\">\n",
       "      <th></th>\n",
       "      <th>id</th>\n",
       "      <th>start</th>\n",
       "      <th>end</th>\n",
       "      <th>len</th>\n",
       "      <th>count</th>\n",
       "      <th>tot_count</th>\n",
       "      <th>expected</th>\n",
       "      <th>odds</th>\n",
       "      <th>p</th>\n",
       "      <th>padj</th>\n",
       "    </tr>\n",
       "  </thead>\n",
       "  <tbody>\n",
       "  </tbody>\n",
       "</table>\n",
       "</div>"
      ],
      "text/plain": [
       "Empty DataFrame\n",
       "Columns: [id, start, end, len, count, tot_count, expected, odds, p, padj]\n",
       "Index: []"
      ]
     },
     "execution_count": 44,
     "metadata": {},
     "output_type": "execute_result"
    }
   ],
   "source": [
    "r[(r.padj<0.05) & (r.odds < 1)]"
   ]
  },
  {
   "cell_type": "markdown",
   "metadata": {},
   "source": [
    "## Plot enrichment/depletion  in sliding windows"
   ]
  },
  {
   "cell_type": "code",
   "execution_count": 45,
   "metadata": {
    "scrolled": true,
    "tags": []
   },
   "outputs": [
    {
     "data": {
      "image/png": "[encoded data removed]",
      "text/plain": [
       "<Figure size 864x360 with 1 Axes>"
      ]
     },
     "metadata": {
      "needs_background": "light"
     },
     "output_type": "display_data"
    }
   ],
   "source": [
    "r['window'] = r.index\n",
    "r['sig'] = r.padj<0.05\n",
    "r['window_name'] = r.apply(lambda row: row.id + ':' + str(row.start) + '-' + str(row.end), axis=1)\n",
    "smeagol.visualize.sliding_window_enrichment_plot(sliding_window_df=r, \n",
    "                            x_var='window', \n",
    "                            y_var='count', \n",
    "                            xticklabels='window_name', title='75')"
   ]
  },
  {
   "cell_type": "code",
   "execution_count": null,
   "metadata": {},
   "outputs": [],
   "source": []
  }
 ],
 "metadata": {
  "kernelspec": {
   "display_name": "Python (vir2)",
   "language": "python",
   "name": "myenv"
  },
  "language_info": {
   "codemirror_mode": {
    "name": "ipython",
    "version": 3
   },
   "file_extension": ".py",
   "mimetype": "text/x-python",
   "name": "python",
   "nbconvert_exporter": "python",
   "pygments_lexer": "ipython3",
   "version": "3.7.10"
  }
 },
 "nbformat": 4,
 "nbformat_minor": 4
}

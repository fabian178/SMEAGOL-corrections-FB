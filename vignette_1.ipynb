{
 "cells": [
  {
   "cell_type": "markdown",
   "metadata": {},
   "source": [
    "# Discovering Binding Sites on a Viral Genome with SMEAGOL"
   ]
  },
  {
   "cell_type": "markdown",
   "metadata": {},
   "source": [
    "This notebook demonstrates the functions for binding site discovery and enrichment. Here we use the genome of the SARS-CoV-2 coronavirus as an example."
   ]
  },
  {
   "cell_type": "markdown",
   "metadata": {},
   "source": [
    "## Import requirements"
   ]
  },
  {
   "cell_type": "code",
   "execution_count": 1,
   "metadata": {},
   "outputs": [
    {
     "name": "stderr",
     "output_type": "stream",
     "text": [
      "Using TensorFlow backend.\n"
     ]
    }
   ],
   "source": [
    "# General imports\n",
    "import os\n",
    "import pandas as pd\n",
    "import matplotlib.pyplot as plt\n",
    "import seaborn as sns\n",
    "\n",
    "# Suppress FutureWarnings\n",
    "import warnings\n",
    "warnings.simplefilter(action='ignore', category=FutureWarning)\n",
    "\n",
    "# SMEAGOL imports\n",
    "from smeagol.io import read_pms_from_dir, read_fasta\n",
    "from smeagol.visualize import plot_pwm, plot_binned_count_dist, \\\n",
    "                              sliding_window_count_plot, plot_background, \\\n",
    "                              sliding_window_enrichment_plot\n",
    "from smeagol.enrich import enrich_in_genome, examine_thresholds, count_in_sliding_windows, \\\n",
    "                           enrich_in_sliding_windows\n",
    "from smeagol.models import PWMModel"
   ]
  },
  {
   "cell_type": "markdown",
   "metadata": {},
   "source": [
    "## Load PWMs from RBPDB"
   ]
  },
  {
   "cell_type": "markdown",
   "metadata": {},
   "source": [
    "We start this example by downloading a set of human PWMs and associated metadata from the RBPDB database."
   ]
  },
  {
   "cell_type": "code",
   "execution_count": 2,
   "metadata": {},
   "outputs": [
    {
     "name": "stdout",
     "output_type": "stream",
     "text": [
      "--2021-06-30 00:19:20--  http://rbpdb.ccbr.utoronto.ca/downloads/RBPDB_v1.3.1_human_2012-11-21_TDT.zip\n",
      "Resolving rbpdb.ccbr.utoronto.ca (rbpdb.ccbr.utoronto.ca)... 142.150.52.218\n",
      "Connecting to rbpdb.ccbr.utoronto.ca (rbpdb.ccbr.utoronto.ca)|142.150.52.218|:80... connected.\n",
      "HTTP request sent, awaiting response... 200 OK\n",
      "Length: 42726 (42K) [application/zip]\n",
      "Saving to: ‘RBPDB_v1.3.1_human_2012-11-21_TDT.zip.1’\n",
      "\n",
      "RBPDB_v1.3.1_human_ 100%[===================>]  41.72K   135KB/s    in 0.3s    \n",
      "\n",
      "2021-06-30 00:19:21 (135 KB/s) - ‘RBPDB_v1.3.1_human_2012-11-21_TDT.zip.1’ saved [42726/42726]\n",
      "\n",
      "--2021-06-30 00:19:21--  http://rbpdb.ccbr.utoronto.ca/downloads/matrices_human.zip\n",
      "Resolving rbpdb.ccbr.utoronto.ca (rbpdb.ccbr.utoronto.ca)... 142.150.52.218\n",
      "Connecting to rbpdb.ccbr.utoronto.ca (rbpdb.ccbr.utoronto.ca)|142.150.52.218|:80... connected.\n",
      "HTTP request sent, awaiting response... 200 OK\n",
      "Length: 22508 (22K) [application/zip]\n",
      "Saving to: ‘matrices_human.zip’\n",
      "\n",
      "matrices_human.zip  100%[===================>]  21.98K  73.8KB/s    in 0.3s    \n",
      "\n",
      "2021-06-30 00:19:21 (73.8 KB/s) - ‘matrices_human.zip’ saved [22508/22508]\n",
      "\n",
      "Archive:  RBPDB_v1.3.1_human_2012-11-21_TDT.zip\n",
      "  inflating: rbpdb/RBPDB_v1.3.1_experiments_human_2012-11-21.tdt  \n",
      "  inflating: rbpdb/RBPDB_v1.3.1_protExp_human_2012-11-21.tdt  \n",
      "  inflating: rbpdb/RBPDB_v1.3.1_proteins_human_2012-11-21.tdt  \n",
      "Archive:  matrices_human.zip\n",
      "  inflating: rbpdb/PWMDir/24_7908267.pwm  \n",
      "  inflating: rbpdb/PWMDir/37_16537540.pwm  \n",
      "  inflating: rbpdb/PWMDir/147_19457263.pwm  \n",
      "  inflating: rbpdb/PWMDir/149_16041388.pwm  \n",
      "  inflating: rbpdb/PWMDir/221_12324455.pwm  \n",
      "  inflating: rbpdb/PWMDir/244_7543047.pwm  \n",
      "  inflating: rbpdb/PWMDir/242_7543047.pwm  \n",
      "  inflating: rbpdb/PWMDir/243_7543047.pwm  \n",
      "  inflating: rbpdb/PWMDir/350_8846295.pwm  \n",
      "  inflating: rbpdb/PWMDir/351_8846295.pwm  \n",
      "  inflating: rbpdb/PWMDir/352_8846295.pwm  \n",
      "  inflating: rbpdb/PWMDir/359_12507992.pwm  \n",
      "  inflating: rbpdb/PWMDir/1216_19457263.pwm  \n",
      "  inflating: rbpdb/PWMDir/1215_16041388.pwm  \n",
      "  inflating: rbpdb/PWMDir/1218_15351640.pwm  \n",
      "  inflating: rbpdb/PWMDir/1217_15351640.pwm  \n",
      "  inflating: rbpdb/PWMDir/1213_8021254.pwm  \n",
      "  inflating: rbpdb/PWMDir/488_9001221.pwm  \n",
      "  inflating: rbpdb/PWMDir/23_7510636.pwm  \n",
      "  inflating: rbpdb/PWMDir/1177_19561594.pwm  \n",
      "  inflating: rbpdb/PWMDir/1175_19561594.pwm  \n",
      "  inflating: rbpdb/PWMDir/1174_19561594.pwm  \n",
      "  inflating: rbpdb/PWMDir/1173_19561594.pwm  \n",
      "  inflating: rbpdb/PWMDir/1172_19561594.pwm  \n",
      "  inflating: rbpdb/PWMDir/1171_19561594.pwm  \n",
      "  inflating: rbpdb/PWMDir/1170_19561594.pwm  \n",
      "  inflating: rbpdb/PWMDir/1169_19561594.pwm  \n",
      "  inflating: rbpdb/PWMDir/950_7908267.pwm  \n",
      "  inflating: rbpdb/PWMDir/952_7543047.pwm  \n",
      "  inflating: rbpdb/PWMDir/954_10094314.pwm  \n",
      "  inflating: rbpdb/PWMDir/953_7543047.pwm  \n",
      "  inflating: rbpdb/PWMDir/951_12324455.pwm  \n",
      "  inflating: rbpdb/PWMDir/949_10094314.pwm  \n",
      "  inflating: rbpdb/PWMDir/948_10094314.pwm  \n",
      "  inflating: rbpdb/PWMDir/947_10094314.pwm  \n",
      "  inflating: rbpdb/PWMDir/946_10094314.pwm  \n",
      "  inflating: rbpdb/PWMDir/637_11098054.pwm  \n",
      "  inflating: rbpdb/PWMDir/661_1717938.pwm  \n",
      "  inflating: rbpdb/PWMDir/662_1717938.pwm  \n",
      "  inflating: rbpdb/PWMDir/663_1717938.pwm  \n",
      "  inflating: rbpdb/PWMDir/669_20071745.pwm  \n",
      "  inflating: rbpdb/PWMDir/680_9789075.pwm  \n",
      "  inflating: rbpdb/PWMDir/682_10811881.pwm  \n",
      "  inflating: rbpdb/PWMDir/783_7972035.pwm  \n",
      "  inflating: rbpdb/PWMDir/784_7972035.pwm  \n",
      "  inflating: rbpdb/PWMDir/782_8497264.pwm  \n",
      "  inflating: rbpdb/PWMDir/791_10094314.pwm  \n",
      "  inflating: rbpdb/PWMDir/790_10094314.pwm  \n",
      "  inflating: rbpdb/PWMDir/797_17548433.pwm  \n",
      "  inflating: rbpdb/PWMDir/816_15351640.pwm  \n",
      "  inflating: rbpdb/PWMDir/922_19282290.pwm  \n",
      "  inflating: rbpdb/PWMDir/969_20167602.pwm  \n",
      "  inflating: rbpdb/PWMDir/1004_8676391.pwm  \n",
      "  inflating: rbpdb/PWMDir/1052_17318228.pwm  \n",
      "  inflating: rbpdb/PWMDir/1053_17318228.pwm  \n",
      "  inflating: rbpdb/PWMDir/1285_19304800.pwm  \n",
      "  inflating: rbpdb/PFMDir/24_7908267.pfm  \n",
      "  inflating: rbpdb/PFMDir/37_16537540.pfm  \n",
      "  inflating: rbpdb/PFMDir/147_19457263.pfm  \n",
      "  inflating: rbpdb/PFMDir/149_16041388.pfm  \n",
      "  inflating: rbpdb/PFMDir/221_12324455.pfm  \n",
      "  inflating: rbpdb/PFMDir/244_7543047.pfm  \n",
      "  inflating: rbpdb/PFMDir/242_7543047.pfm  \n",
      "  inflating: rbpdb/PFMDir/243_7543047.pfm  \n",
      "  inflating: rbpdb/PFMDir/350_8846295.pfm  \n",
      "  inflating: rbpdb/PFMDir/351_8846295.pfm  \n",
      "  inflating: rbpdb/PFMDir/352_8846295.pfm  \n",
      "  inflating: rbpdb/PFMDir/359_12507992.pfm  \n",
      "  inflating: rbpdb/PFMDir/1216_19457263.pfm  \n",
      "  inflating: rbpdb/PFMDir/1215_16041388.pfm  \n",
      "  inflating: rbpdb/PFMDir/1213_8021254.pfm  \n",
      "  inflating: rbpdb/PFMDir/488_9001221.pfm  \n",
      "  inflating: rbpdb/PFMDir/23_7510636.pfm  \n",
      "  inflating: rbpdb/PFMDir/1177_19561594.pfm  \n",
      "  inflating: rbpdb/PFMDir/1175_19561594.pfm  \n",
      "  inflating: rbpdb/PFMDir/1174_19561594.pfm  \n",
      "  inflating: rbpdb/PFMDir/1173_19561594.pfm  \n",
      "  inflating: rbpdb/PFMDir/1172_19561594.pfm  \n",
      "  inflating: rbpdb/PFMDir/1171_19561594.pfm  \n",
      "  inflating: rbpdb/PFMDir/1170_19561594.pfm  \n",
      "  inflating: rbpdb/PFMDir/1169_19561594.pfm  \n",
      "  inflating: rbpdb/PFMDir/950_7908267.pfm  \n",
      "  inflating: rbpdb/PFMDir/952_7543047.pfm  \n",
      "  inflating: rbpdb/PFMDir/954_10094314.pfm  \n",
      "  inflating: rbpdb/PFMDir/953_7543047.pfm  \n",
      "  inflating: rbpdb/PFMDir/951_12324455.pfm  \n",
      "  inflating: rbpdb/PFMDir/949_10094314.pfm  \n",
      "  inflating: rbpdb/PFMDir/948_10094314.pfm  \n",
      "  inflating: rbpdb/PFMDir/947_10094314.pfm  \n",
      "  inflating: rbpdb/PFMDir/946_10094314.pfm  \n",
      "  inflating: rbpdb/PFMDir/637_11098054.pfm  \n",
      "  inflating: rbpdb/PFMDir/661_1717938.pfm  \n",
      "  inflating: rbpdb/PFMDir/662_1717938.pfm  \n",
      "  inflating: rbpdb/PFMDir/663_1717938.pfm  \n",
      "  inflating: rbpdb/PFMDir/669_20071745.pfm  \n",
      "  inflating: rbpdb/PFMDir/680_9789075.pfm  \n",
      "  inflating: rbpdb/PFMDir/682_10811881.pfm  \n",
      "  inflating: rbpdb/PFMDir/783_7972035.pfm  \n",
      "  inflating: rbpdb/PFMDir/784_7972035.pfm  \n",
      "  inflating: rbpdb/PFMDir/782_8497264.pfm  \n",
      "  inflating: rbpdb/PFMDir/791_10094314.pfm  \n",
      "  inflating: rbpdb/PFMDir/790_10094314.pfm  \n",
      "  inflating: rbpdb/PFMDir/797_17548433.pfm  \n",
      "  inflating: rbpdb/PFMDir/922_19282290.pfm  \n",
      "  inflating: rbpdb/PFMDir/969_20167602.pfm  \n",
      "  inflating: rbpdb/PFMDir/1004_8676391.pfm  \n",
      "  inflating: rbpdb/PFMDir/1052_17318228.pfm  \n",
      "  inflating: rbpdb/PFMDir/1053_17318228.pfm  \n",
      "  inflating: rbpdb/PFMDir/1285_19304800.pfm  \n"
     ]
    }
   ],
   "source": [
    "!mkdir rbpdb\n",
    "!wget http://rbpdb.ccbr.utoronto.ca/downloads/RBPDB_v1.3.1_human_2012-11-21_TDT.zip\n",
    "!wget http://rbpdb.ccbr.utoronto.ca/downloads/matrices_human.zip\n",
    "!unzip RBPDB_v1.3.1_human_2012-11-21_TDT -d rbpdb\n",
    "!unzip matrices_human -d rbpdb\n",
    "!rm RBPDB_v1.3.1_human_2012-11-21_TDT.zip\n",
    "!rm matrices_human.zip"
   ]
  },
  {
   "cell_type": "markdown",
   "metadata": {},
   "source": [
    "PWMs are stored as individual files in the `PWMDir` directory. We can load these using the `read_pms_from_dir` function."
   ]
  },
  {
   "cell_type": "code",
   "execution_count": 3,
   "metadata": {},
   "outputs": [
    {
     "name": "stdout",
     "output_type": "stream",
     "text": [
      "CPU times: user 3 µs, sys: 2 µs, total: 5 µs\n",
      "Wall time: 10 µs\n"
     ]
    },
    {
     "data": {
      "text/html": [
       "<div>\n",
       "<style scoped>\n",
       "    .dataframe tbody tr th:only-of-type {\n",
       "        vertical-align: middle;\n",
       "    }\n",
       "\n",
       "    .dataframe tbody tr th {\n",
       "        vertical-align: top;\n",
       "    }\n",
       "\n",
       "    .dataframe thead th {\n",
       "        text-align: right;\n",
       "    }\n",
       "</style>\n",
       "<table border=\"1\" class=\"dataframe\">\n",
       "  <thead>\n",
       "    <tr style=\"text-align: right;\">\n",
       "      <th></th>\n",
       "      <th>Matrix_id</th>\n",
       "      <th>weight</th>\n",
       "    </tr>\n",
       "  </thead>\n",
       "  <tbody>\n",
       "    <tr>\n",
       "      <th>0</th>\n",
       "      <td>953</td>\n",
       "      <td>[[1.6425876, -1.7730861, -1.7730861, -1.773086...</td>\n",
       "    </tr>\n",
       "    <tr>\n",
       "      <th>1</th>\n",
       "      <td>242</td>\n",
       "      <td>[[0.98601563, -1.5303424, 0.2184107, -0.972431...</td>\n",
       "    </tr>\n",
       "    <tr>\n",
       "      <th>2</th>\n",
       "      <td>969</td>\n",
       "      <td>[[-2.8073549, -0.6918777, 0.81713594, 0.561878...</td>\n",
       "    </tr>\n",
       "    <tr>\n",
       "      <th>3</th>\n",
       "      <td>149</td>\n",
       "      <td>[[-1.4546965, -2.0535142, -1.032781, 1.5387887...</td>\n",
       "    </tr>\n",
       "    <tr>\n",
       "      <th>4</th>\n",
       "      <td>24</td>\n",
       "      <td>[[1.7435633, -2.2033739, -2.2033739, -2.203373...</td>\n",
       "    </tr>\n",
       "  </tbody>\n",
       "</table>\n",
       "</div>"
      ],
      "text/plain": [
       "  Matrix_id                                             weight\n",
       "0       953  [[1.6425876, -1.7730861, -1.7730861, -1.773086...\n",
       "1       242  [[0.98601563, -1.5303424, 0.2184107, -0.972431...\n",
       "2       969  [[-2.8073549, -0.6918777, 0.81713594, 0.561878...\n",
       "3       149  [[-1.4546965, -2.0535142, -1.032781, 1.5387887...\n",
       "4        24  [[1.7435633, -2.2033739, -2.2033739, -2.203373..."
      ]
     },
     "execution_count": 3,
     "metadata": {},
     "output_type": "execute_result"
    }
   ],
   "source": [
    "%time\n",
    "pwms = read_pms_from_dir('rbpdb/PWMDir', value_col='weight', transpose=True)\n",
    "pwms.head()"
   ]
  },
  {
   "cell_type": "markdown",
   "metadata": {},
   "source": [
    "We can also read the metadata provided by RBPDB and add it to this Pandas dataframe."
   ]
  },
  {
   "cell_type": "code",
   "execution_count": 4,
   "metadata": {},
   "outputs": [
    {
     "name": "stdout",
     "output_type": "stream",
     "text": [
      "CPU times: user 3 µs, sys: 0 ns, total: 3 µs\n",
      "Wall time: 6.91 µs\n"
     ]
    }
   ],
   "source": [
    "%time\n",
    "rbp = pd.read_csv(\"rbpdb/RBPDB_v1.3.1_proteins_human_2012-11-21.tdt\", \n",
    "            header=None,  sep=\"\\t\", usecols=(0,4), names=('Prot_id', 'Gene_name'),\n",
    "                 dtype='str')\n",
    "rbp_pwm = pd.read_csv(\"rbpdb/RBPDB_v1.3.1_protExp_human_2012-11-21.tdt\", \n",
    "            header=None,  sep=\"\\t\", usecols=(0,1), names=('Prot_id', 'Matrix_id'),\n",
    "                 dtype='str')\n",
    "rbp = rbp.merge(rbp_pwm, on='Prot_id')\n",
    "pwms = pwms.merge(rbp.loc[:, ['Matrix_id', 'Gene_name']], on='Matrix_id')"
   ]
  },
  {
   "cell_type": "code",
   "execution_count": 5,
   "metadata": {},
   "outputs": [
    {
     "data": {
      "text/html": [
       "<div>\n",
       "<style scoped>\n",
       "    .dataframe tbody tr th:only-of-type {\n",
       "        vertical-align: middle;\n",
       "    }\n",
       "\n",
       "    .dataframe tbody tr th {\n",
       "        vertical-align: top;\n",
       "    }\n",
       "\n",
       "    .dataframe thead th {\n",
       "        text-align: right;\n",
       "    }\n",
       "</style>\n",
       "<table border=\"1\" class=\"dataframe\">\n",
       "  <thead>\n",
       "    <tr style=\"text-align: right;\">\n",
       "      <th></th>\n",
       "      <th>Matrix_id</th>\n",
       "      <th>weight</th>\n",
       "      <th>Gene_name</th>\n",
       "    </tr>\n",
       "  </thead>\n",
       "  <tbody>\n",
       "    <tr>\n",
       "      <th>0</th>\n",
       "      <td>953</td>\n",
       "      <td>[[1.6425876, -1.7730861, -1.7730861, -1.773086...</td>\n",
       "      <td>SFRS2</td>\n",
       "    </tr>\n",
       "    <tr>\n",
       "      <th>1</th>\n",
       "      <td>242</td>\n",
       "      <td>[[0.98601563, -1.5303424, 0.2184107, -0.972431...</td>\n",
       "      <td>SFRS1</td>\n",
       "    </tr>\n",
       "    <tr>\n",
       "      <th>2</th>\n",
       "      <td>969</td>\n",
       "      <td>[[-2.8073549, -0.6918777, 0.81713594, 0.561878...</td>\n",
       "      <td>YTHDC1</td>\n",
       "    </tr>\n",
       "    <tr>\n",
       "      <th>3</th>\n",
       "      <td>149</td>\n",
       "      <td>[[-1.4546965, -2.0535142, -1.032781, 1.5387887...</td>\n",
       "      <td>QKI</td>\n",
       "    </tr>\n",
       "    <tr>\n",
       "      <th>4</th>\n",
       "      <td>24</td>\n",
       "      <td>[[1.7435633, -2.2033739, -2.2033739, -2.203373...</td>\n",
       "      <td>PABPC1</td>\n",
       "    </tr>\n",
       "  </tbody>\n",
       "</table>\n",
       "</div>"
      ],
      "text/plain": [
       "  Matrix_id                                             weight Gene_name\n",
       "0       953  [[1.6425876, -1.7730861, -1.7730861, -1.773086...     SFRS2\n",
       "1       242  [[0.98601563, -1.5303424, 0.2184107, -0.972431...     SFRS1\n",
       "2       969  [[-2.8073549, -0.6918777, 0.81713594, 0.561878...    YTHDC1\n",
       "3       149  [[-1.4546965, -2.0535142, -1.032781, 1.5387887...       QKI\n",
       "4        24  [[1.7435633, -2.2033739, -2.2033739, -2.203373...    PABPC1"
      ]
     },
     "execution_count": 5,
     "metadata": {},
     "output_type": "execute_result"
    }
   ],
   "source": [
    "pwms.head()"
   ]
  },
  {
   "cell_type": "code",
   "execution_count": 6,
   "metadata": {},
   "outputs": [
    {
     "data": {
      "text/plain": [
       "56"
      ]
     },
     "execution_count": 6,
     "metadata": {},
     "output_type": "execute_result"
    }
   ],
   "source": [
    "len(pwms)"
   ]
  },
  {
   "cell_type": "markdown",
   "metadata": {},
   "source": [
    "## Analyze position matrices"
   ]
  },
  {
   "cell_type": "markdown",
   "metadata": {},
   "source": [
    "We have multiple matrices for some RBPs. To see how many distinct RBPs are in the list:"
   ]
  },
  {
   "cell_type": "code",
   "execution_count": 7,
   "metadata": {},
   "outputs": [
    {
     "data": {
      "text/plain": [
       "30"
      ]
     },
     "execution_count": 7,
     "metadata": {},
     "output_type": "execute_result"
    }
   ],
   "source": [
    "len(pd.unique(pwms.Gene_name))"
   ]
  },
  {
   "cell_type": "markdown",
   "metadata": {},
   "source": [
    "We can select a particular PWM using its `Matrix_id`:"
   ]
  },
  {
   "cell_type": "code",
   "execution_count": 8,
   "metadata": {},
   "outputs": [
    {
     "data": {
      "text/html": [
       "<div>\n",
       "<style scoped>\n",
       "    .dataframe tbody tr th:only-of-type {\n",
       "        vertical-align: middle;\n",
       "    }\n",
       "\n",
       "    .dataframe tbody tr th {\n",
       "        vertical-align: top;\n",
       "    }\n",
       "\n",
       "    .dataframe thead th {\n",
       "        text-align: right;\n",
       "    }\n",
       "</style>\n",
       "<table border=\"1\" class=\"dataframe\">\n",
       "  <thead>\n",
       "    <tr style=\"text-align: right;\">\n",
       "      <th></th>\n",
       "      <th>Matrix_id</th>\n",
       "      <th>weight</th>\n",
       "      <th>Gene_name</th>\n",
       "    </tr>\n",
       "  </thead>\n",
       "  <tbody>\n",
       "    <tr>\n",
       "      <th>1</th>\n",
       "      <td>242</td>\n",
       "      <td>[[0.98601563, -1.5303424, 0.2184107, -0.972431...</td>\n",
       "      <td>SFRS1</td>\n",
       "    </tr>\n",
       "  </tbody>\n",
       "</table>\n",
       "</div>"
      ],
      "text/plain": [
       "  Matrix_id                                             weight Gene_name\n",
       "1       242  [[0.98601563, -1.5303424, 0.2184107, -0.972431...     SFRS1"
      ]
     },
     "execution_count": 8,
     "metadata": {},
     "output_type": "execute_result"
    }
   ],
   "source": [
    "pwms[pwms.Matrix_id=='242']"
   ]
  },
  {
   "cell_type": "markdown",
   "metadata": {},
   "source": [
    "We can also select all PWMs for an RBP:"
   ]
  },
  {
   "cell_type": "code",
   "execution_count": 9,
   "metadata": {
    "scrolled": true
   },
   "outputs": [
    {
     "data": {
      "text/html": [
       "<div>\n",
       "<style scoped>\n",
       "    .dataframe tbody tr th:only-of-type {\n",
       "        vertical-align: middle;\n",
       "    }\n",
       "\n",
       "    .dataframe tbody tr th {\n",
       "        vertical-align: top;\n",
       "    }\n",
       "\n",
       "    .dataframe thead th {\n",
       "        text-align: right;\n",
       "    }\n",
       "</style>\n",
       "<table border=\"1\" class=\"dataframe\">\n",
       "  <thead>\n",
       "    <tr style=\"text-align: right;\">\n",
       "      <th></th>\n",
       "      <th>Matrix_id</th>\n",
       "      <th>weight</th>\n",
       "      <th>Gene_name</th>\n",
       "    </tr>\n",
       "  </thead>\n",
       "  <tbody>\n",
       "    <tr>\n",
       "      <th>1</th>\n",
       "      <td>242</td>\n",
       "      <td>[[0.98601563, -1.5303424, 0.2184107, -0.972431...</td>\n",
       "      <td>SFRS1</td>\n",
       "    </tr>\n",
       "    <tr>\n",
       "      <th>13</th>\n",
       "      <td>1173</td>\n",
       "      <td>[[0.65450337, -1.0, -0.39733409, 0.2223916], [...</td>\n",
       "      <td>SFRS1</td>\n",
       "    </tr>\n",
       "    <tr>\n",
       "      <th>43</th>\n",
       "      <td>952</td>\n",
       "      <td>[[1.0339473, -0.9328858, -0.9328858, -0.144389...</td>\n",
       "      <td>SFRS1</td>\n",
       "    </tr>\n",
       "    <tr>\n",
       "      <th>44</th>\n",
       "      <td>243</td>\n",
       "      <td>[[1.5090976, -1.3787187, -1.3787187, -1.378718...</td>\n",
       "      <td>SFRS1</td>\n",
       "    </tr>\n",
       "  </tbody>\n",
       "</table>\n",
       "</div>"
      ],
      "text/plain": [
       "   Matrix_id                                             weight Gene_name\n",
       "1        242  [[0.98601563, -1.5303424, 0.2184107, -0.972431...     SFRS1\n",
       "13      1173  [[0.65450337, -1.0, -0.39733409, 0.2223916], [...     SFRS1\n",
       "43       952  [[1.0339473, -0.9328858, -0.9328858, -0.144389...     SFRS1\n",
       "44       243  [[1.5090976, -1.3787187, -1.3787187, -1.378718...     SFRS1"
      ]
     },
     "execution_count": 9,
     "metadata": {},
     "output_type": "execute_result"
    }
   ],
   "source": [
    "pwms[pwms.Gene_name=='SFRS1']"
   ]
  },
  {
   "cell_type": "markdown",
   "metadata": {},
   "source": [
    "We can plot any PWM in `pwms` as follows:"
   ]
  },
  {
   "cell_type": "code",
   "execution_count": 10,
   "metadata": {
    "scrolled": true
   },
   "outputs": [
    {
     "data": {
      "image/png": "[encoded data removed]",
      "text/plain": [
       "<IPython.core.display.Image object>"
      ]
     },
     "execution_count": 10,
     "metadata": {},
     "output_type": "execute_result"
    }
   ],
   "source": [
    "plot_pwm(pwms, Matrix_id='242')"
   ]
  },
  {
   "cell_type": "markdown",
   "metadata": {},
   "source": [
    "Finally, we encode all these PWMs as a convolutional model. This will allow us to scan genome sequence(s)."
   ]
  },
  {
   "cell_type": "code",
   "execution_count": 11,
   "metadata": {
    "scrolled": true
   },
   "outputs": [],
   "source": [
    "model = PWMModel(pwms)"
   ]
  },
  {
   "cell_type": "markdown",
   "metadata": {},
   "source": [
    "## Load the genome"
   ]
  },
  {
   "cell_type": "markdown",
   "metadata": {},
   "source": [
    "We will download the FASTA file containing the viral genome to analyze."
   ]
  },
  {
   "cell_type": "code",
   "execution_count": 13,
   "metadata": {},
   "outputs": [
    {
     "name": "stdout",
     "output_type": "stream",
     "text": [
      "--2021-06-30 00:22:23--  https://ftp.ncbi.nlm.nih.gov/genomes/all/GCA/009/858/895/GCA_009858895.3_ASM985889v3/GCA_009858895.3_ASM985889v3_genomic.fna.gz\n",
      "Resolving ftp.ncbi.nlm.nih.gov (ftp.ncbi.nlm.nih.gov)... 130.14.250.10, 130.14.250.11, 2607:f220:41e:250::12, ...\n",
      "Connecting to ftp.ncbi.nlm.nih.gov (ftp.ncbi.nlm.nih.gov)|130.14.250.10|:443... connected.\n",
      "HTTP request sent, awaiting response... 200 OK\n",
      "Length: 9592 (9.4K) [application/x-gzip]\n",
      "Saving to: ‘GCA_009858895.3_ASM985889v3_genomic.fna.gz’\n",
      "\n",
      "GCA_009858895.3_ASM 100%[===================>]   9.37K  --.-KB/s    in 0s      \n",
      "\n",
      "2021-06-30 00:22:24 (46.4 MB/s) - ‘GCA_009858895.3_ASM985889v3_genomic.fna.gz’ saved [9592/9592]\n",
      "\n"
     ]
    }
   ],
   "source": [
    "!wget https://ftp.ncbi.nlm.nih.gov/genomes/all/GCA/009/858/895/GCA_009858895.3_ASM985889v3/GCA_009858895.3_ASM985889v3_genomic.fna.gz"
   ]
  },
  {
   "cell_type": "markdown",
   "metadata": {},
   "source": [
    "We need to specify whether this is a `+` or `-` sense viral genome."
   ]
  },
  {
   "cell_type": "code",
   "execution_count": 33,
   "metadata": {},
   "outputs": [],
   "source": [
    "genome_sense = '+'"
   ]
  },
  {
   "cell_type": "markdown",
   "metadata": {},
   "source": [
    "We now read the genome sequence, and store it an object called `genome`:"
   ]
  },
  {
   "cell_type": "code",
   "execution_count": 14,
   "metadata": {
    "scrolled": true
   },
   "outputs": [
    {
     "name": "stdout",
     "output_type": "stream",
     "text": [
      "Read 1 records from GCA_009858895.3_ASM985889v3_genomic.fna.gz\n",
      "CPU times: user 21.2 ms, sys: 17.4 ms, total: 38.6 ms\n",
      "Wall time: 79.7 ms\n"
     ]
    }
   ],
   "source": [
    "%%time\n",
    "genome = read_fasta('GCA_009858895.3_ASM985889v3_genomic.fna.gz')"
   ]
  },
  {
   "cell_type": "code",
   "execution_count": 15,
   "metadata": {},
   "outputs": [
    {
     "data": {
      "text/plain": [
       "[SeqRecord(seq=Seq('ATTAAAGGTTTATACCTTCCCAGGTAACAAACCAACCAACTTTCGATCTCTTGT...AAA'), id='MN908947.3', name='MN908947.3', description='MN908947.3 Severe acute respiratory syndrome coronavirus 2 isolate Wuhan-Hu-1, complete genome', dbxrefs=[])]"
      ]
     },
     "execution_count": 15,
     "metadata": {},
     "output_type": "execute_result"
    }
   ],
   "source": [
    "genome"
   ]
  },
  {
   "cell_type": "code",
   "execution_count": 16,
   "metadata": {},
   "outputs": [
    {
     "data": {
      "text/plain": [
       "29903"
      ]
     },
     "execution_count": 16,
     "metadata": {},
     "output_type": "execute_result"
    }
   ],
   "source": [
    "genome_len = sum([len(x) for x in genome])\n",
    "genome_len"
   ]
  },
  {
   "cell_type": "markdown",
   "metadata": {},
   "source": [
    "## Number of binding sites found at various thresholds"
   ]
  },
  {
   "cell_type": "markdown",
   "metadata": {},
   "source": [
    "We generate a background distribution by shuffling the genome sequence multiple times. We need to specify two parameters:"
   ]
  },
  {
   "cell_type": "code",
   "execution_count": 130,
   "metadata": {},
   "outputs": [],
   "source": [
    "simN=100 # Number of times to shuffle\n",
    "simK=2 # k-mer length to keep fixed"
   ]
  },
  {
   "cell_type": "markdown",
   "metadata": {},
   "source": [
    "We begin by demonstrating how to get the distribution of number of binding sites by score. We begin by selecting a preliminary, low threshold of 0.5. \n",
    "In the process, we can also choose whether to encode and scan the reverse complement sequence. To encode and scan the reverse complement sequence as well as the given sequence, we would specify `rcomp=True`. To scan only the given sequence, use `rcomp=False`."
   ]
  },
  {
   "cell_type": "code",
   "execution_count": 132,
   "metadata": {},
   "outputs": [],
   "source": [
    "rcomp=False"
   ]
  },
  {
   "cell_type": "markdown",
   "metadata": {},
   "source": [
    "We will now scan the real genome and the shuffled genome sequences for binding sites, and count the number of sites based on their score. This can take a long time!"
   ]
  },
  {
   "cell_type": "code",
   "execution_count": 133,
   "metadata": {},
   "outputs": [
    {
     "name": "stdout",
     "output_type": "stream",
     "text": [
      "CPU times: user 2 µs, sys: 1e+03 ns, total: 3 µs\n",
      "Wall time: 15.7 µs\n",
      "Shuffled 1 input sequence(s) 100 times while conserving k-mer frequency for k = 2\n"
     ]
    }
   ],
   "source": [
    "%time\n",
    "threshold_binned_results = examine_thresholds(genome, model, simN, simK, rcomp, sense=genome_sense, \n",
    "                                              min_threshold=0.5, verbose=True, combine_seqs=True)"
   ]
  },
  {
   "cell_type": "markdown",
   "metadata": {},
   "source": [
    "We can view the first few shuffled sequences:"
   ]
  },
  {
   "cell_type": "code",
   "execution_count": 134,
   "metadata": {},
   "outputs": [
    {
     "data": {
      "text/plain": [
       "[SeqRecord(seq=Seq('AAACAAAACTGGACACCTGTAATAATCTCAAAGGTTGAATGACATCAGTTCTTA...AAA'), id='background_seq_1', name='MN908947.3', description='<unknown description>', dbxrefs=[]),\n",
       " SeqRecord(seq=Seq('AGCTTATATTTGATTTTTTTTGATGTCAAATGTCCTGCAACTGAAGGTTGATAG...AGA'), id='background_seq_2', name='MN908947.3', description='<unknown description>', dbxrefs=[]),\n",
       " SeqRecord(seq=Seq('ACTGAAAAAGTGCACCTTCTATGCAAGTTCAAAACTACTGTGTAACCTTTATTT...GAA'), id='background_seq_3', name='MN908947.3', description='<unknown description>', dbxrefs=[])]"
      ]
     },
     "execution_count": 134,
     "metadata": {},
     "output_type": "execute_result"
    }
   ],
   "source": [
    "threshold_binned_results['shuf_seqs'][:3]"
   ]
  },
  {
   "cell_type": "markdown",
   "metadata": {},
   "source": [
    "`real_binned` now contains the number of binding sites found for each PWM, binned by score. We can view the first few entries:"
   ]
  },
  {
   "cell_type": "code",
   "execution_count": 135,
   "metadata": {
    "scrolled": true
   },
   "outputs": [
    {
     "data": {
      "text/html": [
       "<div>\n",
       "<style scoped>\n",
       "    .dataframe tbody tr th:only-of-type {\n",
       "        vertical-align: middle;\n",
       "    }\n",
       "\n",
       "    .dataframe tbody tr th {\n",
       "        vertical-align: top;\n",
       "    }\n",
       "\n",
       "    .dataframe thead th {\n",
       "        text-align: right;\n",
       "    }\n",
       "</style>\n",
       "<table border=\"1\" class=\"dataframe\">\n",
       "  <thead>\n",
       "    <tr style=\"text-align: right;\">\n",
       "      <th></th>\n",
       "      <th>Matrix_id</th>\n",
       "      <th>sense</th>\n",
       "      <th>bin</th>\n",
       "      <th>num</th>\n",
       "    </tr>\n",
       "  </thead>\n",
       "  <tbody>\n",
       "    <tr>\n",
       "      <th>0</th>\n",
       "      <td>1052</td>\n",
       "      <td>+</td>\n",
       "      <td>(0.5, 0.6]</td>\n",
       "      <td>15</td>\n",
       "    </tr>\n",
       "    <tr>\n",
       "      <th>1</th>\n",
       "      <td>1052</td>\n",
       "      <td>+</td>\n",
       "      <td>(0.6, 0.7]</td>\n",
       "      <td>16</td>\n",
       "    </tr>\n",
       "    <tr>\n",
       "      <th>2</th>\n",
       "      <td>1052</td>\n",
       "      <td>+</td>\n",
       "      <td>(0.7, 0.8]</td>\n",
       "      <td>0</td>\n",
       "    </tr>\n",
       "    <tr>\n",
       "      <th>3</th>\n",
       "      <td>1052</td>\n",
       "      <td>+</td>\n",
       "      <td>(0.8, 0.9]</td>\n",
       "      <td>50</td>\n",
       "    </tr>\n",
       "    <tr>\n",
       "      <th>4</th>\n",
       "      <td>1052</td>\n",
       "      <td>+</td>\n",
       "      <td>(0.9, 1.0]</td>\n",
       "      <td>0</td>\n",
       "    </tr>\n",
       "  </tbody>\n",
       "</table>\n",
       "</div>"
      ],
      "text/plain": [
       "  Matrix_id sense         bin  num\n",
       "0      1052     +  (0.5, 0.6]   15\n",
       "1      1052     +  (0.6, 0.7]   16\n",
       "2      1052     +  (0.7, 0.8]    0\n",
       "3      1052     +  (0.8, 0.9]   50\n",
       "4      1052     +  (0.9, 1.0]    0"
      ]
     },
     "execution_count": 135,
     "metadata": {},
     "output_type": "execute_result"
    }
   ],
   "source": [
    "threshold_binned_results['real_binned'].head()"
   ]
  },
  {
   "cell_type": "markdown",
   "metadata": {},
   "source": [
    "The `num` column records the number of binding sites per PWM, per bin."
   ]
  },
  {
   "cell_type": "markdown",
   "metadata": {},
   "source": [
    "We plot the distribution of binding sites on the real genome for a given PWM. Here, we are plotting the distribution of binding sites only on the `+` sense sequence."
   ]
  },
  {
   "cell_type": "code",
   "execution_count": 136,
   "metadata": {},
   "outputs": [
    {
     "data": {
      "image/png": "[encoded data removed]",
      "text/plain": [
       "<Figure size 864x288 with 1 Axes>"
      ]
     },
     "metadata": {
      "needs_background": "light"
     },
     "output_type": "display_data"
    }
   ],
   "source": [
    "plot_binned_count_dist(threshold_binned_results['real_binned'], Matrix_id='242', sense ='+')"
   ]
  },
  {
   "cell_type": "markdown",
   "metadata": {},
   "source": [
    "`shuf_binned` contains the number of binding sites per bin, in the shuffled genomes."
   ]
  },
  {
   "cell_type": "code",
   "execution_count": 137,
   "metadata": {},
   "outputs": [
    {
     "data": {
      "text/html": [
       "<div>\n",
       "<style scoped>\n",
       "    .dataframe tbody tr th:only-of-type {\n",
       "        vertical-align: middle;\n",
       "    }\n",
       "\n",
       "    .dataframe tbody tr th {\n",
       "        vertical-align: top;\n",
       "    }\n",
       "\n",
       "    .dataframe thead th {\n",
       "        text-align: right;\n",
       "    }\n",
       "</style>\n",
       "<table border=\"1\" class=\"dataframe\">\n",
       "  <thead>\n",
       "    <tr style=\"text-align: right;\">\n",
       "      <th></th>\n",
       "      <th>Matrix_id</th>\n",
       "      <th>sense</th>\n",
       "      <th>bin</th>\n",
       "      <th>id</th>\n",
       "      <th>num</th>\n",
       "    </tr>\n",
       "  </thead>\n",
       "  <tbody>\n",
       "    <tr>\n",
       "      <th>0</th>\n",
       "      <td>1052</td>\n",
       "      <td>+</td>\n",
       "      <td>(0.5, 0.6]</td>\n",
       "      <td>background_seq_1</td>\n",
       "      <td>17</td>\n",
       "    </tr>\n",
       "    <tr>\n",
       "      <th>1</th>\n",
       "      <td>1052</td>\n",
       "      <td>+</td>\n",
       "      <td>(0.5, 0.6]</td>\n",
       "      <td>background_seq_10</td>\n",
       "      <td>10</td>\n",
       "    </tr>\n",
       "    <tr>\n",
       "      <th>2</th>\n",
       "      <td>1052</td>\n",
       "      <td>+</td>\n",
       "      <td>(0.5, 0.6]</td>\n",
       "      <td>background_seq_100</td>\n",
       "      <td>8</td>\n",
       "    </tr>\n",
       "    <tr>\n",
       "      <th>3</th>\n",
       "      <td>1052</td>\n",
       "      <td>+</td>\n",
       "      <td>(0.5, 0.6]</td>\n",
       "      <td>background_seq_11</td>\n",
       "      <td>9</td>\n",
       "    </tr>\n",
       "    <tr>\n",
       "      <th>4</th>\n",
       "      <td>1052</td>\n",
       "      <td>+</td>\n",
       "      <td>(0.5, 0.6]</td>\n",
       "      <td>background_seq_12</td>\n",
       "      <td>18</td>\n",
       "    </tr>\n",
       "  </tbody>\n",
       "</table>\n",
       "</div>"
      ],
      "text/plain": [
       "  Matrix_id sense         bin                  id  num\n",
       "0      1052     +  (0.5, 0.6]    background_seq_1   17\n",
       "1      1052     +  (0.5, 0.6]   background_seq_10   10\n",
       "2      1052     +  (0.5, 0.6]  background_seq_100    8\n",
       "3      1052     +  (0.5, 0.6]   background_seq_11    9\n",
       "4      1052     +  (0.5, 0.6]   background_seq_12   18"
      ]
     },
     "execution_count": 137,
     "metadata": {},
     "output_type": "execute_result"
    }
   ],
   "source": [
    "threshold_binned_results['shuf_binned'].head()"
   ]
  },
  {
   "cell_type": "markdown",
   "metadata": {},
   "source": [
    "We can now plot the distribution of binding sites per bin for the real and shuffled genome sequences, for any given PWM."
   ]
  },
  {
   "cell_type": "code",
   "execution_count": 138,
   "metadata": {
    "scrolled": true
   },
   "outputs": [
    {
     "data": {
      "image/png": "[encoded data removed]",
      "text/plain": [
       "<Figure size 864x288 with 1 Axes>"
      ]
     },
     "metadata": {
      "needs_background": "light"
     },
     "output_type": "display_data"
    }
   ],
   "source": [
    "plot_binned_count_dist(threshold_binned_results['real_binned'], Matrix_id='242', sense ='+', \n",
    "                       shuf_preds=threshold_binned_results['shuf_binned'])"
   ]
  },
  {
   "cell_type": "markdown",
   "metadata": {},
   "source": [
    "### Binding site discovery and enrichment for a specified threshold"
   ]
  },
  {
   "cell_type": "markdown",
   "metadata": {},
   "source": [
    "Based on this exploration, we can select a higher threshold to identify binding sites, and test for enrichment of PWM matching sites in the genome using a simple function."
   ]
  },
  {
   "cell_type": "code",
   "execution_count": 34,
   "metadata": {},
   "outputs": [],
   "source": [
    "simN=300\n",
    "simK=2\n",
    "rcomp=True\n",
    "threshold=0.8"
   ]
  },
  {
   "cell_type": "code",
   "execution_count": 35,
   "metadata": {
    "tags": []
   },
   "outputs": [
    {
     "name": "stdout",
     "output_type": "stream",
     "text": [
      "Shuffled 1 input sequence(s) 300 times while conserving k-mer frequency for k = 2\n",
      "CPU times: user 50.4 s, sys: 54 s, total: 1min 44s\n",
      "Wall time: 4min 10s\n"
     ]
    }
   ],
   "source": [
    "%%time\n",
    "enrichment_result = enrich_in_genome(genome, model, simN=simN, simK=simK, rcomp=rcomp, \n",
    "                                     sense=genome_sense, threshold=threshold, verbose=True, \n",
    "                                     combine_seqs=True, background='binomial')"
   ]
  },
  {
   "cell_type": "code",
   "execution_count": 36,
   "metadata": {
    "scrolled": true
   },
   "outputs": [
    {
     "data": {
      "text/plain": [
       "dict_keys(['enrichment', 'real_sites', 'real_counts', 'shuf_stats', 'shuf_counts', 'shuf_seqs'])"
      ]
     },
     "execution_count": 36,
     "metadata": {},
     "output_type": "execute_result"
    }
   ],
   "source": [
    "enrichment_result.keys()"
   ]
  },
  {
   "cell_type": "markdown",
   "metadata": {},
   "source": [
    "We can view the locations of the binding sites:"
   ]
  },
  {
   "cell_type": "code",
   "execution_count": 37,
   "metadata": {},
   "outputs": [
    {
     "data": {
      "text/html": [
       "<div>\n",
       "<style scoped>\n",
       "    .dataframe tbody tr th:only-of-type {\n",
       "        vertical-align: middle;\n",
       "    }\n",
       "\n",
       "    .dataframe tbody tr th {\n",
       "        vertical-align: top;\n",
       "    }\n",
       "\n",
       "    .dataframe thead th {\n",
       "        text-align: right;\n",
       "    }\n",
       "</style>\n",
       "<table border=\"1\" class=\"dataframe\">\n",
       "  <thead>\n",
       "    <tr style=\"text-align: right;\">\n",
       "      <th></th>\n",
       "      <th>id</th>\n",
       "      <th>name</th>\n",
       "      <th>sense</th>\n",
       "      <th>start</th>\n",
       "      <th>Matrix_id</th>\n",
       "      <th>width</th>\n",
       "      <th>end</th>\n",
       "      <th>score</th>\n",
       "      <th>max_score</th>\n",
       "      <th>frac_score</th>\n",
       "    </tr>\n",
       "  </thead>\n",
       "  <tbody>\n",
       "    <tr>\n",
       "      <th>0</th>\n",
       "      <td>MN908947.3</td>\n",
       "      <td>MN908947.3</td>\n",
       "      <td>+</td>\n",
       "      <td>0</td>\n",
       "      <td>1174</td>\n",
       "      <td>6</td>\n",
       "      <td>6</td>\n",
       "      <td>4.092388</td>\n",
       "      <td>4.652089</td>\n",
       "      <td>0.879688</td>\n",
       "    </tr>\n",
       "    <tr>\n",
       "      <th>1</th>\n",
       "      <td>MN908947.3</td>\n",
       "      <td>MN908947.3</td>\n",
       "      <td>+</td>\n",
       "      <td>3</td>\n",
       "      <td>1169</td>\n",
       "      <td>7</td>\n",
       "      <td>10</td>\n",
       "      <td>4.293839</td>\n",
       "      <td>5.110522</td>\n",
       "      <td>0.840196</td>\n",
       "    </tr>\n",
       "    <tr>\n",
       "      <th>2</th>\n",
       "      <td>MN908947.3</td>\n",
       "      <td>MN908947.3</td>\n",
       "      <td>+</td>\n",
       "      <td>7</td>\n",
       "      <td>1170</td>\n",
       "      <td>4</td>\n",
       "      <td>11</td>\n",
       "      <td>4.403590</td>\n",
       "      <td>4.403591</td>\n",
       "      <td>1.000000</td>\n",
       "    </tr>\n",
       "    <tr>\n",
       "      <th>3</th>\n",
       "      <td>MN908947.3</td>\n",
       "      <td>MN908947.3</td>\n",
       "      <td>+</td>\n",
       "      <td>17</td>\n",
       "      <td>1217</td>\n",
       "      <td>5</td>\n",
       "      <td>22</td>\n",
       "      <td>23.000000</td>\n",
       "      <td>25.000000</td>\n",
       "      <td>0.920000</td>\n",
       "    </tr>\n",
       "    <tr>\n",
       "      <th>4</th>\n",
       "      <td>MN908947.3</td>\n",
       "      <td>MN908947.3</td>\n",
       "      <td>+</td>\n",
       "      <td>19</td>\n",
       "      <td>922</td>\n",
       "      <td>4</td>\n",
       "      <td>23</td>\n",
       "      <td>5.268256</td>\n",
       "      <td>5.268255</td>\n",
       "      <td>1.000000</td>\n",
       "    </tr>\n",
       "  </tbody>\n",
       "</table>\n",
       "</div>"
      ],
      "text/plain": [
       "           id        name sense  start Matrix_id  width  end      score  \\\n",
       "0  MN908947.3  MN908947.3     +      0      1174      6    6   4.092388   \n",
       "1  MN908947.3  MN908947.3     +      3      1169      7   10   4.293839   \n",
       "2  MN908947.3  MN908947.3     +      7      1170      4   11   4.403590   \n",
       "3  MN908947.3  MN908947.3     +     17      1217      5   22  23.000000   \n",
       "4  MN908947.3  MN908947.3     +     19       922      4   23   5.268256   \n",
       "\n",
       "   max_score  frac_score  \n",
       "0   4.652089    0.879688  \n",
       "1   5.110522    0.840196  \n",
       "2   4.403591    1.000000  \n",
       "3  25.000000    0.920000  \n",
       "4   5.268255    1.000000  "
      ]
     },
     "execution_count": 37,
     "metadata": {},
     "output_type": "execute_result"
    }
   ],
   "source": [
    "real_sites = enrichment_result['real_sites']\n",
    "real_sites.head()"
   ]
  },
  {
   "cell_type": "markdown",
   "metadata": {},
   "source": [
    "And the number of binding sites per PWM in the real genome:"
   ]
  },
  {
   "cell_type": "code",
   "execution_count": 38,
   "metadata": {
    "scrolled": true
   },
   "outputs": [
    {
     "data": {
      "text/html": [
       "<div>\n",
       "<style scoped>\n",
       "    .dataframe tbody tr th:only-of-type {\n",
       "        vertical-align: middle;\n",
       "    }\n",
       "\n",
       "    .dataframe tbody tr th {\n",
       "        vertical-align: top;\n",
       "    }\n",
       "\n",
       "    .dataframe thead th {\n",
       "        text-align: right;\n",
       "    }\n",
       "</style>\n",
       "<table border=\"1\" class=\"dataframe\">\n",
       "  <thead>\n",
       "    <tr style=\"text-align: right;\">\n",
       "      <th></th>\n",
       "      <th>Matrix_id</th>\n",
       "      <th>sense</th>\n",
       "      <th>num</th>\n",
       "    </tr>\n",
       "  </thead>\n",
       "  <tbody>\n",
       "    <tr>\n",
       "      <th>0</th>\n",
       "      <td>1052</td>\n",
       "      <td>+</td>\n",
       "      <td>107</td>\n",
       "    </tr>\n",
       "    <tr>\n",
       "      <th>1</th>\n",
       "      <td>1052</td>\n",
       "      <td>-</td>\n",
       "      <td>89</td>\n",
       "    </tr>\n",
       "    <tr>\n",
       "      <th>2</th>\n",
       "      <td>1053</td>\n",
       "      <td>+</td>\n",
       "      <td>57</td>\n",
       "    </tr>\n",
       "    <tr>\n",
       "      <th>3</th>\n",
       "      <td>1053</td>\n",
       "      <td>-</td>\n",
       "      <td>20</td>\n",
       "    </tr>\n",
       "    <tr>\n",
       "      <th>4</th>\n",
       "      <td>1169</td>\n",
       "      <td>+</td>\n",
       "      <td>151</td>\n",
       "    </tr>\n",
       "  </tbody>\n",
       "</table>\n",
       "</div>"
      ],
      "text/plain": [
       "  Matrix_id sense  num\n",
       "0      1052     +  107\n",
       "1      1052     -   89\n",
       "2      1053     +   57\n",
       "3      1053     -   20\n",
       "4      1169     +  151"
      ]
     },
     "execution_count": 38,
     "metadata": {},
     "output_type": "execute_result"
    }
   ],
   "source": [
    "real_counts = enrichment_result['real_counts']\n",
    "real_counts.head()"
   ]
  },
  {
   "cell_type": "markdown",
   "metadata": {},
   "source": [
    "We can plot the distribution of number of binding sites per PWM, per strand:"
   ]
  },
  {
   "cell_type": "code",
   "execution_count": 39,
   "metadata": {
    "scrolled": true
   },
   "outputs": [
    {
     "data": {
      "text/plain": [
       "<AxesSubplot:xlabel='num', ylabel='Count'>"
      ]
     },
     "execution_count": 39,
     "metadata": {},
     "output_type": "execute_result"
    },
    {
     "data": {
      "image/png": "[encoded data removed]",
      "text/plain": [
       "<Figure size 864x216 with 1 Axes>"
      ]
     },
     "metadata": {
      "needs_background": "light"
     },
     "output_type": "display_data"
    }
   ],
   "source": [
    "plt.figure(figsize=(12, 3))\n",
    "sns.histplot(data=real_counts, x='num', hue='sense', bins='auto')"
   ]
  },
  {
   "cell_type": "markdown",
   "metadata": {},
   "source": [
    "We can see the number of binding sites found on the shuffled genomes:"
   ]
  },
  {
   "cell_type": "code",
   "execution_count": 40,
   "metadata": {
    "scrolled": true
   },
   "outputs": [
    {
     "data": {
      "text/html": [
       "<div>\n",
       "<style scoped>\n",
       "    .dataframe tbody tr th:only-of-type {\n",
       "        vertical-align: middle;\n",
       "    }\n",
       "\n",
       "    .dataframe tbody tr th {\n",
       "        vertical-align: top;\n",
       "    }\n",
       "\n",
       "    .dataframe thead th {\n",
       "        text-align: right;\n",
       "    }\n",
       "</style>\n",
       "<table border=\"1\" class=\"dataframe\">\n",
       "  <thead>\n",
       "    <tr style=\"text-align: right;\">\n",
       "      <th></th>\n",
       "      <th>Matrix_id</th>\n",
       "      <th>sense</th>\n",
       "      <th>id</th>\n",
       "      <th>num</th>\n",
       "    </tr>\n",
       "  </thead>\n",
       "  <tbody>\n",
       "    <tr>\n",
       "      <th>0</th>\n",
       "      <td>1052</td>\n",
       "      <td>+</td>\n",
       "      <td>background_seq_1</td>\n",
       "      <td>110</td>\n",
       "    </tr>\n",
       "    <tr>\n",
       "      <th>1</th>\n",
       "      <td>1052</td>\n",
       "      <td>+</td>\n",
       "      <td>background_seq_10</td>\n",
       "      <td>88</td>\n",
       "    </tr>\n",
       "    <tr>\n",
       "      <th>2</th>\n",
       "      <td>1052</td>\n",
       "      <td>+</td>\n",
       "      <td>background_seq_100</td>\n",
       "      <td>100</td>\n",
       "    </tr>\n",
       "    <tr>\n",
       "      <th>3</th>\n",
       "      <td>1052</td>\n",
       "      <td>+</td>\n",
       "      <td>background_seq_101</td>\n",
       "      <td>105</td>\n",
       "    </tr>\n",
       "    <tr>\n",
       "      <th>4</th>\n",
       "      <td>1052</td>\n",
       "      <td>+</td>\n",
       "      <td>background_seq_102</td>\n",
       "      <td>85</td>\n",
       "    </tr>\n",
       "  </tbody>\n",
       "</table>\n",
       "</div>"
      ],
      "text/plain": [
       "  Matrix_id sense                  id  num\n",
       "0      1052     +    background_seq_1  110\n",
       "1      1052     +   background_seq_10   88\n",
       "2      1052     +  background_seq_100  100\n",
       "3      1052     +  background_seq_101  105\n",
       "4      1052     +  background_seq_102   85"
      ]
     },
     "execution_count": 40,
     "metadata": {},
     "output_type": "execute_result"
    }
   ],
   "source": [
    "shuf_counts = enrichment_result['shuf_counts']\n",
    "shuf_counts.head()"
   ]
  },
  {
   "cell_type": "code",
   "execution_count": 41,
   "metadata": {},
   "outputs": [
    {
     "data": {
      "text/html": [
       "<div>\n",
       "<style scoped>\n",
       "    .dataframe tbody tr th:only-of-type {\n",
       "        vertical-align: middle;\n",
       "    }\n",
       "\n",
       "    .dataframe tbody tr th {\n",
       "        vertical-align: top;\n",
       "    }\n",
       "\n",
       "    .dataframe thead th {\n",
       "        text-align: right;\n",
       "    }\n",
       "</style>\n",
       "<table border=\"1\" class=\"dataframe\">\n",
       "  <thead>\n",
       "    <tr style=\"text-align: right;\">\n",
       "      <th></th>\n",
       "      <th>Matrix_id</th>\n",
       "      <th>sense</th>\n",
       "      <th>len</th>\n",
       "      <th>avg</th>\n",
       "      <th>sd</th>\n",
       "    </tr>\n",
       "  </thead>\n",
       "  <tbody>\n",
       "    <tr>\n",
       "      <th>0</th>\n",
       "      <td>1052</td>\n",
       "      <td>+</td>\n",
       "      <td>300</td>\n",
       "      <td>93.990000</td>\n",
       "      <td>8.745179</td>\n",
       "    </tr>\n",
       "    <tr>\n",
       "      <th>1</th>\n",
       "      <td>1052</td>\n",
       "      <td>-</td>\n",
       "      <td>300</td>\n",
       "      <td>126.186667</td>\n",
       "      <td>10.216968</td>\n",
       "    </tr>\n",
       "    <tr>\n",
       "      <th>2</th>\n",
       "      <td>1053</td>\n",
       "      <td>+</td>\n",
       "      <td>300</td>\n",
       "      <td>37.323333</td>\n",
       "      <td>5.561946</td>\n",
       "    </tr>\n",
       "    <tr>\n",
       "      <th>3</th>\n",
       "      <td>1053</td>\n",
       "      <td>-</td>\n",
       "      <td>300</td>\n",
       "      <td>46.686667</td>\n",
       "      <td>6.400916</td>\n",
       "    </tr>\n",
       "    <tr>\n",
       "      <th>4</th>\n",
       "      <td>1169</td>\n",
       "      <td>+</td>\n",
       "      <td>300</td>\n",
       "      <td>109.350000</td>\n",
       "      <td>9.394058</td>\n",
       "    </tr>\n",
       "  </tbody>\n",
       "</table>\n",
       "</div>"
      ],
      "text/plain": [
       "  Matrix_id sense  len         avg         sd\n",
       "0      1052     +  300   93.990000   8.745179\n",
       "1      1052     -  300  126.186667  10.216968\n",
       "2      1053     +  300   37.323333   5.561946\n",
       "3      1053     -  300   46.686667   6.400916\n",
       "4      1169     +  300  109.350000   9.394058"
      ]
     },
     "execution_count": 41,
     "metadata": {},
     "output_type": "execute_result"
    }
   ],
   "source": [
    "shuf_stats = enrichment_result['shuf_stats']\n",
    "shuf_stats.head()"
   ]
  },
  {
   "cell_type": "markdown",
   "metadata": {},
   "source": [
    "We can examine the enrichment for each PWM."
   ]
  },
  {
   "cell_type": "code",
   "execution_count": 42,
   "metadata": {
    "scrolled": true
   },
   "outputs": [
    {
     "data": {
      "text/html": [
       "<div>\n",
       "<style scoped>\n",
       "    .dataframe tbody tr th:only-of-type {\n",
       "        vertical-align: middle;\n",
       "    }\n",
       "\n",
       "    .dataframe tbody tr th {\n",
       "        vertical-align: top;\n",
       "    }\n",
       "\n",
       "    .dataframe thead th {\n",
       "        text-align: right;\n",
       "    }\n",
       "</style>\n",
       "<table border=\"1\" class=\"dataframe\">\n",
       "  <thead>\n",
       "    <tr style=\"text-align: right;\">\n",
       "      <th></th>\n",
       "      <th>Matrix_id</th>\n",
       "      <th>sense</th>\n",
       "      <th>num</th>\n",
       "      <th>len</th>\n",
       "      <th>avg</th>\n",
       "      <th>sd</th>\n",
       "      <th>p</th>\n",
       "      <th>fdr</th>\n",
       "    </tr>\n",
       "  </thead>\n",
       "  <tbody>\n",
       "    <tr>\n",
       "      <th>0</th>\n",
       "      <td>637</td>\n",
       "      <td>+</td>\n",
       "      <td>157.0</td>\n",
       "      <td>300</td>\n",
       "      <td>99.913333</td>\n",
       "      <td>9.352936</td>\n",
       "      <td>1.244803e-07</td>\n",
       "      <td>0.000007</td>\n",
       "    </tr>\n",
       "    <tr>\n",
       "      <th>1</th>\n",
       "      <td>1169</td>\n",
       "      <td>+</td>\n",
       "      <td>151.0</td>\n",
       "      <td>300</td>\n",
       "      <td>109.350000</td>\n",
       "      <td>9.394058</td>\n",
       "      <td>1.486884e-04</td>\n",
       "      <td>0.003666</td>\n",
       "    </tr>\n",
       "    <tr>\n",
       "      <th>2</th>\n",
       "      <td>947</td>\n",
       "      <td>+</td>\n",
       "      <td>5.0</td>\n",
       "      <td>300</td>\n",
       "      <td>0.516667</td>\n",
       "      <td>0.710449</td>\n",
       "      <td>1.999637e-04</td>\n",
       "      <td>0.003666</td>\n",
       "    </tr>\n",
       "    <tr>\n",
       "      <th>3</th>\n",
       "      <td>669</td>\n",
       "      <td>+</td>\n",
       "      <td>283.0</td>\n",
       "      <td>300</td>\n",
       "      <td>228.840000</td>\n",
       "      <td>12.514382</td>\n",
       "      <td>4.887827e-04</td>\n",
       "      <td>0.006721</td>\n",
       "    </tr>\n",
       "    <tr>\n",
       "      <th>4</th>\n",
       "      <td>1053</td>\n",
       "      <td>+</td>\n",
       "      <td>57.0</td>\n",
       "      <td>300</td>\n",
       "      <td>37.323333</td>\n",
       "      <td>5.561946</td>\n",
       "      <td>2.350046e-03</td>\n",
       "      <td>0.025851</td>\n",
       "    </tr>\n",
       "  </tbody>\n",
       "</table>\n",
       "</div>"
      ],
      "text/plain": [
       "  Matrix_id sense    num  len         avg         sd             p       fdr\n",
       "0       637     +  157.0  300   99.913333   9.352936  1.244803e-07  0.000007\n",
       "1      1169     +  151.0  300  109.350000   9.394058  1.486884e-04  0.003666\n",
       "2       947     +    5.0  300    0.516667   0.710449  1.999637e-04  0.003666\n",
       "3       669     +  283.0  300  228.840000  12.514382  4.887827e-04  0.006721\n",
       "4      1053     +   57.0  300   37.323333   5.561946  2.350046e-03  0.025851"
      ]
     },
     "execution_count": 42,
     "metadata": {},
     "output_type": "execute_result"
    }
   ],
   "source": [
    "enr = enrichment_result['enrichment']\n",
    "enr.head()"
   ]
  },
  {
   "cell_type": "markdown",
   "metadata": {},
   "source": [
    "We can separate out the PWMs that are enriched / depleted on each strand:"
   ]
  },
  {
   "cell_type": "code",
   "execution_count": 43,
   "metadata": {},
   "outputs": [
    {
     "name": "stdout",
     "output_type": "stream",
     "text": [
      "5\n",
      "2\n",
      "1\n",
      "5\n"
     ]
    }
   ],
   "source": [
    "enr_pos = enr[(enr.fdr<0.05) & (enr.num > enr.avg) & (enr.sense=='+')].reset_index(drop=True) # enriched on + strand\n",
    "enr_neg = enr[(enr.fdr<0.05) & (enr.num > enr.avg) & (enr.sense=='-')].reset_index(drop=True) # enriched on - strand\n",
    "dep_pos = enr[(enr.fdr<0.05) & (enr.num < enr.avg) & (enr.sense=='+')].reset_index(drop=True) # depleted on + strand\n",
    "dep_neg = enr[(enr.fdr<0.05) & (enr.num < enr.avg) & (enr.sense=='-')].reset_index(drop=True) # depleted on - strand\n",
    "\n",
    "print(len(enr_pos))\n",
    "print(len(enr_neg))\n",
    "print(len(dep_pos))\n",
    "print(len(dep_neg))"
   ]
  },
  {
   "cell_type": "markdown",
   "metadata": {},
   "source": [
    "We can view the PWMs enriched on the `+` strand:"
   ]
  },
  {
   "cell_type": "code",
   "execution_count": 46,
   "metadata": {
    "scrolled": true
   },
   "outputs": [
    {
     "data": {
      "text/html": [
       "<div>\n",
       "<style scoped>\n",
       "    .dataframe tbody tr th:only-of-type {\n",
       "        vertical-align: middle;\n",
       "    }\n",
       "\n",
       "    .dataframe tbody tr th {\n",
       "        vertical-align: top;\n",
       "    }\n",
       "\n",
       "    .dataframe thead th {\n",
       "        text-align: right;\n",
       "    }\n",
       "</style>\n",
       "<table border=\"1\" class=\"dataframe\">\n",
       "  <thead>\n",
       "    <tr style=\"text-align: right;\">\n",
       "      <th></th>\n",
       "      <th>Matrix_id</th>\n",
       "      <th>sense</th>\n",
       "      <th>num</th>\n",
       "      <th>len</th>\n",
       "      <th>avg</th>\n",
       "      <th>sd</th>\n",
       "      <th>p</th>\n",
       "      <th>fdr</th>\n",
       "      <th>Gene_name</th>\n",
       "    </tr>\n",
       "  </thead>\n",
       "  <tbody>\n",
       "    <tr>\n",
       "      <th>0</th>\n",
       "      <td>637</td>\n",
       "      <td>+</td>\n",
       "      <td>157.0</td>\n",
       "      <td>300</td>\n",
       "      <td>99.913333</td>\n",
       "      <td>9.352936</td>\n",
       "      <td>1.244803e-07</td>\n",
       "      <td>0.000007</td>\n",
       "      <td>FUS</td>\n",
       "    </tr>\n",
       "    <tr>\n",
       "      <th>1</th>\n",
       "      <td>1169</td>\n",
       "      <td>+</td>\n",
       "      <td>151.0</td>\n",
       "      <td>300</td>\n",
       "      <td>109.350000</td>\n",
       "      <td>9.394058</td>\n",
       "      <td>1.486884e-04</td>\n",
       "      <td>0.003666</td>\n",
       "      <td>SFRS13A</td>\n",
       "    </tr>\n",
       "    <tr>\n",
       "      <th>2</th>\n",
       "      <td>947</td>\n",
       "      <td>+</td>\n",
       "      <td>5.0</td>\n",
       "      <td>300</td>\n",
       "      <td>0.516667</td>\n",
       "      <td>0.710449</td>\n",
       "      <td>1.999637e-04</td>\n",
       "      <td>0.003666</td>\n",
       "      <td>SNRPA</td>\n",
       "    </tr>\n",
       "    <tr>\n",
       "      <th>3</th>\n",
       "      <td>669</td>\n",
       "      <td>+</td>\n",
       "      <td>283.0</td>\n",
       "      <td>300</td>\n",
       "      <td>228.840000</td>\n",
       "      <td>12.514382</td>\n",
       "      <td>4.887827e-04</td>\n",
       "      <td>0.006721</td>\n",
       "      <td>MBNL1</td>\n",
       "    </tr>\n",
       "    <tr>\n",
       "      <th>4</th>\n",
       "      <td>1053</td>\n",
       "      <td>+</td>\n",
       "      <td>57.0</td>\n",
       "      <td>300</td>\n",
       "      <td>37.323333</td>\n",
       "      <td>5.561946</td>\n",
       "      <td>2.350046e-03</td>\n",
       "      <td>0.025851</td>\n",
       "      <td>RBMY1A1</td>\n",
       "    </tr>\n",
       "  </tbody>\n",
       "</table>\n",
       "</div>"
      ],
      "text/plain": [
       "  Matrix_id sense    num  len         avg         sd             p       fdr  \\\n",
       "0       637     +  157.0  300   99.913333   9.352936  1.244803e-07  0.000007   \n",
       "1      1169     +  151.0  300  109.350000   9.394058  1.486884e-04  0.003666   \n",
       "2       947     +    5.0  300    0.516667   0.710449  1.999637e-04  0.003666   \n",
       "3       669     +  283.0  300  228.840000  12.514382  4.887827e-04  0.006721   \n",
       "4      1053     +   57.0  300   37.323333   5.561946  2.350046e-03  0.025851   \n",
       "\n",
       "  Gene_name  \n",
       "0       FUS  \n",
       "1   SFRS13A  \n",
       "2     SNRPA  \n",
       "3     MBNL1  \n",
       "4   RBMY1A1  "
      ]
     },
     "execution_count": 46,
     "metadata": {},
     "output_type": "execute_result"
    }
   ],
   "source": [
    "enr_pos"
   ]
  },
  {
   "cell_type": "markdown",
   "metadata": {},
   "source": [
    "And match these to RBPs:"
   ]
  },
  {
   "cell_type": "code",
   "execution_count": 47,
   "metadata": {},
   "outputs": [
    {
     "data": {
      "text/html": [
       "<div>\n",
       "<style scoped>\n",
       "    .dataframe tbody tr th:only-of-type {\n",
       "        vertical-align: middle;\n",
       "    }\n",
       "\n",
       "    .dataframe tbody tr th {\n",
       "        vertical-align: top;\n",
       "    }\n",
       "\n",
       "    .dataframe thead th {\n",
       "        text-align: right;\n",
       "    }\n",
       "</style>\n",
       "<table border=\"1\" class=\"dataframe\">\n",
       "  <thead>\n",
       "    <tr style=\"text-align: right;\">\n",
       "      <th></th>\n",
       "      <th>Matrix_id</th>\n",
       "      <th>sense</th>\n",
       "      <th>num</th>\n",
       "      <th>len</th>\n",
       "      <th>avg</th>\n",
       "      <th>sd</th>\n",
       "      <th>p</th>\n",
       "      <th>fdr</th>\n",
       "      <th>Gene_name</th>\n",
       "    </tr>\n",
       "  </thead>\n",
       "  <tbody>\n",
       "    <tr>\n",
       "      <th>0</th>\n",
       "      <td>637</td>\n",
       "      <td>+</td>\n",
       "      <td>157.0</td>\n",
       "      <td>300</td>\n",
       "      <td>99.913333</td>\n",
       "      <td>9.352936</td>\n",
       "      <td>1.244803e-07</td>\n",
       "      <td>0.000007</td>\n",
       "      <td>FUS</td>\n",
       "    </tr>\n",
       "    <tr>\n",
       "      <th>1</th>\n",
       "      <td>1169</td>\n",
       "      <td>+</td>\n",
       "      <td>151.0</td>\n",
       "      <td>300</td>\n",
       "      <td>109.350000</td>\n",
       "      <td>9.394058</td>\n",
       "      <td>1.486884e-04</td>\n",
       "      <td>0.003666</td>\n",
       "      <td>SFRS13A</td>\n",
       "    </tr>\n",
       "    <tr>\n",
       "      <th>2</th>\n",
       "      <td>947</td>\n",
       "      <td>+</td>\n",
       "      <td>5.0</td>\n",
       "      <td>300</td>\n",
       "      <td>0.516667</td>\n",
       "      <td>0.710449</td>\n",
       "      <td>1.999637e-04</td>\n",
       "      <td>0.003666</td>\n",
       "      <td>SNRPA</td>\n",
       "    </tr>\n",
       "    <tr>\n",
       "      <th>3</th>\n",
       "      <td>669</td>\n",
       "      <td>+</td>\n",
       "      <td>283.0</td>\n",
       "      <td>300</td>\n",
       "      <td>228.840000</td>\n",
       "      <td>12.514382</td>\n",
       "      <td>4.887827e-04</td>\n",
       "      <td>0.006721</td>\n",
       "      <td>MBNL1</td>\n",
       "    </tr>\n",
       "    <tr>\n",
       "      <th>4</th>\n",
       "      <td>1053</td>\n",
       "      <td>+</td>\n",
       "      <td>57.0</td>\n",
       "      <td>300</td>\n",
       "      <td>37.323333</td>\n",
       "      <td>5.561946</td>\n",
       "      <td>2.350046e-03</td>\n",
       "      <td>0.025851</td>\n",
       "      <td>RBMY1A1</td>\n",
       "    </tr>\n",
       "  </tbody>\n",
       "</table>\n",
       "</div>"
      ],
      "text/plain": [
       "  Matrix_id sense    num  len         avg         sd             p       fdr  \\\n",
       "0       637     +  157.0  300   99.913333   9.352936  1.244803e-07  0.000007   \n",
       "1      1169     +  151.0  300  109.350000   9.394058  1.486884e-04  0.003666   \n",
       "2       947     +    5.0  300    0.516667   0.710449  1.999637e-04  0.003666   \n",
       "3       669     +  283.0  300  228.840000  12.514382  4.887827e-04  0.006721   \n",
       "4      1053     +   57.0  300   37.323333   5.561946  2.350046e-03  0.025851   \n",
       "\n",
       "  Gene_name  \n",
       "0       FUS  \n",
       "1   SFRS13A  \n",
       "2     SNRPA  \n",
       "3     MBNL1  \n",
       "4   RBMY1A1  "
      ]
     },
     "execution_count": 47,
     "metadata": {},
     "output_type": "execute_result"
    }
   ],
   "source": [
    "enr_pos = enr_pos.merge(pwms.loc[:,['Matrix_id', 'Gene_name']])\n",
    "enr_pos.head()"
   ]
  },
  {
   "cell_type": "markdown",
   "metadata": {},
   "source": [
    "We can plot the number of binding sites for any PWM in windows across the genome:"
   ]
  },
  {
   "cell_type": "code",
   "execution_count": 56,
   "metadata": {
    "scrolled": true
   },
   "outputs": [
    {
     "data": {
      "text/html": [
       "<div>\n",
       "<style scoped>\n",
       "    .dataframe tbody tr th:only-of-type {\n",
       "        vertical-align: middle;\n",
       "    }\n",
       "\n",
       "    .dataframe tbody tr th {\n",
       "        vertical-align: top;\n",
       "    }\n",
       "\n",
       "    .dataframe thead th {\n",
       "        text-align: right;\n",
       "    }\n",
       "</style>\n",
       "<table border=\"1\" class=\"dataframe\">\n",
       "  <thead>\n",
       "    <tr style=\"text-align: right;\">\n",
       "      <th></th>\n",
       "      <th>id</th>\n",
       "      <th>start</th>\n",
       "      <th>end</th>\n",
       "      <th>count</th>\n",
       "    </tr>\n",
       "  </thead>\n",
       "  <tbody>\n",
       "    <tr>\n",
       "      <th>0</th>\n",
       "      <td>MN908947.3</td>\n",
       "      <td>0</td>\n",
       "      <td>1000</td>\n",
       "      <td>6</td>\n",
       "    </tr>\n",
       "    <tr>\n",
       "      <th>1</th>\n",
       "      <td>MN908947.3</td>\n",
       "      <td>1000</td>\n",
       "      <td>2000</td>\n",
       "      <td>7</td>\n",
       "    </tr>\n",
       "    <tr>\n",
       "      <th>2</th>\n",
       "      <td>MN908947.3</td>\n",
       "      <td>2000</td>\n",
       "      <td>3000</td>\n",
       "      <td>10</td>\n",
       "    </tr>\n",
       "    <tr>\n",
       "      <th>3</th>\n",
       "      <td>MN908947.3</td>\n",
       "      <td>3000</td>\n",
       "      <td>4000</td>\n",
       "      <td>6</td>\n",
       "    </tr>\n",
       "    <tr>\n",
       "      <th>4</th>\n",
       "      <td>MN908947.3</td>\n",
       "      <td>4000</td>\n",
       "      <td>5000</td>\n",
       "      <td>8</td>\n",
       "    </tr>\n",
       "  </tbody>\n",
       "</table>\n",
       "</div>"
      ],
      "text/plain": [
       "           id  start   end  count\n",
       "0  MN908947.3      0  1000      6\n",
       "1  MN908947.3   1000  2000      7\n",
       "2  MN908947.3   2000  3000     10\n",
       "3  MN908947.3   3000  4000      6\n",
       "4  MN908947.3   4000  5000      8"
      ]
     },
     "execution_count": 56,
     "metadata": {},
     "output_type": "execute_result"
    }
   ],
   "source": [
    "r = count_in_sliding_windows(real_sites[real_sites.sense=='+'], genome, '637', 1000)\n",
    "r.head()"
   ]
  },
  {
   "cell_type": "markdown",
   "metadata": {},
   "source": [
    "And visualize it:"
   ]
  },
  {
   "cell_type": "code",
   "execution_count": 57,
   "metadata": {
    "tags": []
   },
   "outputs": [
    {
     "data": {
      "image/png": "[encoded data removed]",
      "text/plain": [
       "<Figure size 403.2x288 with 1 Axes>"
      ]
     },
     "metadata": {
      "needs_background": "light"
     },
     "output_type": "display_data"
    }
   ],
   "source": [
    "sliding_window_count_plot(r, cols=1, title='244')"
   ]
  },
  {
   "cell_type": "markdown",
   "metadata": {},
   "source": [
    "## Enrichment plot"
   ]
  },
  {
   "cell_type": "markdown",
   "metadata": {},
   "source": [
    "We can plot the distribution of binding sites for any set of PWMs. Here we plot the distributions for the enriched PWMs on the `+` sense genome."
   ]
  },
  {
   "cell_type": "code",
   "execution_count": 61,
   "metadata": {},
   "outputs": [
    {
     "data": {
      "image/png": "[encoded data removed]",
      "text/plain": [
       "<Figure size 1152x360 with 6 Axes>"
      ]
     },
     "metadata": {
      "needs_background": "light"
     },
     "output_type": "display_data"
    }
   ],
   "source": [
    "plot_background(shuf_counts[shuf_counts.sense==\"+\"], real_counts[real_counts.sense==\"+\"], \n",
    "                enr_pos.Matrix_id, genome_len, background='binomial', \n",
    "                figsize=(16,5), ncols=3)"
   ]
  },
  {
   "cell_type": "markdown",
   "metadata": {},
   "source": [
    "## Enrichment in sliding windows"
   ]
  },
  {
   "cell_type": "markdown",
   "metadata": {},
   "source": [
    "For any given PWM, we can test for enrichment of its binding sites in sliding windows across the genome using Fisher's exact test. Here we test for enrichment of a specific PWM in the positive ('+') sense genome."
   ]
  },
  {
   "cell_type": "code",
   "execution_count": 126,
   "metadata": {
    "scrolled": true
   },
   "outputs": [
    {
     "data": {
      "text/html": [
       "<div>\n",
       "<style scoped>\n",
       "    .dataframe tbody tr th:only-of-type {\n",
       "        vertical-align: middle;\n",
       "    }\n",
       "\n",
       "    .dataframe tbody tr th {\n",
       "        vertical-align: top;\n",
       "    }\n",
       "\n",
       "    .dataframe thead th {\n",
       "        text-align: right;\n",
       "    }\n",
       "</style>\n",
       "<table border=\"1\" class=\"dataframe\">\n",
       "  <thead>\n",
       "    <tr style=\"text-align: right;\">\n",
       "      <th></th>\n",
       "      <th>id</th>\n",
       "      <th>start</th>\n",
       "      <th>end</th>\n",
       "      <th>len</th>\n",
       "      <th>count</th>\n",
       "      <th>tot_count</th>\n",
       "      <th>expected</th>\n",
       "      <th>odds</th>\n",
       "      <th>p</th>\n",
       "      <th>padj</th>\n",
       "    </tr>\n",
       "  </thead>\n",
       "  <tbody>\n",
       "    <tr>\n",
       "      <th>0</th>\n",
       "      <td>MN908947.3</td>\n",
       "      <td>0</td>\n",
       "      <td>500</td>\n",
       "      <td>500</td>\n",
       "      <td>1</td>\n",
       "      <td>85</td>\n",
       "      <td>1.421262</td>\n",
       "      <td>0.703006</td>\n",
       "      <td>1.000000</td>\n",
       "      <td>1.000000</td>\n",
       "    </tr>\n",
       "    <tr>\n",
       "      <th>1</th>\n",
       "      <td>MN908947.3</td>\n",
       "      <td>500</td>\n",
       "      <td>1000</td>\n",
       "      <td>500</td>\n",
       "      <td>0</td>\n",
       "      <td>85</td>\n",
       "      <td>1.421262</td>\n",
       "      <td>0.000000</td>\n",
       "      <td>0.408347</td>\n",
       "      <td>0.765651</td>\n",
       "    </tr>\n",
       "    <tr>\n",
       "      <th>2</th>\n",
       "      <td>MN908947.3</td>\n",
       "      <td>1000</td>\n",
       "      <td>1500</td>\n",
       "      <td>500</td>\n",
       "      <td>1</td>\n",
       "      <td>85</td>\n",
       "      <td>1.421262</td>\n",
       "      <td>0.703006</td>\n",
       "      <td>1.000000</td>\n",
       "      <td>1.000000</td>\n",
       "    </tr>\n",
       "    <tr>\n",
       "      <th>3</th>\n",
       "      <td>MN908947.3</td>\n",
       "      <td>1500</td>\n",
       "      <td>2000</td>\n",
       "      <td>500</td>\n",
       "      <td>3</td>\n",
       "      <td>85</td>\n",
       "      <td>1.421262</td>\n",
       "      <td>2.117505</td>\n",
       "      <td>0.176682</td>\n",
       "      <td>0.765651</td>\n",
       "    </tr>\n",
       "    <tr>\n",
       "      <th>4</th>\n",
       "      <td>MN908947.3</td>\n",
       "      <td>2000</td>\n",
       "      <td>2500</td>\n",
       "      <td>500</td>\n",
       "      <td>1</td>\n",
       "      <td>85</td>\n",
       "      <td>1.421262</td>\n",
       "      <td>0.703006</td>\n",
       "      <td>1.000000</td>\n",
       "      <td>1.000000</td>\n",
       "    </tr>\n",
       "  </tbody>\n",
       "</table>\n",
       "</div>"
      ],
      "text/plain": [
       "           id  start   end  len  count  tot_count  expected      odds  \\\n",
       "0  MN908947.3      0   500  500      1         85  1.421262  0.703006   \n",
       "1  MN908947.3    500  1000  500      0         85  1.421262  0.000000   \n",
       "2  MN908947.3   1000  1500  500      1         85  1.421262  0.703006   \n",
       "3  MN908947.3   1500  2000  500      3         85  1.421262  2.117505   \n",
       "4  MN908947.3   2000  2500  500      1         85  1.421262  0.703006   \n",
       "\n",
       "          p      padj  \n",
       "0  1.000000  1.000000  \n",
       "1  0.408347  0.765651  \n",
       "2  1.000000  1.000000  \n",
       "3  0.176682  0.765651  \n",
       "4  1.000000  1.000000  "
      ]
     },
     "execution_count": 126,
     "metadata": {},
     "output_type": "execute_result"
    }
   ],
   "source": [
    "r = enrich_in_sliding_windows(real_sites[real_sites.sense==\"+\"], genome, '24', 500)\n",
    "r.head()"
   ]
  },
  {
   "cell_type": "markdown",
   "metadata": {},
   "source": [
    "We select significantly enriched bins:"
   ]
  },
  {
   "cell_type": "code",
   "execution_count": 127,
   "metadata": {
    "scrolled": true
   },
   "outputs": [
    {
     "data": {
      "text/html": [
       "<div>\n",
       "<style scoped>\n",
       "    .dataframe tbody tr th:only-of-type {\n",
       "        vertical-align: middle;\n",
       "    }\n",
       "\n",
       "    .dataframe tbody tr th {\n",
       "        vertical-align: top;\n",
       "    }\n",
       "\n",
       "    .dataframe thead th {\n",
       "        text-align: right;\n",
       "    }\n",
       "</style>\n",
       "<table border=\"1\" class=\"dataframe\">\n",
       "  <thead>\n",
       "    <tr style=\"text-align: right;\">\n",
       "      <th></th>\n",
       "      <th>id</th>\n",
       "      <th>start</th>\n",
       "      <th>end</th>\n",
       "      <th>len</th>\n",
       "      <th>count</th>\n",
       "      <th>tot_count</th>\n",
       "      <th>expected</th>\n",
       "      <th>odds</th>\n",
       "      <th>p</th>\n",
       "      <th>padj</th>\n",
       "    </tr>\n",
       "  </thead>\n",
       "  <tbody>\n",
       "    <tr>\n",
       "      <th>59</th>\n",
       "      <td>MN908947.3</td>\n",
       "      <td>29500</td>\n",
       "      <td>29903</td>\n",
       "      <td>403</td>\n",
       "      <td>29</td>\n",
       "      <td>85</td>\n",
       "      <td>1.145537</td>\n",
       "      <td>27.20107</td>\n",
       "      <td>5.157308e-29</td>\n",
       "      <td>3.094385e-27</td>\n",
       "    </tr>\n",
       "  </tbody>\n",
       "</table>\n",
       "</div>"
      ],
      "text/plain": [
       "            id  start    end  len  count  tot_count  expected      odds  \\\n",
       "59  MN908947.3  29500  29903  403     29         85  1.145537  27.20107   \n",
       "\n",
       "               p          padj  \n",
       "59  5.157308e-29  3.094385e-27  "
      ]
     },
     "execution_count": 127,
     "metadata": {},
     "output_type": "execute_result"
    }
   ],
   "source": [
    "r[(r.padj<0.05) & (r.odds > 1)]"
   ]
  },
  {
   "cell_type": "markdown",
   "metadata": {},
   "source": [
    "and significantly depleted bins:"
   ]
  },
  {
   "cell_type": "code",
   "execution_count": 128,
   "metadata": {
    "scrolled": true
   },
   "outputs": [
    {
     "data": {
      "text/html": [
       "<div>\n",
       "<style scoped>\n",
       "    .dataframe tbody tr th:only-of-type {\n",
       "        vertical-align: middle;\n",
       "    }\n",
       "\n",
       "    .dataframe tbody tr th {\n",
       "        vertical-align: top;\n",
       "    }\n",
       "\n",
       "    .dataframe thead th {\n",
       "        text-align: right;\n",
       "    }\n",
       "</style>\n",
       "<table border=\"1\" class=\"dataframe\">\n",
       "  <thead>\n",
       "    <tr style=\"text-align: right;\">\n",
       "      <th></th>\n",
       "      <th>id</th>\n",
       "      <th>start</th>\n",
       "      <th>end</th>\n",
       "      <th>len</th>\n",
       "      <th>count</th>\n",
       "      <th>tot_count</th>\n",
       "      <th>expected</th>\n",
       "      <th>odds</th>\n",
       "      <th>p</th>\n",
       "      <th>padj</th>\n",
       "    </tr>\n",
       "  </thead>\n",
       "  <tbody>\n",
       "  </tbody>\n",
       "</table>\n",
       "</div>"
      ],
      "text/plain": [
       "Empty DataFrame\n",
       "Columns: [id, start, end, len, count, tot_count, expected, odds, p, padj]\n",
       "Index: []"
      ]
     },
     "execution_count": 128,
     "metadata": {},
     "output_type": "execute_result"
    }
   ],
   "source": [
    "r[(r.padj<0.05) & (r.odds < 1)]"
   ]
  },
  {
   "cell_type": "markdown",
   "metadata": {},
   "source": [
    "## Plot enrichment/depletion  in sliding windows"
   ]
  },
  {
   "cell_type": "code",
   "execution_count": 129,
   "metadata": {
    "tags": []
   },
   "outputs": [
    {
     "data": {
      "image/png": "[encoded data removed]",
      "text/plain": [
       "<Figure size 864x360 with 1 Axes>"
      ]
     },
     "metadata": {
      "needs_background": "light"
     },
     "output_type": "display_data"
    }
   ],
   "source": [
    "r['window'] = r.index\n",
    "r['sig'] = r.padj<0.05\n",
    "r['window_name'] = r.apply(lambda row: row.id + ':' + str(row.start)+'-'+str(row.end), axis=1)\n",
    "sliding_window_enrichment_plot(sliding_window_df=r, \n",
    "                            x_var='window', \n",
    "                            y_var='count', \n",
    "                            xticklabels='window_name', title='75')"
   ]
  },
  {
   "cell_type": "code",
   "execution_count": null,
   "metadata": {},
   "outputs": [],
   "source": []
  }
 ],
 "metadata": {
  "kernelspec": {
   "display_name": "Python (vir)",
   "language": "python",
   "name": "vir"
  },
  "language_info": {
   "codemirror_mode": {
    "name": "ipython",
    "version": 3
   },
   "file_extension": ".py",
   "mimetype": "text/x-python",
   "name": "python",
   "nbconvert_exporter": "python",
   "pygments_lexer": "ipython3",
   "version": "3.7.10"
  }
 },
 "nbformat": 4,
 "nbformat_minor": 4
}
